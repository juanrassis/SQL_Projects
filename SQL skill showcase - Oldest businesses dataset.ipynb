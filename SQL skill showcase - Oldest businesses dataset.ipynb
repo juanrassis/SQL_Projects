{
    "metadata": {
        "kernelspec": {
            "name": "SQL",
            "display_name": "SQL",
            "language": "sql"
        },
        "language_info": {
            "name": "sql",
            "version": ""
        }
    },
    "nbformat_minor": 2,
    "nbformat": 4,
    "cells": [
        {
            "cell_type": "markdown",
            "source": [
                "# **What and Where are the World's Oldest Businesses**\n",
                "\n",
                "![Intro Image](.\\datasets\\oldest.jpg)\n",
                "\n",
                "An important part of business is planning for the future and ensuring that the business survives changing market conditions. Some businesses do this remarkably well and last for hundreds of years. In this project, you'll explore data from BusinessFinancing.co.uk on the world's oldest businesses: when were they founded, and which industries do they belong to?\n",
                "\n",
                "Like many business problems, the data we'll explore is contained in several different datasets. In order to understand the world's oldest businesses, we will first need to use joining techniques to merge our data. From there, we can use manipulation tools such as grouping and filtering to answer questions about these historic businesses.\n",
                "\n",
                "![Database Schema](.\\datasets\\Schema.jpg)"
            ],
            "metadata": {
                "azdata_cell_guid": "3d2f49ae-a939-4562-ac39-975d4d82d03d"
            },
            "attachments": {}
        },
        {
            "cell_type": "markdown",
            "source": [
                "# **SUMMARY OF QUESTIONS AND TASKS**\n",
                "\n",
                "### <span style=\"font-size: 14px;\">TASK 1: JOINING ALL TABLES FOR DATASET OVERVIEW</span>\n",
                "\n",
                "TASK 2: INVESTIGATING MISSING DATA AND RANGE OF DATA POINTS\n",
                "\n",
                "### **FIRST DISCOVERY - THE OLDEST BUSINESSES AND THOSE BEFORE 1,000 A.C.**\n",
                "\n",
                "TASK 3: HOW MANY AND WHICH BUSINESSES WERE FOUND BEFORE 1000?\n",
                "\n",
                "TASK 4  \n",
                "\n",
                "### **FIRST IN-DEPTH ANALYSIS**\n",
                "\n",
                "**Q5**\n",
                "\n",
                "**Q6**\n",
                "\n",
                "### **SECOND DISCOVERY**\n",
                "\n",
                "**Q7**\n",
                "\n",
                "**Q8**\n",
                "\n",
                "**Q9**\n",
                "\n",
                "**Q10**"
            ],
            "metadata": {
                "azdata_cell_guid": "e01ed375-49f5-464c-9b23-6d6fdc58e572"
            },
            "attachments": {}
        },
        {
            "cell_type": "markdown",
            "source": [
                "## **<u>TASK 1: JOINING ALL TABLES FOR DATASET OVERVIEW</u>**\n",
                "\n",
                "Since the database is splitted into 3 tables, it is key to have a clear overview of the relevant fields and records and to learn how they interact and give context to each other."
            ],
            "metadata": {
                "azdata_cell_guid": "26b14f7c-7a00-453f-8395-141435faddbb"
            },
            "attachments": {}
        },
        {
            "cell_type": "code",
            "source": [
                "/* I decided to insert \"TOP #\" to reduce the redudancy of generated\r\n",
                "records only for the sake of this project showcase. */\r\n",
                "SELECT TOP 5 business, year_founded, category, country, continent\r\n",
                "FROM businesses b\r\n",
                "    JOIN categories c1 ON b.category_code = c1.category_code\r\n",
                "    JOIN countries c2 ON b.country_code = c2.country_code"
            ],
            "metadata": {
                "azdata_cell_guid": "d413f733-369f-4d67-b62f-f63ad978d5b7",
                "language": "sql",
                "tags": []
            },
            "outputs": [
                {
                    "output_type": "display_data",
                    "data": {
                        "text/html": "(5 rows affected)"
                    },
                    "metadata": {}
                },
                {
                    "output_type": "display_data",
                    "data": {
                        "text/html": "Total execution time: 00:00:00.025"
                    },
                    "metadata": {}
                },
                {
                    "output_type": "execute_result",
                    "metadata": {},
                    "execution_count": 48,
                    "data": {
                        "application/vnd.dataresource+json": {
                            "schema": {
                                "fields": [
                                    {
                                        "name": "business"
                                    },
                                    {
                                        "name": "year_founded"
                                    },
                                    {
                                        "name": "category"
                                    },
                                    {
                                        "name": "country"
                                    },
                                    {
                                        "name": "continent"
                                    }
                                ]
                            },
                            "data": [
                                {
                                    "0": "1st National Bank of St Lucia",
                                    "1": "1938",
                                    "2": "Banking & Finance",
                                    "3": "Saint Lucia",
                                    "4": "North America"
                                },
                                {
                                    "0": "Affligem Brewery",
                                    "1": "1074",
                                    "2": "Distillers, Vintners, & Breweries",
                                    "3": "Belgium",
                                    "4": "Europe"
                                },
                                {
                                    "0": "Air Burkina",
                                    "1": "1967",
                                    "2": "Aviation & Transport",
                                    "3": "Burkina Faso",
                                    "4": "Africa"
                                },
                                {
                                    "0": "Air Madagascar",
                                    "1": "1962",
                                    "2": "Aviation & Transport",
                                    "3": "Madagascar",
                                    "4": "Africa"
                                },
                                {
                                    "0": "Air Seychelles",
                                    "1": "1977",
                                    "2": "Aviation & Transport",
                                    "3": "Seychelles",
                                    "4": "Asia"
                                }
                            ]
                        },
                        "text/html": [
                            "<table>",
                            "<tr><th>business</th><th>year_founded</th><th>category</th><th>country</th><th>continent</th></tr>",
                            "<tr><td>1st National Bank of St Lucia</td><td>1938</td><td>Banking &amp; Finance</td><td>Saint Lucia</td><td>North America</td></tr>",
                            "<tr><td>Affligem Brewery</td><td>1074</td><td>Distillers, Vintners, &amp; Breweries</td><td>Belgium</td><td>Europe</td></tr>",
                            "<tr><td>Air Burkina</td><td>1967</td><td>Aviation &amp; Transport</td><td>Burkina Faso</td><td>Africa</td></tr>",
                            "<tr><td>Air Madagascar</td><td>1962</td><td>Aviation &amp; Transport</td><td>Madagascar</td><td>Africa</td></tr>",
                            "<tr><td>Air Seychelles</td><td>1977</td><td>Aviation &amp; Transport</td><td>Seychelles</td><td>Asia</td></tr>",
                            "</table>"
                        ]
                    }
                }
            ],
            "execution_count": 48
        },
        {
            "cell_type": "markdown",
            "source": [
                "**COMMENT ON THE RESULT:** The dataset seems pretty clean and consistent with the fields making noticable sense when compiled together."
            ],
            "metadata": {
                "language": "sql",
                "azdata_cell_guid": "66dff776-a803-4753-80fa-5efa13b7704e"
            },
            "attachments": {}
        },
        {
            "cell_type": "markdown",
            "source": [
                "## **<u>TASK 2: INVESTIGATING MISSING DATA AND RANGE OF DATA POINTS</u>**"
            ],
            "metadata": {
                "language": "sql",
                "azdata_cell_guid": "bfc4887a-43ca-4762-a268-08679ea8c50e"
            },
            "attachments": {}
        },
        {
            "cell_type": "markdown",
            "source": [
                "### **SUBTASK 2-1: Checking for null values.**"
            ],
            "metadata": {
                "language": "sql",
                "azdata_cell_guid": "d53b314a-2569-435b-86fb-a52097a6db34"
            },
            "attachments": {}
        },
        {
            "cell_type": "code",
            "source": [
                "SELECT -- Below it's a logic expression to count the number of null values in each column.\r\n",
                "    SUM(case when business is null then 1 else 0 end) AS business, \r\n",
                "    SUM(case when year_founded is null then 1 else 0 end) AS year_founded, \r\n",
                "    SUM(case when b.country_code is null then 1 else 0 end) AS country_code,\r\n",
                "    SUM(case when country is null then 1 else 0 end) AS country,\r\n",
                "    SUM(case when continent is null then 1 else 0 end) AS continent,\r\n",
                "    SUM(case when b.category_code is null then 1 else 0 end) AS category_code,\r\n",
                "    SUM(case when category is null then 1 else 0 end) AS category\r\n",
                "FROM businesses b\r\n",
                "    LEFT JOIN categories c1 ON b.category_code = c1.category_code\r\n",
                "        LEFT JOIN countries c2  ON b.country_code = c2.country_code"
            ],
            "metadata": {
                "language": "sql",
                "azdata_cell_guid": "f2f97190-8608-4e19-a201-908e3f751cfb",
                "tags": []
            },
            "outputs": [
                {
                    "output_type": "display_data",
                    "data": {
                        "text/html": "(1 row affected)"
                    },
                    "metadata": {}
                },
                {
                    "output_type": "display_data",
                    "data": {
                        "text/html": "Total execution time: 00:00:00.065"
                    },
                    "metadata": {}
                },
                {
                    "output_type": "execute_result",
                    "metadata": {},
                    "execution_count": 42,
                    "data": {
                        "application/vnd.dataresource+json": {
                            "schema": {
                                "fields": [
                                    {
                                        "name": "business"
                                    },
                                    {
                                        "name": "year_founded"
                                    },
                                    {
                                        "name": "country_code"
                                    },
                                    {
                                        "name": "country"
                                    },
                                    {
                                        "name": "continent"
                                    },
                                    {
                                        "name": "category_code"
                                    },
                                    {
                                        "name": "category"
                                    }
                                ]
                            },
                            "data": [
                                {
                                    "0": "0",
                                    "1": "0",
                                    "2": "0",
                                    "3": "0",
                                    "4": "0",
                                    "5": "0",
                                    "6": "0"
                                }
                            ]
                        },
                        "text/html": [
                            "<table>",
                            "<tr><th>business</th><th>year_founded</th><th>country_code</th><th>country</th><th>continent</th><th>category_code</th><th>category</th></tr>",
                            "<tr><td>0</td><td>0</td><td>0</td><td>0</td><td>0</td><td>0</td><td>0</td></tr>",
                            "</table>"
                        ]
                    }
                }
            ],
            "execution_count": 42
        },
        {
            "cell_type": "markdown",
            "source": [
                "### **SUBTASK 2-2: Calculating summary statistics.**\n",
                "\n",
                "To calculate the extreme points of the YEAR\\_FOUNDED field I will be applying a SELF-JOIN to enable me to make calculations and obtain different results from the same column."
            ],
            "metadata": {
                "azdata_cell_guid": "8ae4d0e3-113a-4783-9338-e1f62f638687"
            },
            "attachments": {}
        },
        {
            "cell_type": "code",
            "source": [
                "SELECT MIN(b1.year_founded) AS minimum,\r\n",
                "       MAX(b2.year_founded) AS maximum,\r\n",
                "       AVG(b3.year_founded) AS median,\r\n",
                "       ROUND(STDEVP(b4.year_founded),2) AS standard_deviation\r\n",
                "FROM businesses b1\r\n",
                "    JOIN businesses b2 ON b1.business = b2.business -- (SELF-JOIN 1 for calculating the maximum value)\r\n",
                "    JOIN businesses b3 ON b2.business = b3.business -- (SELF-JOIN 2 for median value)\r\n",
                "    JOIN businesses b4 ON b3.business = b4.business -- (SELF-JOIN 3 for standard deviation)"
            ],
            "metadata": {
                "azdata_cell_guid": "7bc8b159-3f95-4a30-8360-0f7758bf06a0",
                "language": "sql",
                "tags": []
            },
            "outputs": [
                {
                    "output_type": "display_data",
                    "data": {
                        "text/html": "(1 row affected)"
                    },
                    "metadata": {}
                },
                {
                    "output_type": "display_data",
                    "data": {
                        "text/html": "Total execution time: 00:00:00.011"
                    },
                    "metadata": {}
                },
                {
                    "output_type": "execute_result",
                    "metadata": {},
                    "execution_count": 41,
                    "data": {
                        "application/vnd.dataresource+json": {
                            "schema": {
                                "fields": [
                                    {
                                        "name": "minimum"
                                    },
                                    {
                                        "name": "maximum"
                                    },
                                    {
                                        "name": "median"
                                    },
                                    {
                                        "name": "standard_deviation"
                                    }
                                ]
                            },
                            "data": [
                                {
                                    "0": "578",
                                    "1": "1999",
                                    "2": "1775",
                                    "3": "275.86"
                                }
                            ]
                        },
                        "text/html": [
                            "<table>",
                            "<tr><th>minimum</th><th>maximum</th><th>median</th><th>standard_deviation</th></tr>",
                            "<tr><td>578</td><td>1999</td><td>1775</td><td>275.86</td></tr>",
                            "</table>"
                        ]
                    }
                }
            ],
            "execution_count": 41
        },
        {
            "cell_type": "markdown",
            "source": [
                "**COMMENT ON THE RESULT:** It seems that there is a high variation of founding years between countries. In one country, the oldest business was only founded in 1999. By contrast, the oldest business in the world was founded back in 578. That's pretty incredible that a business has survived for more than a millennium. However, with a median standing at the top of the data range and a standard deviation suggesting that the data is spread out, I decided to push further using an Azure extension called SandDance to help me visualise the data points distribution. And as one can notice below, the majority of the oldest businesses per country do not hold a resilience longer than 200 years, making countries in continent such as Europe look as a role model for long-standing business.\n",
                "\n",
                "![Database Schema](.\\datasets\\year_distribution.jpg)"
            ],
            "metadata": {
                "language": "sql",
                "azdata_cell_guid": "a51bccba-f165-4042-a209-6b3eea0d02e4"
            },
            "attachments": {}
        },
        {
            "cell_type": "markdown",
            "source": [
                "## **<u>TASK 3: HOW MANY AND WHICH BUSINESSES WERE FOUND BEFORE 1000?</u>**\n",
                "\n",
                "Now that we got a notion of the data we are working with, let's investigate further into the oldest businesses in the world to look for some interesting patterns."
            ],
            "metadata": {
                "azdata_cell_guid": "a34508b4-592d-4f38-8b47-792765e483f0"
            },
            "attachments": {}
        },
        {
            "cell_type": "code",
            "source": [
                "SELECT b.business, b.year_founded, c2.country, c1.category\r\n",
                "FROM businesses b\r\n",
                "    JOIN categories c1 ON b.category_code = c1.category_code\r\n",
                "    JOIN countries c2 ON b.country_code = c2.country_code\r\n",
                "WHERE b.year_founded < 1000\r\n",
                "ORDER BY b.year_founded;"
            ],
            "metadata": {
                "language": "sql",
                "azdata_cell_guid": "00fa4a06-e9f9-4004-b0e5-b5a16f010f41"
            },
            "outputs": [
                {
                    "output_type": "display_data",
                    "data": {
                        "text/html": "(6 rows affected)"
                    },
                    "metadata": {}
                },
                {
                    "output_type": "display_data",
                    "data": {
                        "text/html": "Total execution time: 00:00:00.025"
                    },
                    "metadata": {}
                },
                {
                    "output_type": "execute_result",
                    "metadata": {},
                    "execution_count": 43,
                    "data": {
                        "application/vnd.dataresource+json": {
                            "schema": {
                                "fields": [
                                    {
                                        "name": "business"
                                    },
                                    {
                                        "name": "year_founded"
                                    },
                                    {
                                        "name": "country"
                                    },
                                    {
                                        "name": "category"
                                    }
                                ]
                            },
                            "data": [
                                {
                                    "0": "Kongo Gumi",
                                    "1": "578",
                                    "2": "Japan",
                                    "3": "Construction"
                                },
                                {
                                    "0": "St. Peter Stifts Kulinarium",
                                    "1": "803",
                                    "2": "Austria",
                                    "3": "Cafés, Restaurants & Bars"
                                },
                                {
                                    "0": "Staffelter Hof Winery",
                                    "1": "862",
                                    "2": "Germany",
                                    "3": "Distillers, Vintners, & Breweries"
                                },
                                {
                                    "0": "Monnaie de Paris ",
                                    "1": "864",
                                    "2": "France",
                                    "3": "Manufacturing & Production"
                                },
                                {
                                    "0": "The Royal Mint",
                                    "1": "886",
                                    "2": "United Kingdom",
                                    "3": "Manufacturing & Production"
                                },
                                {
                                    "0": "Sean's Bar",
                                    "1": "900",
                                    "2": "Ireland",
                                    "3": "Cafés, Restaurants & Bars"
                                }
                            ]
                        },
                        "text/html": [
                            "<table>",
                            "<tr><th>business</th><th>year_founded</th><th>country</th><th>category</th></tr>",
                            "<tr><td>Kongo Gumi</td><td>578</td><td>Japan</td><td>Construction</td></tr>",
                            "<tr><td>St. Peter Stifts Kulinarium</td><td>803</td><td>Austria</td><td>Cafés, Restaurants &amp; Bars</td></tr>",
                            "<tr><td>Staffelter Hof Winery</td><td>862</td><td>Germany</td><td>Distillers, Vintners, &amp; Breweries</td></tr>",
                            "<tr><td>Monnaie de Paris </td><td>864</td><td>France</td><td>Manufacturing &amp; Production</td></tr>",
                            "<tr><td>The Royal Mint</td><td>886</td><td>United Kingdom</td><td>Manufacturing &amp; Production</td></tr>",
                            "<tr><td>Sean's Bar</td><td>900</td><td>Ireland</td><td>Cafés, Restaurants &amp; Bars</td></tr>",
                            "</table>"
                        ]
                    }
                }
            ],
            "execution_count": 43
        },
        {
            "cell_type": "markdown",
            "source": [
                "**COMMENT ON THE RESULT:** With that extra detail about the oldest businesses, we can see that Kongō Gumi is a construction company and the oldest continuously operating company in the world. Founded in Japan a mere century after the fall of the Roman Empire, it survived extreme changes in Japan’s culture, government and economy, preserving traditional construction techniques and family values for over 1,400 years. Additionally, in that list of six businesses, we also see a café, a winery, and a bar. And the two companies recorded as \"Manufacturing and Production\" are both mints, that is, they produce currency."
            ],
            "metadata": {
                "language": "sql",
                "azdata_cell_guid": "9a0f6b62-e10d-4e0a-ad76-525292975fdd"
            },
            "attachments": {}
        },
        {
            "cell_type": "markdown",
            "source": [
                "## **TASK 3: What are most the long standing categories?**"
            ],
            "metadata": {
                "language": "sql",
                "azdata_cell_guid": "9a5d2679-a44d-4667-bbc5-9badc95ee327"
            },
            "attachments": {}
        },
        {
            "cell_type": "code",
            "source": [
                "SELECT TOP 5 category, COUNT(business) AS n, AVG(year_founded) AS avg_year\r\n",
                "FROM categories c\r\n",
                "    JOIN businesses b\r\n",
                "    ON c.category_code = b.category_code\r\n",
                "GROUP BY category\r\n",
                "ORDER BY n DESC"
            ],
            "metadata": {
                "language": "sql",
                "azdata_cell_guid": "23ff8d36-0856-4048-bfe4-3ba2bb7ff909"
            },
            "outputs": [
                {
                    "output_type": "display_data",
                    "data": {
                        "text/html": "(5 rows affected)"
                    },
                    "metadata": {}
                },
                {
                    "output_type": "display_data",
                    "data": {
                        "text/html": "Total execution time: 00:00:00.010"
                    },
                    "metadata": {}
                },
                {
                    "output_type": "execute_result",
                    "metadata": {},
                    "execution_count": 49,
                    "data": {
                        "application/vnd.dataresource+json": {
                            "schema": {
                                "fields": [
                                    {
                                        "name": "category"
                                    },
                                    {
                                        "name": "n"
                                    },
                                    {
                                        "name": "avg_year"
                                    }
                                ]
                            },
                            "data": [
                                {
                                    "0": "Banking & Finance",
                                    "1": "37",
                                    "2": "1900"
                                },
                                {
                                    "0": "Distillers, Vintners, & Breweries",
                                    "1": "22",
                                    "2": "1695"
                                },
                                {
                                    "0": "Aviation & Transport",
                                    "1": "19",
                                    "2": "1926"
                                },
                                {
                                    "0": "Postal Service",
                                    "1": "16",
                                    "2": "1819"
                                },
                                {
                                    "0": "Manufacturing & Production",
                                    "1": "15",
                                    "2": "1456"
                                }
                            ]
                        },
                        "text/html": [
                            "<table>",
                            "<tr><th>category</th><th>n</th><th>avg_year</th></tr>",
                            "<tr><td>Banking &amp; Finance</td><td>37</td><td>1900</td></tr>",
                            "<tr><td>Distillers, Vintners, &amp; Breweries</td><td>22</td><td>1695</td></tr>",
                            "<tr><td>Aviation &amp; Transport</td><td>19</td><td>1926</td></tr>",
                            "<tr><td>Postal Service</td><td>16</td><td>1819</td></tr>",
                            "<tr><td>Manufacturing &amp; Production</td><td>15</td><td>1456</td></tr>",
                            "</table>"
                        ]
                    }
                }
            ],
            "execution_count": 49
        },
        {
            "cell_type": "code",
            "source": [
                "SELECT continent, country, category, year_founded, business\r\n",
                "FROM businesses b\r\n",
                "    JOIN countries c1  ON b.country_code = c1.country_code\r\n",
                "    JOIN categories c2 ON b.category_code = c2.category_code\r\n",
                "WHERE year_founded IN -- SUBQUERY 1 [START]\r\n",
                "                    (SELECT MIN(year_founded)\r\n",
                "                     FROM -- subquery 2 [start]\r\n",
                "                        (SELECT continent, business, year_founded\r\n",
                "                         FROM businesses b JOIN countries c\r\n",
                "                         ON b.country_code = c.country_code) AS subquery\r\n",
                "                          -- subquery 2 [end]\r\n",
                "                     GROUP BY continent)\r\n",
                "                      -- SUBQUERY 1 [END]\r\n",
                "ORDER BY year_founded;"
            ],
            "metadata": {
                "language": "sql",
                "azdata_cell_guid": "8894cbb7-1bcc-4d64-b5f7-f4b3b1f6e833",
                "tags": []
            },
            "outputs": [
                {
                    "output_type": "display_data",
                    "data": {
                        "text/html": "(6 rows affected)"
                    },
                    "metadata": {}
                },
                {
                    "output_type": "display_data",
                    "data": {
                        "text/html": "Total execution time: 00:00:00.037"
                    },
                    "metadata": {}
                },
                {
                    "output_type": "execute_result",
                    "metadata": {},
                    "execution_count": 56,
                    "data": {
                        "application/vnd.dataresource+json": {
                            "schema": {
                                "fields": [
                                    {
                                        "name": "continent"
                                    },
                                    {
                                        "name": "country"
                                    },
                                    {
                                        "name": "category"
                                    },
                                    {
                                        "name": "year_founded"
                                    },
                                    {
                                        "name": "business"
                                    }
                                ]
                            },
                            "data": [
                                {
                                    "0": "Asia",
                                    "1": "Japan",
                                    "2": "Construction",
                                    "3": "578",
                                    "4": "Kongo Gumi"
                                },
                                {
                                    "0": "Europe",
                                    "1": "Austria",
                                    "2": "Cafés, Restaurants & Bars",
                                    "3": "803",
                                    "4": "St. Peter Stifts Kulinarium"
                                },
                                {
                                    "0": "North America",
                                    "1": "Mexico",
                                    "2": "Manufacturing & Production",
                                    "3": "1534",
                                    "4": "La Casa de Moneda de México"
                                },
                                {
                                    "0": "South America",
                                    "1": "Peru",
                                    "2": "Banking & Finance",
                                    "3": "1565",
                                    "4": "Casa Nacional de Moneda"
                                },
                                {
                                    "0": "Africa",
                                    "1": "Mauritius",
                                    "2": "Postal Service",
                                    "3": "1772",
                                    "4": "Mauritius Post"
                                },
                                {
                                    "0": "Oceania",
                                    "1": "Australia",
                                    "2": "Postal Service",
                                    "3": "1809",
                                    "4": "Australia Post"
                                }
                            ]
                        },
                        "text/html": [
                            "<table>",
                            "<tr><th>continent</th><th>country</th><th>category</th><th>year_founded</th><th>business</th></tr>",
                            "<tr><td>Asia</td><td>Japan</td><td>Construction</td><td>578</td><td>Kongo Gumi</td></tr>",
                            "<tr><td>Europe</td><td>Austria</td><td>Cafés, Restaurants &amp; Bars</td><td>803</td><td>St. Peter Stifts Kulinarium</td></tr>",
                            "<tr><td>North America</td><td>Mexico</td><td>Manufacturing &amp; Production</td><td>1534</td><td>La Casa de Moneda de México</td></tr>",
                            "<tr><td>South America</td><td>Peru</td><td>Banking &amp; Finance</td><td>1565</td><td>Casa Nacional de Moneda</td></tr>",
                            "<tr><td>Africa</td><td>Mauritius</td><td>Postal Service</td><td>1772</td><td>Mauritius Post</td></tr>",
                            "<tr><td>Oceania</td><td>Australia</td><td>Postal Service</td><td>1809</td><td>Australia Post</td></tr>",
                            "</table>"
                        ]
                    }
                }
            ],
            "execution_count": 56
        },
        {
            "cell_type": "markdown",
            "source": [
                "### **Q?) Which are the most common categories for the oldest businesses on each continent?**\n",
                "\n",
                "Having businesses joined to categories and countries together means we can ask questions about both these things together."
            ],
            "metadata": {
                "language": "sql",
                "azdata_cell_guid": "55c4fc43-bd44-4f6b-8405-58da617e1435"
            },
            "attachments": {}
        },
        {
            "cell_type": "code",
            "source": [
                "SELECT continent, category, COUNT(business) AS n\r\n",
                "FROM businesses b\r\n",
                "    JOIN countries c1  ON b.country_code = c1.country_code\r\n",
                "    JOIN categories c2 ON b.category_code = c2.category_code\r\n",
                "GROUP BY continent, category\r\n",
                "HAVING COUNT(business) IN -- SUBQUERY 1 [START]\r\n",
                "                    (SELECT MIN(year_founded)\r\n",
                "                     FROM -- subquery 2 [start]\r\n",
                "                        (SELECT continent, business, year_founded\r\n",
                "                         FROM businesses b JOIN countries c\r\n",
                "                         ON b.country_code = c.country_code) AS subquery\r\n",
                "                          -- subquery 2 [end]\r\n",
                "                     GROUP BY continent)\r\n",
                "                      -- SUBQUERY 1 [END]\r\n",
                "ORDER BY year_founded;"
            ],
            "metadata": {
                "language": "sql",
                "azdata_cell_guid": "a2ad3859-a17f-432b-a297-d76669db6d18"
            },
            "outputs": [],
            "execution_count": null
        },
        {
            "cell_type": "code",
            "source": [
                "SELECT continent, category, COUNT(business) AS n\r\n",
                "FROM businesses b\r\n",
                "    JOIN categories c1\r\n",
                "    ON b.category_code = c1.category_code\r\n",
                "        JOIN countries c2\r\n",
                "        ON b.country_code = c2.country_code\r\n",
                "GROUP BY continent, category\r\n",
                "HAVING COUNT(business) > 5\r\n",
                "ORDER BY n DESC"
            ],
            "metadata": {
                "azdata_cell_guid": "c75ede58-ebab-423f-9f5d-f10b3203fd5e",
                "language": "sql"
            },
            "outputs": [
                {
                    "output_type": "display_data",
                    "data": {
                        "text/html": "(7 rows affected)"
                    },
                    "metadata": {}
                },
                {
                    "output_type": "display_data",
                    "data": {
                        "text/html": "Total execution time: 00:00:00.008"
                    },
                    "metadata": {}
                },
                {
                    "output_type": "execute_result",
                    "metadata": {},
                    "execution_count": 55,
                    "data": {
                        "application/vnd.dataresource+json": {
                            "schema": {
                                "fields": [
                                    {
                                        "name": "continent"
                                    },
                                    {
                                        "name": "category"
                                    },
                                    {
                                        "name": "n"
                                    }
                                ]
                            },
                            "data": [
                                {
                                    "0": "Africa",
                                    "1": "Banking & Finance",
                                    "2": "17"
                                },
                                {
                                    "0": "Europe",
                                    "1": "Distillers, Vintners, & Breweries",
                                    "2": "12"
                                },
                                {
                                    "0": "Africa",
                                    "1": "Aviation & Transport",
                                    "2": "10"
                                },
                                {
                                    "0": "Africa",
                                    "1": "Postal Service",
                                    "2": "9"
                                },
                                {
                                    "0": "Europe",
                                    "1": "Manufacturing & Production",
                                    "2": "8"
                                },
                                {
                                    "0": "Asia",
                                    "1": "Aviation & Transport",
                                    "2": "7"
                                },
                                {
                                    "0": "Asia",
                                    "1": "Banking & Finance",
                                    "2": "6"
                                }
                            ]
                        },
                        "text/html": [
                            "<table>",
                            "<tr><th>continent</th><th>category</th><th>n</th></tr>",
                            "<tr><td>Africa</td><td>Banking &amp; Finance</td><td>17</td></tr>",
                            "<tr><td>Europe</td><td>Distillers, Vintners, &amp; Breweries</td><td>12</td></tr>",
                            "<tr><td>Africa</td><td>Aviation &amp; Transport</td><td>10</td></tr>",
                            "<tr><td>Africa</td><td>Postal Service</td><td>9</td></tr>",
                            "<tr><td>Europe</td><td>Manufacturing &amp; Production</td><td>8</td></tr>",
                            "<tr><td>Asia</td><td>Aviation &amp; Transport</td><td>7</td></tr>",
                            "<tr><td>Asia</td><td>Banking &amp; Finance</td><td>6</td></tr>",
                            "</table>"
                        ]
                    }
                }
            ],
            "execution_count": 55
        },
        {
            "cell_type": "code",
            "source": [
                "SELECT TOP 10 business, category, year_founded\r\n",
                "FROM businesses b\r\n",
                "    JOIN categories c\r\n",
                "    ON b.category_code = c.category_code\r\n",
                "WHERE country_code IN\r\n",
                "              (SELECT country_code FROM countries\r\n",
                "               WHERE continent = 'Africa')\r\n",
                "ORDER BY year_founded   "
            ],
            "metadata": {
                "language": "sql",
                "azdata_cell_guid": "16d1ca8d-8b01-4b83-92c6-256cfce59744"
            },
            "outputs": [
                {
                    "output_type": "display_data",
                    "data": {
                        "text/html": "(10 rows affected)"
                    },
                    "metadata": {}
                },
                {
                    "output_type": "display_data",
                    "data": {
                        "text/html": "Total execution time: 00:00:00.025"
                    },
                    "metadata": {}
                },
                {
                    "output_type": "execute_result",
                    "execution_count": 19,
                    "data": {
                        "application/vnd.dataresource+json": {
                            "schema": {
                                "fields": [
                                    {
                                        "name": "business"
                                    },
                                    {
                                        "name": "category"
                                    },
                                    {
                                        "name": "year_founded"
                                    }
                                ]
                            },
                            "data": [
                                {
                                    "0": "Mauritius Post",
                                    "1": "Postal Service",
                                    "2": "1772"
                                },
                                {
                                    "0": "NamPost",
                                    "1": "Postal Service",
                                    "2": "1814"
                                },
                                {
                                    "0": "Premier FMCG",
                                    "1": "Manufacturing & Production",
                                    "2": "1820"
                                },
                                {
                                    "0": "La Poste Tunisienne",
                                    "1": "Postal Service",
                                    "2": "1847"
                                },
                                {
                                    "0": "Correios de Cabo Verde",
                                    "1": "Postal Service",
                                    "2": "1849"
                                },
                                {
                                    "0": "Egyptian National Railways",
                                    "1": "Aviation & Transport",
                                    "2": "1854"
                                },
                                {
                                    "0": "Hamoud Boualem",
                                    "1": "Food & Beverages",
                                    "2": "1878"
                                },
                                {
                                    "0": "La Poste du Togo",
                                    "1": "Postal Service",
                                    "2": "1883"
                                },
                                {
                                    "0": "Société nationale des Chemins de fer du Congo",
                                    "1": "Aviation & Transport",
                                    "2": "1889"
                                },
                                {
                                    "0": "Beira Railroad Corporation",
                                    "1": "Aviation & Transport",
                                    "2": "1892"
                                }
                            ]
                        },
                        "text/html": "<table><tr><th>business</th><th>category</th><th>year_founded</th></tr><tr><td>Mauritius Post</td><td>Postal Service</td><td>1772</td></tr><tr><td>NamPost</td><td>Postal Service</td><td>1814</td></tr><tr><td>Premier FMCG</td><td>Manufacturing &amp; Production</td><td>1820</td></tr><tr><td>La Poste Tunisienne</td><td>Postal Service</td><td>1847</td></tr><tr><td>Correios de Cabo Verde</td><td>Postal Service</td><td>1849</td></tr><tr><td>Egyptian National Railways</td><td>Aviation &amp; Transport</td><td>1854</td></tr><tr><td>Hamoud Boualem</td><td>Food &amp; Beverages</td><td>1878</td></tr><tr><td>La Poste du Togo</td><td>Postal Service</td><td>1883</td></tr><tr><td>Société nationale des Chemins de fer du Congo</td><td>Aviation &amp; Transport</td><td>1889</td></tr><tr><td>Beira Railroad Corporation</td><td>Aviation &amp; Transport</td><td>1892</td></tr></table>"
                    },
                    "metadata": {}
                }
            ],
            "execution_count": 19
        },
        {
            "cell_type": "code",
            "source": [
                "SELECT  continent, category, COUNT(business) AS n\r\n",
                "FROM businesses b\r\n",
                "    JOIN categories c1\r\n",
                "    ON b.category_code = c1.category_code\r\n",
                "        JOIN countries c2\r\n",
                "        ON b.country_code = c2.country_code\r\n",
                "GROUP BY continent, category\r\n",
                "HAVING COUNT(business) > 5\r\n",
                "ORDER BY n DESC"
            ],
            "metadata": {
                "language": "sql",
                "azdata_cell_guid": "f9f48d02-88f6-43ad-9bfd-f9757d200991"
            },
            "outputs": [
                {
                    "output_type": "display_data",
                    "data": {
                        "text/html": "(7 rows affected)"
                    },
                    "metadata": {}
                },
                {
                    "output_type": "display_data",
                    "data": {
                        "text/html": "Total execution time: 00:00:00.103"
                    },
                    "metadata": {}
                },
                {
                    "output_type": "execute_result",
                    "execution_count": 1,
                    "data": {
                        "application/vnd.dataresource+json": {
                            "schema": {
                                "fields": [
                                    {
                                        "name": "continent"
                                    },
                                    {
                                        "name": "category"
                                    },
                                    {
                                        "name": "n"
                                    }
                                ]
                            },
                            "data": [
                                {
                                    "0": "Africa",
                                    "1": "Banking & Finance",
                                    "2": "17"
                                },
                                {
                                    "0": "Europe",
                                    "1": "Distillers, Vintners, & Breweries",
                                    "2": "12"
                                },
                                {
                                    "0": "Africa",
                                    "1": "Aviation & Transport",
                                    "2": "10"
                                },
                                {
                                    "0": "Africa",
                                    "1": "Postal Service",
                                    "2": "9"
                                },
                                {
                                    "0": "Europe",
                                    "1": "Manufacturing & Production",
                                    "2": "8"
                                },
                                {
                                    "0": "Asia",
                                    "1": "Aviation & Transport",
                                    "2": "7"
                                },
                                {
                                    "0": "Asia",
                                    "1": "Banking & Finance",
                                    "2": "6"
                                }
                            ]
                        },
                        "text/html": "<table><tr><th>continent</th><th>category</th><th>n</th></tr><tr><td>Africa</td><td>Banking &amp; Finance</td><td>17</td></tr><tr><td>Europe</td><td>Distillers, Vintners, &amp; Breweries</td><td>12</td></tr><tr><td>Africa</td><td>Aviation &amp; Transport</td><td>10</td></tr><tr><td>Africa</td><td>Postal Service</td><td>9</td></tr><tr><td>Europe</td><td>Manufacturing &amp; Production</td><td>8</td></tr><tr><td>Asia</td><td>Aviation &amp; Transport</td><td>7</td></tr><tr><td>Asia</td><td>Banking &amp; Finance</td><td>6</td></tr></table>"
                    },
                    "metadata": {}
                }
            ],
            "execution_count": 1
        },
        {
            "cell_type": "markdown",
            "source": [
                "hi\r\n",
                "\r\n",
                "  ![title](.\\datasets\\visual1.jpg)"
            ],
            "metadata": {
                "language": "sql",
                "azdata_cell_guid": "fc4c6e84-dc5d-4f49-8e06-2f65ca5dd97e"
            },
            "attachments": {}
        },
        {
            "cell_type": "code",
            "source": [
                "SELECT country, category, business, year_founded\r\n",
                "FROM businesses b\r\n",
                "    JOIN categories c1\r\n",
                "    ON b.category_code = c1.category_code\r\n",
                "        JOIN countries c2\r\n",
                "        ON b.country_code = c2.country_code\r\n",
                "WHERE continent = 'Asia'\r\n",
                "ORDER BY year_founded"
            ],
            "metadata": {
                "language": "sql",
                "azdata_cell_guid": "20d3fa0f-3aa1-47b1-9a64-7f139bd10a1e"
            },
            "outputs": [
                {
                    "output_type": "display_data",
                    "data": {
                        "text/html": "(42 rows affected)"
                    },
                    "metadata": {}
                },
                {
                    "output_type": "display_data",
                    "data": {
                        "text/html": "Total execution time: 00:00:00.020"
                    },
                    "metadata": {}
                },
                {
                    "output_type": "execute_result",
                    "execution_count": 3,
                    "data": {
                        "application/vnd.dataresource+json": {
                            "schema": {
                                "fields": [
                                    {
                                        "name": "country"
                                    },
                                    {
                                        "name": "category"
                                    },
                                    {
                                        "name": "business"
                                    },
                                    {
                                        "name": "year_founded"
                                    }
                                ]
                            },
                            "data": [
                                {
                                    "0": "Japan",
                                    "1": "Construction",
                                    "2": "Kongo Gumi",
                                    "3": "578"
                                },
                                {
                                    "0": "China",
                                    "1": "Cafés, Restaurants & Bars",
                                    "2": "Ma Yu Ching's Bucket Chicken House",
                                    "3": "1153"
                                },
                                {
                                    "0": "Turkey",
                                    "1": "Tourism & Hotels",
                                    "2": "Çemberlitas Hamami",
                                    "3": "1584"
                                },
                                {
                                    "0": "India",
                                    "1": "Manufacturing & Production",
                                    "2": "Wadia Group",
                                    "3": "1736"
                                },
                                {
                                    "0": "Malaysia",
                                    "1": "Postal Service",
                                    "2": "Pos Malaysia",
                                    "3": "1800"
                                },
                                {
                                    "0": "Indonesia",
                                    "1": "Defense",
                                    "2": "Pindad",
                                    "3": "1808"
                                },
                                {
                                    "0": "Singapore",
                                    "1": "Postal Service",
                                    "2": "Singapore Post",
                                    "3": "1819"
                                },
                                {
                                    "0": "Bangladesh",
                                    "1": "Food & Beverages",
                                    "2": "M. M. Ispahani Limited",
                                    "3": "1820"
                                },
                                {
                                    "0": "Lebanon",
                                    "1": "Banking & Finance",
                                    "2": "Bank Audi",
                                    "3": "1830"
                                },
                                {
                                    "0": "Sri Lanka",
                                    "1": "Food & Beverages",
                                    "2": "George Steuart Group",
                                    "3": "1835"
                                },
                                {
                                    "0": "Pakistan",
                                    "1": "Conglomerate",
                                    "2": "House of Habib",
                                    "3": "1841"
                                },
                                {
                                    "0": "Saudi Arabia",
                                    "1": "Construction",
                                    "2": "House of Alireza",
                                    "3": "1845"
                                },
                                {
                                    "0": "Philippines",
                                    "1": "Distillers, Vintners, & Breweries",
                                    "2": "Destileria Limtuaco",
                                    "3": "1853"
                                },
                                {
                                    "0": "Azerbaijan",
                                    "1": "Aviation & Transport",
                                    "2": "Azerbaijan Caspian Shipping Company",
                                    "3": "1858"
                                },
                                {
                                    "0": "Armenia",
                                    "1": "Distillers, Vintners, & Breweries",
                                    "2": "Yerevan Ararat Brandy-Wine-Vodka Factory",
                                    "3": "1877"
                                },
                                {
                                    "0": "Thailand",
                                    "1": "Conglomerate",
                                    "2": "B.Grimm Group",
                                    "3": "1878"
                                },
                                {
                                    "0": "Viet Nam",
                                    "1": "Aviation & Transport",
                                    "2": "Vietnam Railways",
                                    "3": "1881"
                                },
                                {
                                    "0": "Bahrain",
                                    "1": "Retail",
                                    "2": "BMMI",
                                    "3": "1883"
                                },
                                {
                                    "0": "Syrian Arab Republic",
                                    "1": "Cafés, Restaurants & Bars",
                                    "2": "Bakdash",
                                    "3": "1885"
                                },
                                {
                                    "0": "Korea, Republic of",
                                    "1": "Telecommunications",
                                    "2": "KT Corporation",
                                    "3": "1885"
                                },
                                {
                                    "0": "Kuwait",
                                    "1": "Retail",
                                    "2": "M.H. Alshaya Co.",
                                    "3": "1890"
                                },
                                {
                                    "0": "Taiwan, Province of China",
                                    "1": "Banking & Finance",
                                    "2": "Bank of Taiwan",
                                    "3": "1897"
                                },
                                {
                                    "0": "Georgia",
                                    "1": "Banking & Finance",
                                    "2": "Bank of Georgia",
                                    "3": "1903"
                                },
                                {
                                    "0": "Kazakhstan",
                                    "1": "Mining",
                                    "2": "Bogatyr Access Komir",
                                    "3": "1913"
                                },
                                {
                                    "0": "Israel",
                                    "1": "Cafés, Restaurants & Bars",
                                    "2": "Café Abu Salem",
                                    "3": "1914"
                                },
                                {
                                    "0": "Iraq",
                                    "1": "Energy",
                                    "2": "North Oil Company",
                                    "3": "1928"
                                },
                                {
                                    "0": "Afghanistan",
                                    "1": "Agriculture",
                                    "2": "Spinzar Cotton Company",
                                    "3": "1930"
                                },
                                {
                                    "0": "Jordan",
                                    "1": "Banking & Finance",
                                    "2": "Arab Bank",
                                    "3": "1930"
                                },
                                {
                                    "0": "Mongolia",
                                    "1": "Media",
                                    "2": "Mongolian National Broadcaster",
                                    "3": "1931"
                                },
                                {
                                    "0": "Uzbekistan",
                                    "1": "Manufacturing & Production",
                                    "2": "Tashkent Aviation Production Association",
                                    "3": "1932"
                                },
                                {
                                    "0": "Oman",
                                    "1": "Energy",
                                    "2": "Petroleum Development Oman",
                                    "3": "1937"
                                },
                                {
                                    "0": "Nepal",
                                    "1": "Banking & Finance",
                                    "2": "Nepal Bank Limited",
                                    "3": "1937"
                                },
                                {
                                    "0": "United Arab Emirates",
                                    "1": "Manufacturing & Production",
                                    "2": "Liwa Chemicals",
                                    "3": "1939"
                                },
                                {
                                    "0": "Korea, Democratic People's Republic of",
                                    "1": "Aviation & Transport",
                                    "2": "Kim Chong-t'ae Electric Locomotive Works",
                                    "3": "1945"
                                },
                                {
                                    "0": "Brunei Darussalam",
                                    "1": "Retail",
                                    "2": "Hua Ho Department Store",
                                    "3": "1947"
                                },
                                {
                                    "0": "Myanmar",
                                    "1": "Aviation & Transport",
                                    "2": "Myanmar National Airlines",
                                    "3": "1948"
                                },
                                {
                                    "0": "Qatar",
                                    "1": "Conglomerate",
                                    "2": "Salam International Investment Limited",
                                    "3": "1952"
                                },
                                {
                                    "0": "Cambodia",
                                    "1": "Banking & Finance",
                                    "2": "National Bank of Cambodia",
                                    "3": "1954"
                                },
                                {
                                    "0": "Bhutan",
                                    "1": "Aviation & Transport",
                                    "2": "Tashi Group",
                                    "3": "1959"
                                },
                                {
                                    "0": "Lao People's Democratic Republic",
                                    "1": "Energy",
                                    "2": "Electricite du Laos",
                                    "3": "1959"
                                },
                                {
                                    "0": "Yemen",
                                    "1": "Aviation & Transport",
                                    "2": "Yemenia Airways",
                                    "3": "1962"
                                },
                                {
                                    "0": "Seychelles",
                                    "1": "Aviation & Transport",
                                    "2": "Air Seychelles",
                                    "3": "1977"
                                }
                            ]
                        },
                        "text/html": "<table><tr><th>country</th><th>category</th><th>business</th><th>year_founded</th></tr><tr><td>Japan</td><td>Construction</td><td>Kongo Gumi</td><td>578</td></tr><tr><td>China</td><td>Cafés, Restaurants &amp; Bars</td><td>Ma Yu Ching's Bucket Chicken House</td><td>1153</td></tr><tr><td>Turkey</td><td>Tourism &amp; Hotels</td><td>Çemberlitas Hamami</td><td>1584</td></tr><tr><td>India</td><td>Manufacturing &amp; Production</td><td>Wadia Group</td><td>1736</td></tr><tr><td>Malaysia</td><td>Postal Service</td><td>Pos Malaysia</td><td>1800</td></tr><tr><td>Indonesia</td><td>Defense</td><td>Pindad</td><td>1808</td></tr><tr><td>Singapore</td><td>Postal Service</td><td>Singapore Post</td><td>1819</td></tr><tr><td>Bangladesh</td><td>Food &amp; Beverages</td><td>M. M. Ispahani Limited</td><td>1820</td></tr><tr><td>Lebanon</td><td>Banking &amp; Finance</td><td>Bank Audi</td><td>1830</td></tr><tr><td>Sri Lanka</td><td>Food &amp; Beverages</td><td>George Steuart Group</td><td>1835</td></tr><tr><td>Pakistan</td><td>Conglomerate</td><td>House of Habib</td><td>1841</td></tr><tr><td>Saudi Arabia</td><td>Construction</td><td>House of Alireza</td><td>1845</td></tr><tr><td>Philippines</td><td>Distillers, Vintners, &amp; Breweries</td><td>Destileria Limtuaco</td><td>1853</td></tr><tr><td>Azerbaijan</td><td>Aviation &amp; Transport</td><td>Azerbaijan Caspian Shipping Company</td><td>1858</td></tr><tr><td>Armenia</td><td>Distillers, Vintners, &amp; Breweries</td><td>Yerevan Ararat Brandy-Wine-Vodka Factory</td><td>1877</td></tr><tr><td>Thailand</td><td>Conglomerate</td><td>B.Grimm Group</td><td>1878</td></tr><tr><td>Viet Nam</td><td>Aviation &amp; Transport</td><td>Vietnam Railways</td><td>1881</td></tr><tr><td>Bahrain</td><td>Retail</td><td>BMMI</td><td>1883</td></tr><tr><td>Syrian Arab Republic</td><td>Cafés, Restaurants &amp; Bars</td><td>Bakdash</td><td>1885</td></tr><tr><td>Korea, Republic of</td><td>Telecommunications</td><td>KT Corporation</td><td>1885</td></tr><tr><td>Kuwait</td><td>Retail</td><td>M.H. Alshaya Co.</td><td>1890</td></tr><tr><td>Taiwan, Province of China</td><td>Banking &amp; Finance</td><td>Bank of Taiwan</td><td>1897</td></tr><tr><td>Georgia</td><td>Banking &amp; Finance</td><td>Bank of Georgia</td><td>1903</td></tr><tr><td>Kazakhstan</td><td>Mining</td><td>Bogatyr Access Komir</td><td>1913</td></tr><tr><td>Israel</td><td>Cafés, Restaurants &amp; Bars</td><td>Café Abu Salem</td><td>1914</td></tr><tr><td>Iraq</td><td>Energy</td><td>North Oil Company</td><td>1928</td></tr><tr><td>Afghanistan</td><td>Agriculture</td><td>Spinzar Cotton Company</td><td>1930</td></tr><tr><td>Jordan</td><td>Banking &amp; Finance</td><td>Arab Bank</td><td>1930</td></tr><tr><td>Mongolia</td><td>Media</td><td>Mongolian National Broadcaster</td><td>1931</td></tr><tr><td>Uzbekistan</td><td>Manufacturing &amp; Production</td><td>Tashkent Aviation Production Association</td><td>1932</td></tr><tr><td>Oman</td><td>Energy</td><td>Petroleum Development Oman</td><td>1937</td></tr><tr><td>Nepal</td><td>Banking &amp; Finance</td><td>Nepal Bank Limited</td><td>1937</td></tr><tr><td>United Arab Emirates</td><td>Manufacturing &amp; Production</td><td>Liwa Chemicals</td><td>1939</td></tr><tr><td>Korea, Democratic People's Republic of</td><td>Aviation &amp; Transport</td><td>Kim Chong-t'ae Electric Locomotive Works</td><td>1945</td></tr><tr><td>Brunei Darussalam</td><td>Retail</td><td>Hua Ho Department Store</td><td>1947</td></tr><tr><td>Myanmar</td><td>Aviation &amp; Transport</td><td>Myanmar National Airlines</td><td>1948</td></tr><tr><td>Qatar</td><td>Conglomerate</td><td>Salam International Investment Limited</td><td>1952</td></tr><tr><td>Cambodia</td><td>Banking &amp; Finance</td><td>National Bank of Cambodia</td><td>1954</td></tr><tr><td>Bhutan</td><td>Aviation &amp; Transport</td><td>Tashi Group</td><td>1959</td></tr><tr><td>Lao People's Democratic Republic</td><td>Energy</td><td>Electricite du Laos</td><td>1959</td></tr><tr><td>Yemen</td><td>Aviation &amp; Transport</td><td>Yemenia Airways</td><td>1962</td></tr><tr><td>Seychelles</td><td>Aviation &amp; Transport</td><td>Air Seychelles</td><td>1977</td></tr></table>"
                    },
                    "metadata": {}
                }
            ],
            "execution_count": 3
        },
        {
            "cell_type": "code",
            "source": [
                "SELECT business, continent, category, year_founded\r\n",
                "FROM businesses b\r\n",
                "    JOIN categories c1\r\n",
                "    ON b.category_code = c1.category_code\r\n",
                "        JOIN countries c2\r\n",
                "        ON b.country_code = c2.country_code\r\n",
                "WHERE category = 'Banking & Finance'\r\n",
                "AND business NOT LIKE '%Bank%'\r\n",
                "ORDER BY year_founded"
            ],
            "metadata": {
                "language": "sql",
                "azdata_cell_guid": "2873e253-5d92-44cc-af88-fd2f0a0c4e18"
            },
            "outputs": [
                {
                    "output_type": "display_data",
                    "data": {
                        "text/html": "(7 rows affected)"
                    },
                    "metadata": {}
                },
                {
                    "output_type": "display_data",
                    "data": {
                        "text/html": "Total execution time: 00:00:00.034"
                    },
                    "metadata": {}
                },
                {
                    "output_type": "execute_result",
                    "execution_count": 79,
                    "data": {
                        "application/vnd.dataresource+json": {
                            "schema": {
                                "fields": [
                                    {
                                        "name": "business"
                                    },
                                    {
                                        "name": "continent"
                                    },
                                    {
                                        "name": "category"
                                    },
                                    {
                                        "name": "year_founded"
                                    }
                                ]
                            },
                            "data": [
                                {
                                    "0": "Casa Nacional de Moneda",
                                    "1": "South America",
                                    "2": "Banking & Finance",
                                    "3": "1565"
                                },
                                {
                                    "0": "Banco Nacional de Bolivia",
                                    "1": "South America",
                                    "2": "Banking & Finance",
                                    "3": "1871"
                                },
                                {
                                    "0": "HSBC El Salvador",
                                    "1": "North America",
                                    "2": "Banking & Finance",
                                    "3": "1891"
                                },
                                {
                                    "0": "Standard Chartered Zimbabwe",
                                    "1": "Africa",
                                    "2": "Banking & Finance",
                                    "3": "1892"
                                },
                                {
                                    "0": "KCB Group Limited",
                                    "1": "Africa",
                                    "2": "Banking & Finance",
                                    "3": "1896"
                                },
                                {
                                    "0": "Banque Internationale pour la Centrafrique",
                                    "1": "Africa",
                                    "2": "Banking & Finance",
                                    "3": "1946"
                                },
                                {
                                    "0": "European Trust Company",
                                    "1": "Oceania",
                                    "2": "Banking & Finance",
                                    "3": "1991"
                                }
                            ]
                        },
                        "text/html": "<table><tr><th>business</th><th>continent</th><th>category</th><th>year_founded</th></tr><tr><td>Casa Nacional de Moneda</td><td>South America</td><td>Banking &amp; Finance</td><td>1565</td></tr><tr><td>Banco Nacional de Bolivia</td><td>South America</td><td>Banking &amp; Finance</td><td>1871</td></tr><tr><td>HSBC El Salvador</td><td>North America</td><td>Banking &amp; Finance</td><td>1891</td></tr><tr><td>Standard Chartered Zimbabwe</td><td>Africa</td><td>Banking &amp; Finance</td><td>1892</td></tr><tr><td>KCB Group Limited</td><td>Africa</td><td>Banking &amp; Finance</td><td>1896</td></tr><tr><td>Banque Internationale pour la Centrafrique</td><td>Africa</td><td>Banking &amp; Finance</td><td>1946</td></tr><tr><td>European Trust Company</td><td>Oceania</td><td>Banking &amp; Finance</td><td>1991</td></tr></table>"
                    },
                    "metadata": {}
                }
            ],
            "execution_count": 79
        },
        {
            "cell_type": "markdown",
            "source": [
                "### **Q?) Joining everything for further analysis**"
            ],
            "metadata": {
                "azdata_cell_guid": "8181301e-6479-4d7c-8515-1f9eecca6658"
            },
            "attachments": {}
        }
    ]
}