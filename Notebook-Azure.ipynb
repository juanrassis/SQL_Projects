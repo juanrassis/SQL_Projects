{
    "metadata": {
        "kernelspec": {
            "name": "SQL",
            "display_name": "SQL",
            "language": "sql"
        },
        "language_info": {
            "name": "sql",
            "version": ""
        }
    },
    "nbformat_minor": 2,
    "nbformat": 4,
    "cells": [
        {
            "cell_type": "markdown",
            "source": [
                "# **What and Where are the World's Oldest Businesses**\n",
                "\n",
                "An important part of business is planning for the future and ensuring that the business survives changing market conditions. Some businesses do this remarkably well and last for hundreds of years. In this project, you'll explore data from BusinessFinancing.co.uk on the world's oldest businesses: when were they founded, and which industries do they belong to?  \n",
                "\n",
                "Like many business problems, the data we'll explore is contained in several different datasets. In order to understand the world's oldest businesses, we will first need to use joining techniques to merge our data. From there, we can use manipulation tools such as grouping and filtering to answer questions about these historic businesses."
            ],
            "metadata": {
                "azdata_cell_guid": "3d2f49ae-a939-4562-ac39-975d4d82d03d"
            },
            "attachments": {}
        },
        {
            "cell_type": "markdown",
            "source": [
                "# **SUMMARY OF QUESTIONS AND TASKS**\n",
                "\n",
                "## **DATASET EXPLORATION**\n",
                "\n",
                "TASK 1: JOINING ALL TABLES\n",
                "\n",
                "TASK 2: INVESTIGATING MISSING DATA AND RANGE OF DATA POINTS\n",
                "\n",
                "## **FIRST DISCOVERY - THE OLDEST BUSINESSES AND THOSE BEFORE 1,000 A.C.**\n",
                "\n",
                "**Q3 IN**\n",
                "\n",
                "**Q4**\n",
                "\n",
                "## **FIRST IN-DEPTH ANALYSIS**\n",
                "\n",
                "**Q5**\n",
                "\n",
                "**Q6**\n",
                "\n",
                "## **SECOND DISCOVERY**\n",
                "\n",
                "**Q7**\n",
                "\n",
                "**Q8**\n",
                "\n",
                "**Q9**\n",
                "\n",
                "**Q10**"
            ],
            "metadata": {
                "azdata_cell_guid": "e01ed375-49f5-464c-9b23-6d6fdc58e572"
            },
            "attachments": {}
        },
        {
            "cell_type": "markdown",
            "source": [
                "## **<u>TASK 1: JOINING ALL TABLES</u>**\n",
                "\n",
                "SInce the database is splitted into 3 tables, it is key to have a clear overview of the relevant fields and records and how they interact and give context to each other."
            ],
            "metadata": {
                "azdata_cell_guid": "26b14f7c-7a00-453f-8395-141435faddbb"
            },
            "attachments": {}
        },
        {
            "cell_type": "code",
            "source": [
                "/* I decided to insert \"TOP #\" to reduce the redudancy of records\r\n",
                "generated only for the sake of this project showcase. */\r\n",
                "SELECT TOP 4 business, year_founded, category, country, continent\r\n",
                "FROM businesses b\r\n",
                "    JOIN categories c1\r\n",
                "    ON b.category_code = c1.category_code\r\n",
                "        JOIN countries c2\r\n",
                "        ON b.country_code = c2.country_code"
            ],
            "metadata": {
                "azdata_cell_guid": "d413f733-369f-4d67-b62f-f63ad978d5b7",
                "language": "sql",
                "tags": [
                    "hide_input"
                ]
            },
            "outputs": [
                {
                    "output_type": "display_data",
                    "data": {
                        "text/html": "(4 rows affected)"
                    },
                    "metadata": {}
                },
                {
                    "output_type": "display_data",
                    "data": {
                        "text/html": "Total execution time: 00:00:00.017"
                    },
                    "metadata": {}
                },
                {
                    "output_type": "execute_result",
                    "metadata": {},
                    "execution_count": 1,
                    "data": {
                        "application/vnd.dataresource+json": {
                            "schema": {
                                "fields": [
                                    {
                                        "name": "business"
                                    },
                                    {
                                        "name": "year_founded"
                                    },
                                    {
                                        "name": "category"
                                    },
                                    {
                                        "name": "country"
                                    },
                                    {
                                        "name": "continent"
                                    }
                                ]
                            },
                            "data": [
                                {
                                    "0": "1st National Bank of St Lucia",
                                    "1": "1938",
                                    "2": "Banking & Finance",
                                    "3": "Saint Lucia",
                                    "4": "North America"
                                },
                                {
                                    "0": "Affligem Brewery",
                                    "1": "1074",
                                    "2": "Distillers, Vintners, & Breweries",
                                    "3": "Belgium",
                                    "4": "Europe"
                                },
                                {
                                    "0": "Air Burkina",
                                    "1": "1967",
                                    "2": "Aviation & Transport",
                                    "3": "Burkina Faso",
                                    "4": "Africa"
                                },
                                {
                                    "0": "Air Madagascar",
                                    "1": "1962",
                                    "2": "Aviation & Transport",
                                    "3": "Madagascar",
                                    "4": "Africa"
                                }
                            ]
                        },
                        "text/html": [
                            "<table>",
                            "<tr><th>business</th><th>year_founded</th><th>category</th><th>country</th><th>continent</th></tr>",
                            "<tr><td>1st National Bank of St Lucia</td><td>1938</td><td>Banking &amp; Finance</td><td>Saint Lucia</td><td>North America</td></tr>",
                            "<tr><td>Affligem Brewery</td><td>1074</td><td>Distillers, Vintners, &amp; Breweries</td><td>Belgium</td><td>Europe</td></tr>",
                            "<tr><td>Air Burkina</td><td>1967</td><td>Aviation &amp; Transport</td><td>Burkina Faso</td><td>Africa</td></tr>",
                            "<tr><td>Air Madagascar</td><td>1962</td><td>Aviation &amp; Transport</td><td>Madagascar</td><td>Africa</td></tr>",
                            "</table>"
                        ]
                    }
                }
            ],
            "execution_count": 1
        },
        {
            "cell_type": "markdown",
            "source": [
                "**COMMENT ON THE RESULT:** The dataset seem pretty clean and consistent with the fields making noticable sense when compiled."
            ],
            "metadata": {
                "language": "sql",
                "azdata_cell_guid": "66dff776-a803-4753-80fa-5efa13b7704e"
            },
            "attachments": {}
        },
        {
            "cell_type": "markdown",
            "source": [
                "## **<u>TASK 2: INVESTIGATING MISSING DATA AND RANGE OF DATA POINTS</u>**"
            ],
            "metadata": {
                "language": "sql",
                "azdata_cell_guid": "bfc4887a-43ca-4762-a268-08679ea8c50e"
            },
            "attachments": {}
        },
        {
            "cell_type": "markdown",
            "source": [
                "### **SUBTASK 2-1: Checking for any empty / null values.**"
            ],
            "metadata": {
                "language": "sql",
                "azdata_cell_guid": "d53b314a-2569-435b-86fb-a52097a6db34"
            },
            "attachments": {}
        },
        {
            "cell_type": "code",
            "source": [
                "SELECT -- Below it's a logic expression to return the total of any empty records in each key column.\r\n",
                "    SUM(case when business is null then 1 else 0 end) AS business, \r\n",
                "    SUM(case when year_founded is null then 1 else 0 end) AS year_founded, \r\n",
                "    SUM(case when b.country_code is null then 1 else 0 end) AS country_code,\r\n",
                "    SUM(case when country is null then 1 else 0 end) AS country,\r\n",
                "    SUM(case when continent is null then 1 else 0 end) AS continent,\r\n",
                "    SUM(case when b.category_code is null then 1 else 0 end) AS category_code,\r\n",
                "    SUM(case when category is null then 1 else 0 end) AS category\r\n",
                "FROM businesses b\r\n",
                "    LEFT JOIN categories c1 ON b.category_code = c1.category_code\r\n",
                "    LEFT JOIN countries c2  ON b.country_code = c2.country_code"
            ],
            "metadata": {
                "language": "sql",
                "azdata_cell_guid": "f2f97190-8608-4e19-a201-908e3f751cfb",
                "tags": [
                    "hide_input"
                ]
            },
            "outputs": [
                {
                    "output_type": "display_data",
                    "data": {
                        "text/html": "(1 row affected)"
                    },
                    "metadata": {}
                },
                {
                    "output_type": "display_data",
                    "data": {
                        "text/html": "Total execution time: 00:00:00.024"
                    },
                    "metadata": {}
                },
                {
                    "output_type": "execute_result",
                    "metadata": {},
                    "execution_count": 20,
                    "data": {
                        "application/vnd.dataresource+json": {
                            "schema": {
                                "fields": [
                                    {
                                        "name": "business"
                                    },
                                    {
                                        "name": "year_founded"
                                    },
                                    {
                                        "name": "country_code"
                                    },
                                    {
                                        "name": "country"
                                    },
                                    {
                                        "name": "continent"
                                    },
                                    {
                                        "name": "category_code"
                                    },
                                    {
                                        "name": "category"
                                    }
                                ]
                            },
                            "data": [
                                {
                                    "0": "0",
                                    "1": "0",
                                    "2": "0",
                                    "3": "0",
                                    "4": "0",
                                    "5": "0",
                                    "6": "0"
                                }
                            ]
                        },
                        "text/html": [
                            "<table>",
                            "<tr><th>business</th><th>year_founded</th><th>country_code</th><th>country</th><th>continent</th><th>category_code</th><th>category</th></tr>",
                            "<tr><td>0</td><td>0</td><td>0</td><td>0</td><td>0</td><td>0</td><td>0</td></tr>",
                            "</table>"
                        ]
                    }
                }
            ],
            "execution_count": 20
        },
        {
            "cell_type": "markdown",
            "source": [
                "### **SUBTASK 2-2: Calculating summary statistics. What are the oldest and newest founding years?**\n",
                "\n",
                "To calculate the extreme points of the YEAR\\_FOUNDED field I will be applying a SELF-JOIN to enable me to make calculations and obtain different results from the same column."
            ],
            "metadata": {
                "azdata_cell_guid": "8ae4d0e3-113a-4783-9338-e1f62f638687"
            },
            "attachments": {}
        },
        {
            "cell_type": "code",
            "source": [
                "SELECT MIN(b1.year_founded) AS minimum,\r\n",
                "       MAX(b2.year_founded) AS maximum,\r\n",
                "       AVG(b3.year_founded) AS median,\r\n",
                "       ROUND(STDEVP(b4.year_founded),2) AS standard_deviation\r\n",
                "FROM businesses b1\r\n",
                "    JOIN businesses b2 -- (SELF-JOIN 1 for maximum value)\r\n",
                "    ON b1.business = b2.business\r\n",
                "    JOIN businesses b3 -- (SELF-JOIN 2 for median value)\r\n",
                "    ON b2.business = b3.business\r\n",
                "    JOIN businesses b4 -- (SELF-JOIN 3 for standard deviation)\r\n",
                "    ON b3.business = b4.business"
            ],
            "metadata": {
                "azdata_cell_guid": "7bc8b159-3f95-4a30-8360-0f7758bf06a0",
                "language": "sql",
                "tags": [
                    "hide_input"
                ]
            },
            "outputs": [
                {
                    "output_type": "display_data",
                    "data": {
                        "text/html": "(1 row affected)"
                    },
                    "metadata": {}
                },
                {
                    "output_type": "display_data",
                    "data": {
                        "text/html": "Total execution time: 00:00:00.016"
                    },
                    "metadata": {}
                },
                {
                    "output_type": "execute_result",
                    "metadata": {},
                    "execution_count": 34,
                    "data": {
                        "application/vnd.dataresource+json": {
                            "schema": {
                                "fields": [
                                    {
                                        "name": "minimum"
                                    },
                                    {
                                        "name": "maximum"
                                    },
                                    {
                                        "name": "median"
                                    },
                                    {
                                        "name": "standard_deviation"
                                    }
                                ]
                            },
                            "data": [
                                {
                                    "0": "578",
                                    "1": "1999",
                                    "2": "1775",
                                    "3": "275.86"
                                }
                            ]
                        },
                        "text/html": [
                            "<table>",
                            "<tr><th>minimum</th><th>maximum</th><th>median</th><th>standard_deviation</th></tr>",
                            "<tr><td>578</td><td>1999</td><td>1775</td><td>275.86</td></tr>",
                            "</table>"
                        ]
                    }
                }
            ],
            "execution_count": 34
        },
        {
            "cell_type": "markdown",
            "source": [
                "**COMMENT ON THE RESULT:** It seems that there is a high variation between countries. In one country, the oldest business was only founded in 1999. By contrast, the oldest business in the world was founded back in 578. That's pretty incredible that a business has survived for more than a millennium."
            ],
            "metadata": {
                "language": "sql",
                "azdata_cell_guid": "a51bccba-f165-4042-a209-6b3eea0d02e4"
            },
            "attachments": {}
        },
        {
            "cell_type": "markdown",
            "source": [
                "### **Q2) How many and which businesses were founded before 1000?**"
            ],
            "metadata": {
                "azdata_cell_guid": "a34508b4-592d-4f38-8b47-792765e483f0"
            },
            "attachments": {}
        },
        {
            "cell_type": "code",
            "source": [
                "SELECT *\r\n",
                "FROM businesses\r\n",
                "WHERE year_founded < 1000\r\n",
                "ORDER BY year_founded"
            ],
            "metadata": {
                "language": "sql",
                "azdata_cell_guid": "5b9f88c7-a375-4f77-819c-6c9e0d18f288"
            },
            "outputs": [
                {
                    "output_type": "display_data",
                    "data": {
                        "text/html": "(6 rows affected)"
                    },
                    "metadata": {}
                },
                {
                    "output_type": "display_data",
                    "data": {
                        "text/html": "Total execution time: 00:00:00.015"
                    },
                    "metadata": {}
                },
                {
                    "output_type": "execute_result",
                    "execution_count": 14,
                    "data": {
                        "application/vnd.dataresource+json": {
                            "schema": {
                                "fields": [
                                    {
                                        "name": "business"
                                    },
                                    {
                                        "name": "year_founded"
                                    },
                                    {
                                        "name": "category_code"
                                    },
                                    {
                                        "name": "country_code"
                                    }
                                ]
                            },
                            "data": [
                                {
                                    "0": "Kongo Gumi",
                                    "1": "578",
                                    "2": "CAT6",
                                    "3": "JPN"
                                },
                                {
                                    "0": "St. Peter Stifts Kulinarium",
                                    "1": "803",
                                    "2": "CAT4",
                                    "3": "AUT"
                                },
                                {
                                    "0": "Staffelter Hof Winery",
                                    "1": "862",
                                    "2": "CAT9",
                                    "3": "DEU"
                                },
                                {
                                    "0": "Monnaie de Paris ",
                                    "1": "864",
                                    "2": "CAT12",
                                    "3": "FRA"
                                },
                                {
                                    "0": "The Royal Mint",
                                    "1": "886",
                                    "2": "CAT12",
                                    "3": "GBR"
                                },
                                {
                                    "0": "Sean's Bar",
                                    "1": "900",
                                    "2": "CAT4",
                                    "3": "IRL"
                                }
                            ]
                        },
                        "text/html": "<table><tr><th>business</th><th>year_founded</th><th>category_code</th><th>country_code</th></tr><tr><td>Kongo Gumi</td><td>578</td><td>CAT6</td><td>JPN</td></tr><tr><td>St. Peter Stifts Kulinarium</td><td>803</td><td>CAT4</td><td>AUT</td></tr><tr><td>Staffelter Hof Winery</td><td>862</td><td>CAT9</td><td>DEU</td></tr><tr><td>Monnaie de Paris </td><td>864</td><td>CAT12</td><td>FRA</td></tr><tr><td>The Royal Mint</td><td>886</td><td>CAT12</td><td>GBR</td></tr><tr><td>Sean's Bar</td><td>900</td><td>CAT4</td><td>IRL</td></tr></table>"
                    },
                    "metadata": {}
                }
            ],
            "execution_count": 14
        },
        {
            "cell_type": "code",
            "source": [
                "SELECT b.business, b.year_founded, c2.country, c1.category\r\n",
                "FROM businesses b\r\n",
                "    JOIN categories c1\r\n",
                "    ON b.category_code = c1.category_code\r\n",
                "         JOIN countries c2\r\n",
                "         ON b.country_code = c2.country_code\r\n",
                "WHERE b.year_founded < 1000\r\n",
                "ORDER BY b.year_founded;"
            ],
            "metadata": {
                "language": "sql",
                "azdata_cell_guid": "00fa4a06-e9f9-4004-b0e5-b5a16f010f41"
            },
            "outputs": [
                {
                    "output_type": "display_data",
                    "data": {
                        "text/html": "(6 rows affected)"
                    },
                    "metadata": {}
                },
                {
                    "output_type": "display_data",
                    "data": {
                        "text/html": "Total execution time: 00:00:00.030"
                    },
                    "metadata": {}
                },
                {
                    "output_type": "execute_result",
                    "execution_count": 28,
                    "data": {
                        "application/vnd.dataresource+json": {
                            "schema": {
                                "fields": [
                                    {
                                        "name": "business"
                                    },
                                    {
                                        "name": "year_founded"
                                    },
                                    {
                                        "name": "country"
                                    },
                                    {
                                        "name": "category"
                                    }
                                ]
                            },
                            "data": [
                                {
                                    "0": "Kongo Gumi",
                                    "1": "578",
                                    "2": "Japan",
                                    "3": "Construction"
                                },
                                {
                                    "0": "St. Peter Stifts Kulinarium",
                                    "1": "803",
                                    "2": "Austria",
                                    "3": "Cafés, Restaurants & Bars"
                                },
                                {
                                    "0": "Staffelter Hof Winery",
                                    "1": "862",
                                    "2": "Germany",
                                    "3": "Distillers, Vintners, & Breweries"
                                },
                                {
                                    "0": "Monnaie de Paris ",
                                    "1": "864",
                                    "2": "France",
                                    "3": "Manufacturing & Production"
                                },
                                {
                                    "0": "The Royal Mint",
                                    "1": "886",
                                    "2": "United Kingdom",
                                    "3": "Manufacturing & Production"
                                },
                                {
                                    "0": "Sean's Bar",
                                    "1": "900",
                                    "2": "Ireland",
                                    "3": "Cafés, Restaurants & Bars"
                                }
                            ]
                        },
                        "text/html": "<table><tr><th>business</th><th>year_founded</th><th>country</th><th>category</th></tr><tr><td>Kongo Gumi</td><td>578</td><td>Japan</td><td>Construction</td></tr><tr><td>St. Peter Stifts Kulinarium</td><td>803</td><td>Austria</td><td>Cafés, Restaurants &amp; Bars</td></tr><tr><td>Staffelter Hof Winery</td><td>862</td><td>Germany</td><td>Distillers, Vintners, &amp; Breweries</td></tr><tr><td>Monnaie de Paris </td><td>864</td><td>France</td><td>Manufacturing &amp; Production</td></tr><tr><td>The Royal Mint</td><td>886</td><td>United Kingdom</td><td>Manufacturing &amp; Production</td></tr><tr><td>Sean's Bar</td><td>900</td><td>Ireland</td><td>Cafés, Restaurants &amp; Bars</td></tr></table>"
                    },
                    "metadata": {}
                }
            ],
            "execution_count": 28
        },
        {
            "cell_type": "markdown",
            "source": [
                "![Kongo_Gumi](data:image/jpeg;base64,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)\n",
                "\n",
                "With that extra detail about the oldest businesses, we can see that Kongō Gumi is a construction company. Kongō Gumi was the oldest continuously operating company in the world. Founded in Japan a mere century after the fall of the Roman Empire, it survived extreme changes in Japan’s culture, government and economy, preserving traditional construction techniques and family values for over 1,400 years.\n",
                "\n",
                "In that list of six businesses, we also see a café, a winery, and a bar. The two companies recorded as \"Manufacturing and Production\" are both mints. That is, they produce currency."
            ],
            "metadata": {
                "language": "sql",
                "azdata_cell_guid": "9a0f6b62-e10d-4e0a-ad76-525292975fdd"
            },
            "attachments": {}
        },
        {
            "cell_type": "markdown",
            "source": [
                "## **TASK 3: What are most the long standing categories?**"
            ],
            "metadata": {
                "language": "sql",
                "azdata_cell_guid": "9a5d2679-a44d-4667-bbc5-9badc95ee327"
            },
            "attachments": {}
        },
        {
            "cell_type": "code",
            "source": [
                "SELECT TOP 5 category, COUNT(b.business) AS n\r\n",
                "FROM categories c\r\n",
                "    JOIN businesses b\r\n",
                "    ON c.category_code = b.category_code\r\n",
                "GROUP BY category\r\n",
                "ORDER BY n DESC"
            ],
            "metadata": {
                "language": "sql",
                "azdata_cell_guid": "23ff8d36-0856-4048-bfe4-3ba2bb7ff909"
            },
            "outputs": [
                {
                    "output_type": "display_data",
                    "data": {
                        "text/html": "(5 rows affected)"
                    },
                    "metadata": {}
                },
                {
                    "output_type": "display_data",
                    "data": {
                        "text/html": "Total execution time: 00:00:00.058"
                    },
                    "metadata": {}
                },
                {
                    "output_type": "execute_result",
                    "execution_count": 64,
                    "data": {
                        "application/vnd.dataresource+json": {
                            "schema": {
                                "fields": [
                                    {
                                        "name": "category"
                                    },
                                    {
                                        "name": "n"
                                    }
                                ]
                            },
                            "data": [
                                {
                                    "0": "Banking & Finance",
                                    "1": "37"
                                },
                                {
                                    "0": "Distillers, Vintners, & Breweries",
                                    "1": "22"
                                },
                                {
                                    "0": "Aviation & Transport",
                                    "1": "19"
                                },
                                {
                                    "0": "Postal Service",
                                    "1": "16"
                                },
                                {
                                    "0": "Manufacturing & Production",
                                    "1": "15"
                                }
                            ]
                        },
                        "text/html": "<table><tr><th>category</th><th>n</th></tr><tr><td>Banking &amp; Finance</td><td>37</td></tr><tr><td>Distillers, Vintners, &amp; Breweries</td><td>22</td></tr><tr><td>Aviation &amp; Transport</td><td>19</td></tr><tr><td>Postal Service</td><td>16</td></tr><tr><td>Manufacturing &amp; Production</td><td>15</td></tr></table>"
                    },
                    "metadata": {}
                }
            ],
            "execution_count": 64
        },
        {
            "cell_type": "code",
            "source": [
                "SELECT continent, MIN(year_founded) AS oldest\r\n",
                "FROM businesses b\r\n",
                "    JOIN countries c\r\n",
                "    ON b.country_code = c.country_code\r\n",
                "GROUP BY continent\r\n",
                "ORDER BY oldest"
            ],
            "metadata": {
                "azdata_cell_guid": "1de0e4ab-a519-4169-8038-58793631c8df",
                "language": "sql"
            },
            "outputs": [
                {
                    "output_type": "display_data",
                    "data": {
                        "text/html": "(6 rows affected)"
                    },
                    "metadata": {}
                },
                {
                    "output_type": "display_data",
                    "data": {
                        "text/html": "Total execution time: 00:00:00.012"
                    },
                    "metadata": {}
                },
                {
                    "output_type": "execute_result",
                    "execution_count": 31,
                    "data": {
                        "application/vnd.dataresource+json": {
                            "schema": {
                                "fields": [
                                    {
                                        "name": "continent"
                                    },
                                    {
                                        "name": "oldest"
                                    }
                                ]
                            },
                            "data": [
                                {
                                    "0": "Asia",
                                    "1": "578"
                                },
                                {
                                    "0": "Europe",
                                    "1": "803"
                                },
                                {
                                    "0": "North America",
                                    "1": "1534"
                                },
                                {
                                    "0": "South America",
                                    "1": "1565"
                                },
                                {
                                    "0": "Africa",
                                    "1": "1772"
                                },
                                {
                                    "0": "Oceania",
                                    "1": "1809"
                                }
                            ]
                        },
                        "text/html": "<table><tr><th>continent</th><th>oldest</th></tr><tr><td>Asia</td><td>578</td></tr><tr><td>Europe</td><td>803</td></tr><tr><td>North America</td><td>1534</td></tr><tr><td>South America</td><td>1565</td></tr><tr><td>Africa</td><td>1772</td></tr><tr><td>Oceania</td><td>1809</td></tr></table>"
                    },
                    "metadata": {}
                }
            ],
            "execution_count": 31
        },
        {
            "cell_type": "code",
            "source": [
                "SELECT continent, country, category, business, year_founded\r\n",
                "FROM businesses b JOIN countries c1\r\n",
                "ON b.country_code = c1.country_code\r\n",
                "    JOIN categories c2 ON b.category_code = c2.category_code\r\n",
                "WHERE year_founded IN\r\n",
                "                     -- START OF SUBQUERY 1 \r\n",
                "                    (SELECT MIN(year_founded)\r\n",
                "                     FROM -- Start of Subquery 2\r\n",
                "                        (SELECT continent, business, year_founded\r\n",
                "                         FROM businesses b JOIN countries c\r\n",
                "                         ON b.country_code = c.country_code) AS subquery\r\n",
                "                          -- End of Subquery 2\r\n",
                "                     GROUP BY continent)\r\n",
                "                     -- END OF SUBQUERY 1\r\n",
                "ORDER BY year_founded;"
            ],
            "metadata": {
                "language": "sql",
                "azdata_cell_guid": "8894cbb7-1bcc-4d64-b5f7-f4b3b1f6e833",
                "tags": []
            },
            "outputs": [
                {
                    "output_type": "display_data",
                    "data": {
                        "text/html": "(6 rows affected)"
                    },
                    "metadata": {}
                },
                {
                    "output_type": "display_data",
                    "data": {
                        "text/html": "Total execution time: 00:00:00.041"
                    },
                    "metadata": {}
                },
                {
                    "output_type": "execute_result",
                    "execution_count": 41,
                    "data": {
                        "application/vnd.dataresource+json": {
                            "schema": {
                                "fields": [
                                    {
                                        "name": "continent"
                                    },
                                    {
                                        "name": "country"
                                    },
                                    {
                                        "name": "category"
                                    },
                                    {
                                        "name": "business"
                                    },
                                    {
                                        "name": "year_founded"
                                    }
                                ]
                            },
                            "data": [
                                {
                                    "0": "Asia",
                                    "1": "Japan",
                                    "2": "Construction",
                                    "3": "Kongo Gumi",
                                    "4": "578"
                                },
                                {
                                    "0": "Europe",
                                    "1": "Austria",
                                    "2": "Cafés, Restaurants & Bars",
                                    "3": "St. Peter Stifts Kulinarium",
                                    "4": "803"
                                },
                                {
                                    "0": "North America",
                                    "1": "Mexico",
                                    "2": "Manufacturing & Production",
                                    "3": "La Casa de Moneda de México",
                                    "4": "1534"
                                },
                                {
                                    "0": "South America",
                                    "1": "Peru",
                                    "2": "Banking & Finance",
                                    "3": "Casa Nacional de Moneda",
                                    "4": "1565"
                                },
                                {
                                    "0": "Africa",
                                    "1": "Mauritius",
                                    "2": "Postal Service",
                                    "3": "Mauritius Post",
                                    "4": "1772"
                                },
                                {
                                    "0": "Oceania",
                                    "1": "Australia",
                                    "2": "Postal Service",
                                    "3": "Australia Post",
                                    "4": "1809"
                                }
                            ]
                        },
                        "text/html": "<table><tr><th>continent</th><th>country</th><th>category</th><th>business</th><th>year_founded</th></tr><tr><td>Asia</td><td>Japan</td><td>Construction</td><td>Kongo Gumi</td><td>578</td></tr><tr><td>Europe</td><td>Austria</td><td>Cafés, Restaurants &amp; Bars</td><td>St. Peter Stifts Kulinarium</td><td>803</td></tr><tr><td>North America</td><td>Mexico</td><td>Manufacturing &amp; Production</td><td>La Casa de Moneda de México</td><td>1534</td></tr><tr><td>South America</td><td>Peru</td><td>Banking &amp; Finance</td><td>Casa Nacional de Moneda</td><td>1565</td></tr><tr><td>Africa</td><td>Mauritius</td><td>Postal Service</td><td>Mauritius Post</td><td>1772</td></tr><tr><td>Oceania</td><td>Australia</td><td>Postal Service</td><td>Australia Post</td><td>1809</td></tr></table>"
                    },
                    "metadata": {}
                }
            ],
            "execution_count": 41
        },
        {
            "cell_type": "markdown",
            "source": [
                "### **Q?) Which are the most common categories for the oldest businesses on each continent?**\n",
                "\n",
                "Having businesses joined to categories and countries together means we can ask questions about both these things together."
            ],
            "metadata": {
                "language": "sql",
                "azdata_cell_guid": "55c4fc43-bd44-4f6b-8405-58da617e1435"
            },
            "attachments": {}
        },
        {
            "cell_type": "code",
            "source": [
                "SELECT continent, category, COUNT(business) AS n\r\n",
                "FROM businesses b\r\n",
                "    JOIN categories c1\r\n",
                "    ON b.category_code = c1.category_code\r\n",
                "        JOIN countries c2\r\n",
                "        ON b.country_code = c2.country_code\r\n",
                "GROUP BY continent, category\r\n",
                "HAVING COUNT(business) > 5\r\n",
                "ORDER BY n DESC"
            ],
            "metadata": {
                "azdata_cell_guid": "c75ede58-ebab-423f-9f5d-f10b3203fd5e",
                "language": "sql"
            },
            "outputs": [],
            "execution_count": null
        },
        {
            "cell_type": "code",
            "source": [
                "SELECT TOP 10 business, category, year_founded\r\n",
                "FROM businesses b\r\n",
                "    JOIN categories c\r\n",
                "    ON b.category_code = c.category_code\r\n",
                "WHERE country_code IN\r\n",
                "              (SELECT country_code FROM countries\r\n",
                "               WHERE continent = 'Africa')\r\n",
                "ORDER BY year_founded   "
            ],
            "metadata": {
                "language": "sql",
                "azdata_cell_guid": "16d1ca8d-8b01-4b83-92c6-256cfce59744"
            },
            "outputs": [
                {
                    "output_type": "display_data",
                    "data": {
                        "text/html": "(10 rows affected)"
                    },
                    "metadata": {}
                },
                {
                    "output_type": "display_data",
                    "data": {
                        "text/html": "Total execution time: 00:00:00.025"
                    },
                    "metadata": {}
                },
                {
                    "output_type": "execute_result",
                    "execution_count": 19,
                    "data": {
                        "application/vnd.dataresource+json": {
                            "schema": {
                                "fields": [
                                    {
                                        "name": "business"
                                    },
                                    {
                                        "name": "category"
                                    },
                                    {
                                        "name": "year_founded"
                                    }
                                ]
                            },
                            "data": [
                                {
                                    "0": "Mauritius Post",
                                    "1": "Postal Service",
                                    "2": "1772"
                                },
                                {
                                    "0": "NamPost",
                                    "1": "Postal Service",
                                    "2": "1814"
                                },
                                {
                                    "0": "Premier FMCG",
                                    "1": "Manufacturing & Production",
                                    "2": "1820"
                                },
                                {
                                    "0": "La Poste Tunisienne",
                                    "1": "Postal Service",
                                    "2": "1847"
                                },
                                {
                                    "0": "Correios de Cabo Verde",
                                    "1": "Postal Service",
                                    "2": "1849"
                                },
                                {
                                    "0": "Egyptian National Railways",
                                    "1": "Aviation & Transport",
                                    "2": "1854"
                                },
                                {
                                    "0": "Hamoud Boualem",
                                    "1": "Food & Beverages",
                                    "2": "1878"
                                },
                                {
                                    "0": "La Poste du Togo",
                                    "1": "Postal Service",
                                    "2": "1883"
                                },
                                {
                                    "0": "Société nationale des Chemins de fer du Congo",
                                    "1": "Aviation & Transport",
                                    "2": "1889"
                                },
                                {
                                    "0": "Beira Railroad Corporation",
                                    "1": "Aviation & Transport",
                                    "2": "1892"
                                }
                            ]
                        },
                        "text/html": "<table><tr><th>business</th><th>category</th><th>year_founded</th></tr><tr><td>Mauritius Post</td><td>Postal Service</td><td>1772</td></tr><tr><td>NamPost</td><td>Postal Service</td><td>1814</td></tr><tr><td>Premier FMCG</td><td>Manufacturing &amp; Production</td><td>1820</td></tr><tr><td>La Poste Tunisienne</td><td>Postal Service</td><td>1847</td></tr><tr><td>Correios de Cabo Verde</td><td>Postal Service</td><td>1849</td></tr><tr><td>Egyptian National Railways</td><td>Aviation &amp; Transport</td><td>1854</td></tr><tr><td>Hamoud Boualem</td><td>Food &amp; Beverages</td><td>1878</td></tr><tr><td>La Poste du Togo</td><td>Postal Service</td><td>1883</td></tr><tr><td>Société nationale des Chemins de fer du Congo</td><td>Aviation &amp; Transport</td><td>1889</td></tr><tr><td>Beira Railroad Corporation</td><td>Aviation &amp; Transport</td><td>1892</td></tr></table>"
                    },
                    "metadata": {}
                }
            ],
            "execution_count": 19
        },
        {
            "cell_type": "code",
            "source": [
                "SELECT  continent, category, COUNT(business) AS n\r\n",
                "FROM businesses b\r\n",
                "    JOIN categories c1\r\n",
                "    ON b.category_code = c1.category_code\r\n",
                "        JOIN countries c2\r\n",
                "        ON b.country_code = c2.country_code\r\n",
                "GROUP BY continent, category\r\n",
                "HAVING COUNT(business) > 5\r\n",
                "ORDER BY n DESC"
            ],
            "metadata": {
                "language": "sql",
                "azdata_cell_guid": "f9f48d02-88f6-43ad-9bfd-f9757d200991"
            },
            "outputs": [
                {
                    "output_type": "display_data",
                    "data": {
                        "text/html": "(7 rows affected)"
                    },
                    "metadata": {}
                },
                {
                    "output_type": "display_data",
                    "data": {
                        "text/html": "Total execution time: 00:00:00.103"
                    },
                    "metadata": {}
                },
                {
                    "output_type": "execute_result",
                    "execution_count": 1,
                    "data": {
                        "application/vnd.dataresource+json": {
                            "schema": {
                                "fields": [
                                    {
                                        "name": "continent"
                                    },
                                    {
                                        "name": "category"
                                    },
                                    {
                                        "name": "n"
                                    }
                                ]
                            },
                            "data": [
                                {
                                    "0": "Africa",
                                    "1": "Banking & Finance",
                                    "2": "17"
                                },
                                {
                                    "0": "Europe",
                                    "1": "Distillers, Vintners, & Breweries",
                                    "2": "12"
                                },
                                {
                                    "0": "Africa",
                                    "1": "Aviation & Transport",
                                    "2": "10"
                                },
                                {
                                    "0": "Africa",
                                    "1": "Postal Service",
                                    "2": "9"
                                },
                                {
                                    "0": "Europe",
                                    "1": "Manufacturing & Production",
                                    "2": "8"
                                },
                                {
                                    "0": "Asia",
                                    "1": "Aviation & Transport",
                                    "2": "7"
                                },
                                {
                                    "0": "Asia",
                                    "1": "Banking & Finance",
                                    "2": "6"
                                }
                            ]
                        },
                        "text/html": "<table><tr><th>continent</th><th>category</th><th>n</th></tr><tr><td>Africa</td><td>Banking &amp; Finance</td><td>17</td></tr><tr><td>Europe</td><td>Distillers, Vintners, &amp; Breweries</td><td>12</td></tr><tr><td>Africa</td><td>Aviation &amp; Transport</td><td>10</td></tr><tr><td>Africa</td><td>Postal Service</td><td>9</td></tr><tr><td>Europe</td><td>Manufacturing &amp; Production</td><td>8</td></tr><tr><td>Asia</td><td>Aviation &amp; Transport</td><td>7</td></tr><tr><td>Asia</td><td>Banking &amp; Finance</td><td>6</td></tr></table>"
                    },
                    "metadata": {}
                }
            ],
            "execution_count": 1
        },
        {
            "cell_type": "markdown",
            "source": [
                "hi\r\n",
                "\r\n",
                "  ![title](.\\datasets\\visual1.jpg)"
            ],
            "metadata": {
                "language": "sql",
                "azdata_cell_guid": "fc4c6e84-dc5d-4f49-8e06-2f65ca5dd97e"
            },
            "attachments": {}
        },
        {
            "cell_type": "code",
            "source": [
                "SELECT country, category, business, year_founded\r\n",
                "FROM businesses b\r\n",
                "    JOIN categories c1\r\n",
                "    ON b.category_code = c1.category_code\r\n",
                "        JOIN countries c2\r\n",
                "        ON b.country_code = c2.country_code\r\n",
                "WHERE continent = 'Asia'\r\n",
                "ORDER BY year_founded"
            ],
            "metadata": {
                "language": "sql",
                "azdata_cell_guid": "20d3fa0f-3aa1-47b1-9a64-7f139bd10a1e"
            },
            "outputs": [
                {
                    "output_type": "display_data",
                    "data": {
                        "text/html": "(42 rows affected)"
                    },
                    "metadata": {}
                },
                {
                    "output_type": "display_data",
                    "data": {
                        "text/html": "Total execution time: 00:00:00.020"
                    },
                    "metadata": {}
                },
                {
                    "output_type": "execute_result",
                    "execution_count": 3,
                    "data": {
                        "application/vnd.dataresource+json": {
                            "schema": {
                                "fields": [
                                    {
                                        "name": "country"
                                    },
                                    {
                                        "name": "category"
                                    },
                                    {
                                        "name": "business"
                                    },
                                    {
                                        "name": "year_founded"
                                    }
                                ]
                            },
                            "data": [
                                {
                                    "0": "Japan",
                                    "1": "Construction",
                                    "2": "Kongo Gumi",
                                    "3": "578"
                                },
                                {
                                    "0": "China",
                                    "1": "Cafés, Restaurants & Bars",
                                    "2": "Ma Yu Ching's Bucket Chicken House",
                                    "3": "1153"
                                },
                                {
                                    "0": "Turkey",
                                    "1": "Tourism & Hotels",
                                    "2": "Çemberlitas Hamami",
                                    "3": "1584"
                                },
                                {
                                    "0": "India",
                                    "1": "Manufacturing & Production",
                                    "2": "Wadia Group",
                                    "3": "1736"
                                },
                                {
                                    "0": "Malaysia",
                                    "1": "Postal Service",
                                    "2": "Pos Malaysia",
                                    "3": "1800"
                                },
                                {
                                    "0": "Indonesia",
                                    "1": "Defense",
                                    "2": "Pindad",
                                    "3": "1808"
                                },
                                {
                                    "0": "Singapore",
                                    "1": "Postal Service",
                                    "2": "Singapore Post",
                                    "3": "1819"
                                },
                                {
                                    "0": "Bangladesh",
                                    "1": "Food & Beverages",
                                    "2": "M. M. Ispahani Limited",
                                    "3": "1820"
                                },
                                {
                                    "0": "Lebanon",
                                    "1": "Banking & Finance",
                                    "2": "Bank Audi",
                                    "3": "1830"
                                },
                                {
                                    "0": "Sri Lanka",
                                    "1": "Food & Beverages",
                                    "2": "George Steuart Group",
                                    "3": "1835"
                                },
                                {
                                    "0": "Pakistan",
                                    "1": "Conglomerate",
                                    "2": "House of Habib",
                                    "3": "1841"
                                },
                                {
                                    "0": "Saudi Arabia",
                                    "1": "Construction",
                                    "2": "House of Alireza",
                                    "3": "1845"
                                },
                                {
                                    "0": "Philippines",
                                    "1": "Distillers, Vintners, & Breweries",
                                    "2": "Destileria Limtuaco",
                                    "3": "1853"
                                },
                                {
                                    "0": "Azerbaijan",
                                    "1": "Aviation & Transport",
                                    "2": "Azerbaijan Caspian Shipping Company",
                                    "3": "1858"
                                },
                                {
                                    "0": "Armenia",
                                    "1": "Distillers, Vintners, & Breweries",
                                    "2": "Yerevan Ararat Brandy-Wine-Vodka Factory",
                                    "3": "1877"
                                },
                                {
                                    "0": "Thailand",
                                    "1": "Conglomerate",
                                    "2": "B.Grimm Group",
                                    "3": "1878"
                                },
                                {
                                    "0": "Viet Nam",
                                    "1": "Aviation & Transport",
                                    "2": "Vietnam Railways",
                                    "3": "1881"
                                },
                                {
                                    "0": "Bahrain",
                                    "1": "Retail",
                                    "2": "BMMI",
                                    "3": "1883"
                                },
                                {
                                    "0": "Syrian Arab Republic",
                                    "1": "Cafés, Restaurants & Bars",
                                    "2": "Bakdash",
                                    "3": "1885"
                                },
                                {
                                    "0": "Korea, Republic of",
                                    "1": "Telecommunications",
                                    "2": "KT Corporation",
                                    "3": "1885"
                                },
                                {
                                    "0": "Kuwait",
                                    "1": "Retail",
                                    "2": "M.H. Alshaya Co.",
                                    "3": "1890"
                                },
                                {
                                    "0": "Taiwan, Province of China",
                                    "1": "Banking & Finance",
                                    "2": "Bank of Taiwan",
                                    "3": "1897"
                                },
                                {
                                    "0": "Georgia",
                                    "1": "Banking & Finance",
                                    "2": "Bank of Georgia",
                                    "3": "1903"
                                },
                                {
                                    "0": "Kazakhstan",
                                    "1": "Mining",
                                    "2": "Bogatyr Access Komir",
                                    "3": "1913"
                                },
                                {
                                    "0": "Israel",
                                    "1": "Cafés, Restaurants & Bars",
                                    "2": "Café Abu Salem",
                                    "3": "1914"
                                },
                                {
                                    "0": "Iraq",
                                    "1": "Energy",
                                    "2": "North Oil Company",
                                    "3": "1928"
                                },
                                {
                                    "0": "Afghanistan",
                                    "1": "Agriculture",
                                    "2": "Spinzar Cotton Company",
                                    "3": "1930"
                                },
                                {
                                    "0": "Jordan",
                                    "1": "Banking & Finance",
                                    "2": "Arab Bank",
                                    "3": "1930"
                                },
                                {
                                    "0": "Mongolia",
                                    "1": "Media",
                                    "2": "Mongolian National Broadcaster",
                                    "3": "1931"
                                },
                                {
                                    "0": "Uzbekistan",
                                    "1": "Manufacturing & Production",
                                    "2": "Tashkent Aviation Production Association",
                                    "3": "1932"
                                },
                                {
                                    "0": "Oman",
                                    "1": "Energy",
                                    "2": "Petroleum Development Oman",
                                    "3": "1937"
                                },
                                {
                                    "0": "Nepal",
                                    "1": "Banking & Finance",
                                    "2": "Nepal Bank Limited",
                                    "3": "1937"
                                },
                                {
                                    "0": "United Arab Emirates",
                                    "1": "Manufacturing & Production",
                                    "2": "Liwa Chemicals",
                                    "3": "1939"
                                },
                                {
                                    "0": "Korea, Democratic People's Republic of",
                                    "1": "Aviation & Transport",
                                    "2": "Kim Chong-t'ae Electric Locomotive Works",
                                    "3": "1945"
                                },
                                {
                                    "0": "Brunei Darussalam",
                                    "1": "Retail",
                                    "2": "Hua Ho Department Store",
                                    "3": "1947"
                                },
                                {
                                    "0": "Myanmar",
                                    "1": "Aviation & Transport",
                                    "2": "Myanmar National Airlines",
                                    "3": "1948"
                                },
                                {
                                    "0": "Qatar",
                                    "1": "Conglomerate",
                                    "2": "Salam International Investment Limited",
                                    "3": "1952"
                                },
                                {
                                    "0": "Cambodia",
                                    "1": "Banking & Finance",
                                    "2": "National Bank of Cambodia",
                                    "3": "1954"
                                },
                                {
                                    "0": "Bhutan",
                                    "1": "Aviation & Transport",
                                    "2": "Tashi Group",
                                    "3": "1959"
                                },
                                {
                                    "0": "Lao People's Democratic Republic",
                                    "1": "Energy",
                                    "2": "Electricite du Laos",
                                    "3": "1959"
                                },
                                {
                                    "0": "Yemen",
                                    "1": "Aviation & Transport",
                                    "2": "Yemenia Airways",
                                    "3": "1962"
                                },
                                {
                                    "0": "Seychelles",
                                    "1": "Aviation & Transport",
                                    "2": "Air Seychelles",
                                    "3": "1977"
                                }
                            ]
                        },
                        "text/html": "<table><tr><th>country</th><th>category</th><th>business</th><th>year_founded</th></tr><tr><td>Japan</td><td>Construction</td><td>Kongo Gumi</td><td>578</td></tr><tr><td>China</td><td>Cafés, Restaurants &amp; Bars</td><td>Ma Yu Ching's Bucket Chicken House</td><td>1153</td></tr><tr><td>Turkey</td><td>Tourism &amp; Hotels</td><td>Çemberlitas Hamami</td><td>1584</td></tr><tr><td>India</td><td>Manufacturing &amp; Production</td><td>Wadia Group</td><td>1736</td></tr><tr><td>Malaysia</td><td>Postal Service</td><td>Pos Malaysia</td><td>1800</td></tr><tr><td>Indonesia</td><td>Defense</td><td>Pindad</td><td>1808</td></tr><tr><td>Singapore</td><td>Postal Service</td><td>Singapore Post</td><td>1819</td></tr><tr><td>Bangladesh</td><td>Food &amp; Beverages</td><td>M. M. Ispahani Limited</td><td>1820</td></tr><tr><td>Lebanon</td><td>Banking &amp; Finance</td><td>Bank Audi</td><td>1830</td></tr><tr><td>Sri Lanka</td><td>Food &amp; Beverages</td><td>George Steuart Group</td><td>1835</td></tr><tr><td>Pakistan</td><td>Conglomerate</td><td>House of Habib</td><td>1841</td></tr><tr><td>Saudi Arabia</td><td>Construction</td><td>House of Alireza</td><td>1845</td></tr><tr><td>Philippines</td><td>Distillers, Vintners, &amp; Breweries</td><td>Destileria Limtuaco</td><td>1853</td></tr><tr><td>Azerbaijan</td><td>Aviation &amp; Transport</td><td>Azerbaijan Caspian Shipping Company</td><td>1858</td></tr><tr><td>Armenia</td><td>Distillers, Vintners, &amp; Breweries</td><td>Yerevan Ararat Brandy-Wine-Vodka Factory</td><td>1877</td></tr><tr><td>Thailand</td><td>Conglomerate</td><td>B.Grimm Group</td><td>1878</td></tr><tr><td>Viet Nam</td><td>Aviation &amp; Transport</td><td>Vietnam Railways</td><td>1881</td></tr><tr><td>Bahrain</td><td>Retail</td><td>BMMI</td><td>1883</td></tr><tr><td>Syrian Arab Republic</td><td>Cafés, Restaurants &amp; Bars</td><td>Bakdash</td><td>1885</td></tr><tr><td>Korea, Republic of</td><td>Telecommunications</td><td>KT Corporation</td><td>1885</td></tr><tr><td>Kuwait</td><td>Retail</td><td>M.H. Alshaya Co.</td><td>1890</td></tr><tr><td>Taiwan, Province of China</td><td>Banking &amp; Finance</td><td>Bank of Taiwan</td><td>1897</td></tr><tr><td>Georgia</td><td>Banking &amp; Finance</td><td>Bank of Georgia</td><td>1903</td></tr><tr><td>Kazakhstan</td><td>Mining</td><td>Bogatyr Access Komir</td><td>1913</td></tr><tr><td>Israel</td><td>Cafés, Restaurants &amp; Bars</td><td>Café Abu Salem</td><td>1914</td></tr><tr><td>Iraq</td><td>Energy</td><td>North Oil Company</td><td>1928</td></tr><tr><td>Afghanistan</td><td>Agriculture</td><td>Spinzar Cotton Company</td><td>1930</td></tr><tr><td>Jordan</td><td>Banking &amp; Finance</td><td>Arab Bank</td><td>1930</td></tr><tr><td>Mongolia</td><td>Media</td><td>Mongolian National Broadcaster</td><td>1931</td></tr><tr><td>Uzbekistan</td><td>Manufacturing &amp; Production</td><td>Tashkent Aviation Production Association</td><td>1932</td></tr><tr><td>Oman</td><td>Energy</td><td>Petroleum Development Oman</td><td>1937</td></tr><tr><td>Nepal</td><td>Banking &amp; Finance</td><td>Nepal Bank Limited</td><td>1937</td></tr><tr><td>United Arab Emirates</td><td>Manufacturing &amp; Production</td><td>Liwa Chemicals</td><td>1939</td></tr><tr><td>Korea, Democratic People's Republic of</td><td>Aviation &amp; Transport</td><td>Kim Chong-t'ae Electric Locomotive Works</td><td>1945</td></tr><tr><td>Brunei Darussalam</td><td>Retail</td><td>Hua Ho Department Store</td><td>1947</td></tr><tr><td>Myanmar</td><td>Aviation &amp; Transport</td><td>Myanmar National Airlines</td><td>1948</td></tr><tr><td>Qatar</td><td>Conglomerate</td><td>Salam International Investment Limited</td><td>1952</td></tr><tr><td>Cambodia</td><td>Banking &amp; Finance</td><td>National Bank of Cambodia</td><td>1954</td></tr><tr><td>Bhutan</td><td>Aviation &amp; Transport</td><td>Tashi Group</td><td>1959</td></tr><tr><td>Lao People's Democratic Republic</td><td>Energy</td><td>Electricite du Laos</td><td>1959</td></tr><tr><td>Yemen</td><td>Aviation &amp; Transport</td><td>Yemenia Airways</td><td>1962</td></tr><tr><td>Seychelles</td><td>Aviation &amp; Transport</td><td>Air Seychelles</td><td>1977</td></tr></table>"
                    },
                    "metadata": {}
                }
            ],
            "execution_count": 3
        },
        {
            "cell_type": "code",
            "source": [
                "SELECT business, continent, category, year_founded\r\n",
                "FROM businesses b\r\n",
                "    JOIN categories c1\r\n",
                "    ON b.category_code = c1.category_code\r\n",
                "        JOIN countries c2\r\n",
                "        ON b.country_code = c2.country_code\r\n",
                "WHERE category = 'Banking & Finance'\r\n",
                "AND business NOT LIKE '%Bank%'\r\n",
                "ORDER BY year_founded"
            ],
            "metadata": {
                "language": "sql",
                "azdata_cell_guid": "2873e253-5d92-44cc-af88-fd2f0a0c4e18"
            },
            "outputs": [
                {
                    "output_type": "display_data",
                    "data": {
                        "text/html": "(7 rows affected)"
                    },
                    "metadata": {}
                },
                {
                    "output_type": "display_data",
                    "data": {
                        "text/html": "Total execution time: 00:00:00.034"
                    },
                    "metadata": {}
                },
                {
                    "output_type": "execute_result",
                    "execution_count": 79,
                    "data": {
                        "application/vnd.dataresource+json": {
                            "schema": {
                                "fields": [
                                    {
                                        "name": "business"
                                    },
                                    {
                                        "name": "continent"
                                    },
                                    {
                                        "name": "category"
                                    },
                                    {
                                        "name": "year_founded"
                                    }
                                ]
                            },
                            "data": [
                                {
                                    "0": "Casa Nacional de Moneda",
                                    "1": "South America",
                                    "2": "Banking & Finance",
                                    "3": "1565"
                                },
                                {
                                    "0": "Banco Nacional de Bolivia",
                                    "1": "South America",
                                    "2": "Banking & Finance",
                                    "3": "1871"
                                },
                                {
                                    "0": "HSBC El Salvador",
                                    "1": "North America",
                                    "2": "Banking & Finance",
                                    "3": "1891"
                                },
                                {
                                    "0": "Standard Chartered Zimbabwe",
                                    "1": "Africa",
                                    "2": "Banking & Finance",
                                    "3": "1892"
                                },
                                {
                                    "0": "KCB Group Limited",
                                    "1": "Africa",
                                    "2": "Banking & Finance",
                                    "3": "1896"
                                },
                                {
                                    "0": "Banque Internationale pour la Centrafrique",
                                    "1": "Africa",
                                    "2": "Banking & Finance",
                                    "3": "1946"
                                },
                                {
                                    "0": "European Trust Company",
                                    "1": "Oceania",
                                    "2": "Banking & Finance",
                                    "3": "1991"
                                }
                            ]
                        },
                        "text/html": "<table><tr><th>business</th><th>continent</th><th>category</th><th>year_founded</th></tr><tr><td>Casa Nacional de Moneda</td><td>South America</td><td>Banking &amp; Finance</td><td>1565</td></tr><tr><td>Banco Nacional de Bolivia</td><td>South America</td><td>Banking &amp; Finance</td><td>1871</td></tr><tr><td>HSBC El Salvador</td><td>North America</td><td>Banking &amp; Finance</td><td>1891</td></tr><tr><td>Standard Chartered Zimbabwe</td><td>Africa</td><td>Banking &amp; Finance</td><td>1892</td></tr><tr><td>KCB Group Limited</td><td>Africa</td><td>Banking &amp; Finance</td><td>1896</td></tr><tr><td>Banque Internationale pour la Centrafrique</td><td>Africa</td><td>Banking &amp; Finance</td><td>1946</td></tr><tr><td>European Trust Company</td><td>Oceania</td><td>Banking &amp; Finance</td><td>1991</td></tr></table>"
                    },
                    "metadata": {}
                }
            ],
            "execution_count": 79
        },
        {
            "cell_type": "markdown",
            "source": [
                "### **Q?) Joining everything for further analysis**"
            ],
            "metadata": {
                "azdata_cell_guid": "8181301e-6479-4d7c-8515-1f9eecca6658"
            },
            "attachments": {}
        }
    ]
}