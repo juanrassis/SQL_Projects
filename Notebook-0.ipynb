{
    "metadata": {
        "kernelspec": {
            "name": "SQL",
            "display_name": "SQL",
            "language": "sql"
        },
        "language_info": {
            "name": "sql",
            "version": ""
        }
    },
    "nbformat_minor": 2,
    "nbformat": 4,
    "cells": [
        {
            "cell_type": "markdown",
            "source": [
                "dfsdfsd"
            ],
            "metadata": {
                "azdata_cell_guid": "26b14f7c-7a00-453f-8395-141435faddbb"
            },
            "attachments": {}
        },
        {
            "cell_type": "markdown",
            "source": [
                "### **QUESTION 1: What are the oldest and newest founding years?**"
            ],
            "metadata": {
                "azdata_cell_guid": "8ae4d0e3-113a-4783-9338-e1f62f638687"
            },
            "attachments": {}
        },
        {
            "cell_type": "code",
            "source": [
                "SELECT MIN(b1.year_founded) AS oldest, MAX(b2.year_founded) AS newest\r\n",
                "FROM businesses AS b1\r\n",
                "    JOIN businesses AS b2 -- Applying here a sel-join to create values from the same column.\r\n",
                "    ON b1.business = b2.business\r\n",
                "    -- SQL Server doesn't seem to support a shorter USING clause."
            ],
            "metadata": {
                "azdata_cell_guid": "7bc8b159-3f95-4a30-8360-0f7758bf06a0",
                "language": "sql",
                "tags": []
            },
            "outputs": [
                {
                    "output_type": "display_data",
                    "data": {
                        "text/html": "(1 row affected)"
                    },
                    "metadata": {}
                },
                {
                    "output_type": "display_data",
                    "data": {
                        "text/html": "Total execution time: 00:00:00.041"
                    },
                    "metadata": {}
                },
                {
                    "output_type": "execute_result",
                    "metadata": {},
                    "execution_count": 10,
                    "data": {
                        "application/vnd.dataresource+json": {
                            "schema": {
                                "fields": [
                                    {
                                        "name": "oldest"
                                    },
                                    {
                                        "name": "newest"
                                    }
                                ]
                            },
                            "data": [
                                {
                                    "0": "578",
                                    "1": "1999"
                                }
                            ]
                        },
                        "text/html": [
                            "<table>",
                            "<tr><th>oldest</th><th>newest</th></tr>",
                            "<tr><td>578</td><td>1999</td></tr>",
                            "</table>"
                        ]
                    }
                }
            ],
            "execution_count": 10
        },
        {
            "cell_type": "markdown",
            "source": [
                "Wow! That's a lot of variation between countries. In one country, the oldest business was only founded in 1999. By contrast, the oldest business in the world was founded back in 578. That's pretty incredible that a business has survived for more than a millennium."
            ],
            "metadata": {
                "language": "sql",
                "azdata_cell_guid": "a51bccba-f165-4042-a209-6b3eea0d02e4"
            },
            "attachments": {}
        },
        {
            "cell_type": "markdown",
            "source": [
                "### **QUESTION 2: How many and which businesses were founded before 1000?**"
            ],
            "metadata": {
                "azdata_cell_guid": "a34508b4-592d-4f38-8b47-792765e483f0"
            },
            "attachments": {}
        },
        {
            "cell_type": "code",
            "source": [
                "SELECT COUNT(business)\r\n",
                "FROM businesses\r\n",
                "WHERE year_founded < 1000"
            ],
            "metadata": {
                "azdata_cell_guid": "87d7cafe-1efe-4d00-a71c-a305110e78e4",
                "language": "sql"
            },
            "outputs": [
                {
                    "output_type": "display_data",
                    "data": {
                        "text/html": "(1 row affected)"
                    },
                    "metadata": {}
                },
                {
                    "output_type": "display_data",
                    "data": {
                        "text/html": "Total execution time: 00:00:00.030"
                    },
                    "metadata": {}
                },
                {
                    "output_type": "execute_result",
                    "metadata": {},
                    "execution_count": 11,
                    "data": {
                        "application/vnd.dataresource+json": {
                            "schema": {
                                "fields": [
                                    {
                                        "name": "(No column name)"
                                    }
                                ]
                            },
                            "data": [
                                {
                                    "0": "6"
                                }
                            ]
                        },
                        "text/html": [
                            "<table>",
                            "<tr><th>(No column name)</th></tr>",
                            "<tr><td>6</td></tr>",
                            "</table>"
                        ]
                    }
                }
            ],
            "execution_count": 11
        },
        {
            "cell_type": "markdown",
            "source": [
                "fdsdf"
            ],
            "metadata": {
                "language": "sql",
                "azdata_cell_guid": "a7267a93-72da-4a6f-9aab-12a952f9be09"
            },
            "attachments": {}
        },
        {
            "cell_type": "code",
            "source": [
                "SELECT *\r\n",
                "FROM businesses\r\n",
                "WHERE year_founded < 1000\r\n",
                "ORDER BY year_founded"
            ],
            "metadata": {
                "language": "sql",
                "azdata_cell_guid": "5b9f88c7-a375-4f77-819c-6c9e0d18f288"
            },
            "outputs": [
                {
                    "output_type": "display_data",
                    "data": {
                        "text/html": "(6 rows affected)"
                    },
                    "metadata": {}
                },
                {
                    "output_type": "display_data",
                    "data": {
                        "text/html": "Total execution time: 00:00:00.015"
                    },
                    "metadata": {}
                },
                {
                    "output_type": "execute_result",
                    "metadata": {},
                    "execution_count": 14,
                    "data": {
                        "application/vnd.dataresource+json": {
                            "schema": {
                                "fields": [
                                    {
                                        "name": "business"
                                    },
                                    {
                                        "name": "year_founded"
                                    },
                                    {
                                        "name": "category_code"
                                    },
                                    {
                                        "name": "country_code"
                                    }
                                ]
                            },
                            "data": [
                                {
                                    "0": "Kongo Gumi",
                                    "1": "578",
                                    "2": "CAT6",
                                    "3": "JPN"
                                },
                                {
                                    "0": "St. Peter Stifts Kulinarium",
                                    "1": "803",
                                    "2": "CAT4",
                                    "3": "AUT"
                                },
                                {
                                    "0": "Staffelter Hof Winery",
                                    "1": "862",
                                    "2": "CAT9",
                                    "3": "DEU"
                                },
                                {
                                    "0": "Monnaie de Paris ",
                                    "1": "864",
                                    "2": "CAT12",
                                    "3": "FRA"
                                },
                                {
                                    "0": "The Royal Mint",
                                    "1": "886",
                                    "2": "CAT12",
                                    "3": "GBR"
                                },
                                {
                                    "0": "Sean's Bar",
                                    "1": "900",
                                    "2": "CAT4",
                                    "3": "IRL"
                                }
                            ]
                        },
                        "text/html": [
                            "<table>",
                            "<tr><th>business</th><th>year_founded</th><th>category_code</th><th>country_code</th></tr>",
                            "<tr><td>Kongo Gumi</td><td>578</td><td>CAT6</td><td>JPN</td></tr>",
                            "<tr><td>St. Peter Stifts Kulinarium</td><td>803</td><td>CAT4</td><td>AUT</td></tr>",
                            "<tr><td>Staffelter Hof Winery</td><td>862</td><td>CAT9</td><td>DEU</td></tr>",
                            "<tr><td>Monnaie de Paris </td><td>864</td><td>CAT12</td><td>FRA</td></tr>",
                            "<tr><td>The Royal Mint</td><td>886</td><td>CAT12</td><td>GBR</td></tr>",
                            "<tr><td>Sean's Bar</td><td>900</td><td>CAT4</td><td>IRL</td></tr>",
                            "</table>"
                        ]
                    }
                }
            ],
            "execution_count": 14
        },
        {
            "cell_type": "code",
            "source": [
                "SELECT b.business, b.year_founded, c2.country, c1.category\r\n",
                "FROM businesses AS b\r\n",
                "    JOIN categories AS c1\r\n",
                "    ON b.category_code = c1.category_code\r\n",
                "         JOIN countries AS c2\r\n",
                "         ON b.country_code = c2.country_code\r\n",
                "WHERE b.year_founded < 1000\r\n",
                "ORDER BY b.year_founded;"
            ],
            "metadata": {
                "language": "sql",
                "azdata_cell_guid": "00fa4a06-e9f9-4004-b0e5-b5a16f010f41"
            },
            "outputs": [
                {
                    "output_type": "display_data",
                    "data": {
                        "text/html": "(6 rows affected)"
                    },
                    "metadata": {}
                },
                {
                    "output_type": "display_data",
                    "data": {
                        "text/html": "Total execution time: 00:00:00.016"
                    },
                    "metadata": {}
                },
                {
                    "output_type": "execute_result",
                    "metadata": {},
                    "execution_count": 18,
                    "data": {
                        "application/vnd.dataresource+json": {
                            "schema": {
                                "fields": [
                                    {
                                        "name": "business"
                                    },
                                    {
                                        "name": "year_founded"
                                    },
                                    {
                                        "name": "country"
                                    },
                                    {
                                        "name": "category"
                                    }
                                ]
                            },
                            "data": [
                                {
                                    "0": "Kongo Gumi",
                                    "1": "578",
                                    "2": "Japan",
                                    "3": "Construction"
                                },
                                {
                                    "0": "St. Peter Stifts Kulinarium",
                                    "1": "803",
                                    "2": "Austria",
                                    "3": "Cafés, Restaurants & Bars"
                                },
                                {
                                    "0": "Staffelter Hof Winery",
                                    "1": "862",
                                    "2": "Germany",
                                    "3": "Distillers, Vintners, & Breweries"
                                },
                                {
                                    "0": "Monnaie de Paris ",
                                    "1": "864",
                                    "2": "France",
                                    "3": "Manufacturing & Production"
                                },
                                {
                                    "0": "The Royal Mint",
                                    "1": "886",
                                    "2": "United Kingdom",
                                    "3": "Manufacturing & Production"
                                },
                                {
                                    "0": "Sean's Bar",
                                    "1": "900",
                                    "2": "Ireland",
                                    "3": "Cafés, Restaurants & Bars"
                                }
                            ]
                        },
                        "text/html": [
                            "<table>",
                            "<tr><th>business</th><th>year_founded</th><th>country</th><th>category</th></tr>",
                            "<tr><td>Kongo Gumi</td><td>578</td><td>Japan</td><td>Construction</td></tr>",
                            "<tr><td>St. Peter Stifts Kulinarium</td><td>803</td><td>Austria</td><td>Cafés, Restaurants &amp; Bars</td></tr>",
                            "<tr><td>Staffelter Hof Winery</td><td>862</td><td>Germany</td><td>Distillers, Vintners, &amp; Breweries</td></tr>",
                            "<tr><td>Monnaie de Paris </td><td>864</td><td>France</td><td>Manufacturing &amp; Production</td></tr>",
                            "<tr><td>The Royal Mint</td><td>886</td><td>United Kingdom</td><td>Manufacturing &amp; Production</td></tr>",
                            "<tr><td>Sean's Bar</td><td>900</td><td>Ireland</td><td>Cafés, Restaurants &amp; Bars</td></tr>",
                            "</table>"
                        ]
                    }
                }
            ],
            "execution_count": 18
        },
        {
            "cell_type": "markdown",
            "source": [
                "### **QUESTION 3: What are the long standing categories?**"
            ],
            "metadata": {
                "language": "sql",
                "azdata_cell_guid": "9a5d2679-a44d-4667-bbc5-9badc95ee327"
            },
            "attachments": {}
        },
        {
            "cell_type": "code",
            "source": [
                "SELECT TOP 5 category, COUNT(b.business) AS n -- LIMIT clause also not supported by SQL Server.\r\n",
                "FROM categories AS c\r\n",
                "    JOIN businesses AS b\r\n",
                "    ON c.category_code = b.category_code\r\n",
                "GROUP BY category\r\n",
                "ORDER BY n DESC"
            ],
            "metadata": {
                "language": "sql",
                "azdata_cell_guid": "23ff8d36-0856-4048-bfe4-3ba2bb7ff909"
            },
            "outputs": [
                {
                    "output_type": "display_data",
                    "data": {
                        "text/html": "(5 rows affected)"
                    },
                    "metadata": {}
                },
                {
                    "output_type": "display_data",
                    "data": {
                        "text/html": "Total execution time: 00:00:00.017"
                    },
                    "metadata": {}
                },
                {
                    "output_type": "execute_result",
                    "metadata": {},
                    "execution_count": 22,
                    "data": {
                        "application/vnd.dataresource+json": {
                            "schema": {
                                "fields": [
                                    {
                                        "name": "category"
                                    },
                                    {
                                        "name": "n"
                                    }
                                ]
                            },
                            "data": [
                                {
                                    "0": "Banking & Finance",
                                    "1": "37"
                                },
                                {
                                    "0": "Distillers, Vintners, & Breweries",
                                    "1": "22"
                                },
                                {
                                    "0": "Aviation & Transport",
                                    "1": "19"
                                },
                                {
                                    "0": "Postal Service",
                                    "1": "16"
                                },
                                {
                                    "0": "Manufacturing & Production",
                                    "1": "15"
                                }
                            ]
                        },
                        "text/html": [
                            "<table>",
                            "<tr><th>category</th><th>n</th></tr>",
                            "<tr><td>Banking &amp; Finance</td><td>37</td></tr>",
                            "<tr><td>Distillers, Vintners, &amp; Breweries</td><td>22</td></tr>",
                            "<tr><td>Aviation &amp; Transport</td><td>19</td></tr>",
                            "<tr><td>Postal Service</td><td>16</td></tr>",
                            "<tr><td>Manufacturing &amp; Production</td><td>15</td></tr>",
                            "</table>"
                        ]
                    }
                }
            ],
            "execution_count": 22
        }
    ]
}