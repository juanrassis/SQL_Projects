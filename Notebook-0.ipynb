{
    "metadata": {
        "kernelspec": {
            "name": "SQL",
            "display_name": "SQL",
            "language": "sql"
        },
        "language_info": {
            "name": "sql",
            "version": ""
        }
    },
    "nbformat_minor": 2,
    "nbformat": 4,
    "cells": [
        {
            "cell_type": "markdown",
            "source": [
                "Oi teste 1"
            ],
            "metadata": {
                "azdata_cell_guid": "8ae4d0e3-113a-4783-9338-e1f62f638687"
            },
            "attachments": {}
        },
        {
            "cell_type": "code",
            "source": [
                "SELECT TOP (3) *\r\n",
                "FROM businesses\r\n",
                "WHERE year_founded < 1000\r\n",
                ""
            ],
            "metadata": {
                "azdata_cell_guid": "7bc8b159-3f95-4a30-8360-0f7758bf06a0",
                "language": "sql"
            },
            "outputs": [
                {
                    "output_type": "display_data",
                    "data": {
                        "text/html": "(3 rows affected)"
                    },
                    "metadata": {}
                },
                {
                    "output_type": "display_data",
                    "data": {
                        "text/html": "Total execution time: 00:00:00.010"
                    },
                    "metadata": {}
                },
                {
                    "output_type": "execute_result",
                    "execution_count": 6,
                    "data": {
                        "application/vnd.dataresource+json": {
                            "schema": {
                                "fields": [
                                    {
                                        "name": "business"
                                    },
                                    {
                                        "name": "year_founded"
                                    },
                                    {
                                        "name": "category_code"
                                    },
                                    {
                                        "name": "country_code"
                                    }
                                ]
                            },
                            "data": [
                                {
                                    "0": "Kongo Gumi",
                                    "1": "578",
                                    "2": "CAT6",
                                    "3": "JPN"
                                },
                                {
                                    "0": "Monnaie de Paris ",
                                    "1": "864",
                                    "2": "CAT12",
                                    "3": "FRA"
                                },
                                {
                                    "0": "Sean's Bar",
                                    "1": "900",
                                    "2": "CAT4",
                                    "3": "IRL"
                                }
                            ]
                        },
                        "text/html": "<table><tr><th>business</th><th>year_founded</th><th>category_code</th><th>country_code</th></tr><tr><td>Kongo Gumi</td><td>578</td><td>CAT6</td><td>JPN</td></tr><tr><td>Monnaie de Paris </td><td>864</td><td>CAT12</td><td>FRA</td></tr><tr><td>Sean's Bar</td><td>900</td><td>CAT4</td><td>IRL</td></tr></table>"
                    },
                    "metadata": {}
                }
            ],
            "execution_count": 6
        }
    ]
}