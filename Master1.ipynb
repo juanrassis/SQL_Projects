{
    "metadata": {
        "kernelspec": {
            "name": "SQL",
            "display_name": "SQL",
            "language": "sql"
        },
        "language_info": {
            "name": "sql",
            "version": ""
        }
    },
    "nbformat_minor": 2,
    "nbformat": 4,
    "cells": [
        {
            "cell_type": "markdown",
            "source": [
                "# **Exploratory and Time Series Analysis in SQL**\n",
                "\n",
                "![Intro Image](.\\Materials\\IntroImage2.jpg)\n",
                "\n",
                "An important part\n",
                "\n",
                "**USAGE STATS**\n",
                "\n",
                "> **<u>column</u>                                         <u>type</u>                  <u>meaning</u>**\n",
                "> \n",
                "> <span style=\"background-color: rgba(127, 127, 127, 0.1);\">Date&nbsp; &nbsp; &nbsp; &nbsp; &nbsp; &nbsp; &nbsp; &nbsp; &nbsp; &nbsp; &nbsp; &nbsp; &nbsp; &nbsp; &nbsp; &nbsp; &nbsp; &nbsp; &nbsp; &nbsp; &nbsp; &nbsp; varchar&nbsp; &nbsp; &nbsp; &nbsp; &nbsp; &nbsp; &nbsp;The date of the recorded observation in standart SQL format (YYYY-MM-DD).</span>\n",
                "> \n",
                "> <span style=\"background-color: rgba(127, 127, 127, 0.1);\">Rented_Bike_Count&nbsp; &nbsp; &nbsp; &nbsp; &nbsp; &nbsp; &nbsp; &nbsp; &nbsp; &nbsp; &nbsp;varchar&nbsp; &nbsp; &nbsp; &nbsp; &nbsp; &nbsp; &nbsp;The count of bikes rented within a set hour.</span>\n",
                "> \n",
                "> <span style=\"background-color: rgba(127, 127, 127, 0.1);\">Hour&nbsp; &nbsp; &nbsp; &nbsp; &nbsp; &nbsp; &nbsp; &nbsp; &nbsp; &nbsp; &nbsp; &nbsp; &nbsp; &nbsp; &nbsp; &nbsp; &nbsp; &nbsp; &nbsp; &nbsp; &nbsp; &nbsp; varchar&nbsp; &nbsp; &nbsp; &nbsp; &nbsp; &nbsp; &nbsp;The start day-hour of counting from 0 to 23.</span>\n",
                "> \n",
                "> <span style=\"background-color: rgba(127, 127, 127, 0.1);\">Temperature_C&nbsp; &nbsp; &nbsp; &nbsp; &nbsp; &nbsp; &nbsp; &nbsp; &nbsp; &nbsp; &nbsp; &nbsp; &nbsp; &nbsp; varchar&nbsp; &nbsp; &nbsp; &nbsp; &nbsp; &nbsp; &nbsp;The temperature in Celcius Degrees based 0° the point of freezing water and 100° of boiling water.&nbsp;&nbsp;</span> \n",
                "> \n",
                "> <span style=\"background-color: rgba(127, 127, 127, 0.1);\">Humidity&nbsp; &nbsp; &nbsp; &nbsp; &nbsp; &nbsp; &nbsp; &nbsp; &nbsp; &nbsp; &nbsp; &nbsp; &nbsp; &nbsp; &nbsp; &nbsp; &nbsp; &nbsp; &nbsp;varchar&nbsp; &nbsp; &nbsp; &nbsp; &nbsp; &nbsp; &nbsp;Percentage of amount of water vapor in the air.</span>\n",
                "> \n",
                "> <span style=\"background-color: rgba(127, 127, 127, 0.1);\">Wind_speed_m_s&nbsp; &nbsp; &nbsp; &nbsp; &nbsp; &nbsp; &nbsp; &nbsp; &nbsp; &nbsp; &nbsp; &nbsp; varchar&nbsp; &nbsp; &nbsp; &nbsp; &nbsp; &nbsp; &nbsp;The strength of natural wind affecting the environment measured in meters per second (m/s).</span>\n",
                "> \n",
                "> <span style=\"background-color: rgba(127, 127, 127, 0.1);\">Visibility_10m&nbsp; &nbsp; &nbsp; &nbsp; &nbsp; &nbsp; &nbsp; &nbsp; &nbsp; &nbsp; &nbsp; &nbsp; &nbsp; &nbsp; &nbsp; varchar&nbsp; &nbsp; &nbsp; &nbsp; &nbsp; &nbsp; &nbsp;Description of the business category</span>\n",
                "> \n",
                "> <span style=\"background-color: rgba(127, 127, 127, 0.1);\">Dew_point_temperature_C&nbsp; &nbsp; &nbsp; &nbsp; &nbsp; varchar&nbsp; &nbsp; &nbsp; &nbsp; &nbsp; &nbsp; &nbsp;Description of the business category</span>\n",
                "> \n",
                "> <span style=\"background-color: rgba(127, 127, 127, 0.1);\">Solar_Radiation_MJ_m2&nbsp; &nbsp; &nbsp; &nbsp; &nbsp; &nbsp; &nbsp; &nbsp;varchar&nbsp; &nbsp; &nbsp; &nbsp; &nbsp; &nbsp; &nbsp;Description of the business category</span>\n",
                "> \n",
                "> <span style=\"background-color: rgba(127, 127, 127, 0.1);\">Rainfall_mm&nbsp; &nbsp; &nbsp; &nbsp; &nbsp; &nbsp; &nbsp; &nbsp; &nbsp; &nbsp; &nbsp; &nbsp; &nbsp; &nbsp; &nbsp; &nbsp; &nbsp;varchar&nbsp; &nbsp; &nbsp; &nbsp; &nbsp; &nbsp; &nbsp;Description of the business category</span>\n",
                "> \n",
                "> <span style=\"background-color: rgba(127, 127, 127, 0.1);\">Snowfall_cm&nbsp; &nbsp; &nbsp; &nbsp; &nbsp; &nbsp; &nbsp; &nbsp; &nbsp; &nbsp; &nbsp; &nbsp; &nbsp; &nbsp; &nbsp; &nbsp; varchar&nbsp; &nbsp; &nbsp; &nbsp; &nbsp; &nbsp; &nbsp;Description of the business category</span>\n",
                "> \n",
                "> <span style=\"background-color: rgba(127, 127, 127, 0.1);\">Seasons&nbsp; &nbsp; &nbsp; &nbsp; &nbsp; &nbsp; &nbsp; &nbsp; &nbsp; &nbsp; &nbsp; &nbsp; &nbsp; &nbsp; &nbsp; &nbsp; &nbsp; &nbsp; &nbsp; &nbsp;varchar&nbsp; &nbsp; &nbsp; &nbsp; &nbsp; &nbsp; &nbsp;Description of the business category</span>\n",
                "> \n",
                "> <span style=\"background-color: rgba(127, 127, 127, 0.1);\">Holiday&nbsp; &nbsp; &nbsp; &nbsp; &nbsp; &nbsp; &nbsp; &nbsp; &nbsp; &nbsp; &nbsp; &nbsp; &nbsp; &nbsp; &nbsp; &nbsp; &nbsp; &nbsp; &nbsp; &nbsp; varchar&nbsp; &nbsp; &nbsp; &nbsp; &nbsp; &nbsp; &nbsp;Description of the business category</span>\n",
                "> \n",
                "> <span style=\"background-color: rgba(127, 127, 127, 0.1);\">Functioning_Day&nbsp; &nbsp; &nbsp; &nbsp; &nbsp; &nbsp; &nbsp; &nbsp; &nbsp; &nbsp; &nbsp; &nbsp; &nbsp;varchar&nbsp; &nbsp; &nbsp; &nbsp; &nbsp; &nbsp; &nbsp;Description of the business category</span>"
            ],
            "metadata": {
                "azdata_cell_guid": "1a69d49b-08ab-4e6a-b637-0db5bcc88667"
            },
            "attachments": {}
        },
        {
            "cell_type": "code",
            "source": [
                "-- DATASET OVERVIEW \r\n",
                "SELECT TOP 5 *\r\n",
                "FROM UsageStats u JOIN Calendar c\r\n",
                "    ON u.date = c.datekey"
            ],
            "metadata": {
                "azdata_cell_guid": "bf660bd0-1e14-4e2a-8d1c-38d3c8417a93",
                "language": "sql",
                "tags": [
                    "hide_input"
                ]
            },
            "outputs": [
                {
                    "output_type": "display_data",
                    "data": {
                        "text/html": "(5 rows affected)"
                    },
                    "metadata": {}
                },
                {
                    "output_type": "display_data",
                    "data": {
                        "text/html": "Total execution time: 00:00:00.042"
                    },
                    "metadata": {}
                },
                {
                    "output_type": "execute_result",
                    "metadata": {},
                    "execution_count": 64,
                    "data": {
                        "application/vnd.dataresource+json": {
                            "schema": {
                                "fields": [
                                    {
                                        "name": "Date"
                                    },
                                    {
                                        "name": "Rented_Bike_Count"
                                    },
                                    {
                                        "name": "Hour"
                                    },
                                    {
                                        "name": "Temperature_C"
                                    },
                                    {
                                        "name": "Humidity"
                                    },
                                    {
                                        "name": "Wind_speed_m_s"
                                    },
                                    {
                                        "name": "Visibility_10m"
                                    },
                                    {
                                        "name": "Dew_point_temperature_C"
                                    },
                                    {
                                        "name": "Solar_Radiation_MJ_m2"
                                    },
                                    {
                                        "name": "Rainfall_mm"
                                    },
                                    {
                                        "name": "Snowfall_cm"
                                    },
                                    {
                                        "name": "Seasons"
                                    },
                                    {
                                        "name": "Holiday"
                                    },
                                    {
                                        "name": "Functioning_Day"
                                    },
                                    {
                                        "name": "DateKey"
                                    },
                                    {
                                        "name": "Date"
                                    },
                                    {
                                        "name": "Day"
                                    },
                                    {
                                        "name": "DayOfWeek"
                                    },
                                    {
                                        "name": "DayName"
                                    },
                                    {
                                        "name": "IsWeekend"
                                    },
                                    {
                                        "name": "DayOfWeekInMonth"
                                    },
                                    {
                                        "name": "CalendarDayOfYear"
                                    },
                                    {
                                        "name": "WeekOfMonth"
                                    },
                                    {
                                        "name": "CalendarWeekOfYear"
                                    },
                                    {
                                        "name": "CalendarMonth"
                                    },
                                    {
                                        "name": "MonthName"
                                    },
                                    {
                                        "name": "CalendarQuarter"
                                    },
                                    {
                                        "name": "CalendarQuarterName"
                                    },
                                    {
                                        "name": "CalendarYear"
                                    },
                                    {
                                        "name": "FirstDayOfMonth"
                                    },
                                    {
                                        "name": "LastDayOfMonth"
                                    },
                                    {
                                        "name": "FirstDayOfWeek"
                                    },
                                    {
                                        "name": "LastDayOfWeek"
                                    },
                                    {
                                        "name": "FirstDayOfQuarter"
                                    },
                                    {
                                        "name": "LastDayOfQuarter"
                                    },
                                    {
                                        "name": "CalendarFirstDayOfYear"
                                    },
                                    {
                                        "name": "CalendarLastDayOfYear"
                                    },
                                    {
                                        "name": "FirstDayOfNextMonth"
                                    },
                                    {
                                        "name": "CalendarFirstDayOfNextYear"
                                    },
                                    {
                                        "name": "FiscalDayOfYear"
                                    },
                                    {
                                        "name": "FiscalWeekOfYear"
                                    },
                                    {
                                        "name": "FiscalMonth"
                                    },
                                    {
                                        "name": "FiscalQuarter"
                                    },
                                    {
                                        "name": "FiscalQuarterName"
                                    },
                                    {
                                        "name": "FiscalYear"
                                    },
                                    {
                                        "name": "FiscalFirstDayOfYear"
                                    },
                                    {
                                        "name": "FiscalLastDayOfYear"
                                    },
                                    {
                                        "name": "FiscalFirstDayOfNextYear"
                                    }
                                ]
                            },
                            "data": [
                                {
                                    "0": "2017-12-01",
                                    "1": "254",
                                    "2": "0",
                                    "3": "-5.199999809265137",
                                    "4": "37",
                                    "5": "2.200000047683716",
                                    "6": "2000",
                                    "7": "-17.600000381469727",
                                    "8": "0",
                                    "9": "0",
                                    "10": "0",
                                    "11": "Winter",
                                    "12": "No Holiday",
                                    "13": "Yes",
                                    "14": "2017-12-01",
                                    "15": "2017-12-01",
                                    "16": "1",
                                    "17": "6",
                                    "18": "Friday",
                                    "19": "0",
                                    "20": "1",
                                    "21": "335",
                                    "22": "1",
                                    "23": "48",
                                    "24": "12",
                                    "25": "December",
                                    "26": "4",
                                    "27": "Q4",
                                    "28": "2017",
                                    "29": "2017-01-12",
                                    "30": "2017-12-31",
                                    "31": "2017-11-26",
                                    "32": "2017-12-02",
                                    "33": "2017-01-10",
                                    "34": "2017-12-31",
                                    "35": "2017-01-01",
                                    "36": "2017-12-31",
                                    "37": "2018-01-01",
                                    "38": "2018-01-01",
                                    "39": "154",
                                    "40": "23",
                                    "41": "6",
                                    "42": "2",
                                    "43": "Q2",
                                    "44": "2017",
                                    "45": "2017-07-01",
                                    "46": "2018-06-30",
                                    "47": "2018-07-01"
                                },
                                {
                                    "0": "2017-12-01",
                                    "1": "204",
                                    "2": "1",
                                    "3": "-5.5",
                                    "4": "38",
                                    "5": "0.800000011920929",
                                    "6": "2000",
                                    "7": "-17.600000381469727",
                                    "8": "0",
                                    "9": "0",
                                    "10": "0",
                                    "11": "Winter",
                                    "12": "No Holiday",
                                    "13": "Yes",
                                    "14": "2017-12-01",
                                    "15": "2017-12-01",
                                    "16": "1",
                                    "17": "6",
                                    "18": "Friday",
                                    "19": "0",
                                    "20": "1",
                                    "21": "335",
                                    "22": "1",
                                    "23": "48",
                                    "24": "12",
                                    "25": "December",
                                    "26": "4",
                                    "27": "Q4",
                                    "28": "2017",
                                    "29": "2017-01-12",
                                    "30": "2017-12-31",
                                    "31": "2017-11-26",
                                    "32": "2017-12-02",
                                    "33": "2017-01-10",
                                    "34": "2017-12-31",
                                    "35": "2017-01-01",
                                    "36": "2017-12-31",
                                    "37": "2018-01-01",
                                    "38": "2018-01-01",
                                    "39": "154",
                                    "40": "23",
                                    "41": "6",
                                    "42": "2",
                                    "43": "Q2",
                                    "44": "2017",
                                    "45": "2017-07-01",
                                    "46": "2018-06-30",
                                    "47": "2018-07-01"
                                },
                                {
                                    "0": "2017-12-01",
                                    "1": "173",
                                    "2": "2",
                                    "3": "-6",
                                    "4": "39",
                                    "5": "1",
                                    "6": "2000",
                                    "7": "-17.700000762939453",
                                    "8": "0",
                                    "9": "0",
                                    "10": "0",
                                    "11": "Winter",
                                    "12": "No Holiday",
                                    "13": "Yes",
                                    "14": "2017-12-01",
                                    "15": "2017-12-01",
                                    "16": "1",
                                    "17": "6",
                                    "18": "Friday",
                                    "19": "0",
                                    "20": "1",
                                    "21": "335",
                                    "22": "1",
                                    "23": "48",
                                    "24": "12",
                                    "25": "December",
                                    "26": "4",
                                    "27": "Q4",
                                    "28": "2017",
                                    "29": "2017-01-12",
                                    "30": "2017-12-31",
                                    "31": "2017-11-26",
                                    "32": "2017-12-02",
                                    "33": "2017-01-10",
                                    "34": "2017-12-31",
                                    "35": "2017-01-01",
                                    "36": "2017-12-31",
                                    "37": "2018-01-01",
                                    "38": "2018-01-01",
                                    "39": "154",
                                    "40": "23",
                                    "41": "6",
                                    "42": "2",
                                    "43": "Q2",
                                    "44": "2017",
                                    "45": "2017-07-01",
                                    "46": "2018-06-30",
                                    "47": "2018-07-01"
                                },
                                {
                                    "0": "2017-12-01",
                                    "1": "107",
                                    "2": "3",
                                    "3": "-6.199999809265137",
                                    "4": "40",
                                    "5": "0.8999999761581421",
                                    "6": "2000",
                                    "7": "-17.600000381469727",
                                    "8": "0",
                                    "9": "0",
                                    "10": "0",
                                    "11": "Winter",
                                    "12": "No Holiday",
                                    "13": "Yes",
                                    "14": "2017-12-01",
                                    "15": "2017-12-01",
                                    "16": "1",
                                    "17": "6",
                                    "18": "Friday",
                                    "19": "0",
                                    "20": "1",
                                    "21": "335",
                                    "22": "1",
                                    "23": "48",
                                    "24": "12",
                                    "25": "December",
                                    "26": "4",
                                    "27": "Q4",
                                    "28": "2017",
                                    "29": "2017-01-12",
                                    "30": "2017-12-31",
                                    "31": "2017-11-26",
                                    "32": "2017-12-02",
                                    "33": "2017-01-10",
                                    "34": "2017-12-31",
                                    "35": "2017-01-01",
                                    "36": "2017-12-31",
                                    "37": "2018-01-01",
                                    "38": "2018-01-01",
                                    "39": "154",
                                    "40": "23",
                                    "41": "6",
                                    "42": "2",
                                    "43": "Q2",
                                    "44": "2017",
                                    "45": "2017-07-01",
                                    "46": "2018-06-30",
                                    "47": "2018-07-01"
                                },
                                {
                                    "0": "2017-12-01",
                                    "1": "78",
                                    "2": "4",
                                    "3": "-6",
                                    "4": "36",
                                    "5": "2.299999952316284",
                                    "6": "2000",
                                    "7": "-18.600000381469727",
                                    "8": "0",
                                    "9": "0",
                                    "10": "0",
                                    "11": "Winter",
                                    "12": "No Holiday",
                                    "13": "Yes",
                                    "14": "2017-12-01",
                                    "15": "2017-12-01",
                                    "16": "1",
                                    "17": "6",
                                    "18": "Friday",
                                    "19": "0",
                                    "20": "1",
                                    "21": "335",
                                    "22": "1",
                                    "23": "48",
                                    "24": "12",
                                    "25": "December",
                                    "26": "4",
                                    "27": "Q4",
                                    "28": "2017",
                                    "29": "2017-01-12",
                                    "30": "2017-12-31",
                                    "31": "2017-11-26",
                                    "32": "2017-12-02",
                                    "33": "2017-01-10",
                                    "34": "2017-12-31",
                                    "35": "2017-01-01",
                                    "36": "2017-12-31",
                                    "37": "2018-01-01",
                                    "38": "2018-01-01",
                                    "39": "154",
                                    "40": "23",
                                    "41": "6",
                                    "42": "2",
                                    "43": "Q2",
                                    "44": "2017",
                                    "45": "2017-07-01",
                                    "46": "2018-06-30",
                                    "47": "2018-07-01"
                                }
                            ]
                        },
                        "text/html": [
                            "<table>",
                            "<tr><th>Date</th><th>Rented_Bike_Count</th><th>Hour</th><th>Temperature_C</th><th>Humidity</th><th>Wind_speed_m_s</th><th>Visibility_10m</th><th>Dew_point_temperature_C</th><th>Solar_Radiation_MJ_m2</th><th>Rainfall_mm</th><th>Snowfall_cm</th><th>Seasons</th><th>Holiday</th><th>Functioning_Day</th><th>DateKey</th><th>Date</th><th>Day</th><th>DayOfWeek</th><th>DayName</th><th>IsWeekend</th><th>DayOfWeekInMonth</th><th>CalendarDayOfYear</th><th>WeekOfMonth</th><th>CalendarWeekOfYear</th><th>CalendarMonth</th><th>MonthName</th><th>CalendarQuarter</th><th>CalendarQuarterName</th><th>CalendarYear</th><th>FirstDayOfMonth</th><th>LastDayOfMonth</th><th>FirstDayOfWeek</th><th>LastDayOfWeek</th><th>FirstDayOfQuarter</th><th>LastDayOfQuarter</th><th>CalendarFirstDayOfYear</th><th>CalendarLastDayOfYear</th><th>FirstDayOfNextMonth</th><th>CalendarFirstDayOfNextYear</th><th>FiscalDayOfYear</th><th>FiscalWeekOfYear</th><th>FiscalMonth</th><th>FiscalQuarter</th><th>FiscalQuarterName</th><th>FiscalYear</th><th>FiscalFirstDayOfYear</th><th>FiscalLastDayOfYear</th><th>FiscalFirstDayOfNextYear</th></tr>",
                            "<tr><td>2017-12-01</td><td>254</td><td>0</td><td>-5.199999809265137</td><td>37</td><td>2.200000047683716</td><td>2000</td><td>-17.600000381469727</td><td>0</td><td>0</td><td>0</td><td>Winter</td><td>No Holiday</td><td>Yes</td><td>2017-12-01</td><td>2017-12-01</td><td>1</td><td>6</td><td>Friday</td><td>0</td><td>1</td><td>335</td><td>1</td><td>48</td><td>12</td><td>December</td><td>4</td><td>Q4</td><td>2017</td><td>2017-01-12</td><td>2017-12-31</td><td>2017-11-26</td><td>2017-12-02</td><td>2017-01-10</td><td>2017-12-31</td><td>2017-01-01</td><td>2017-12-31</td><td>2018-01-01</td><td>2018-01-01</td><td>154</td><td>23</td><td>6</td><td>2</td><td>Q2</td><td>2017</td><td>2017-07-01</td><td>2018-06-30</td><td>2018-07-01</td></tr>",
                            "<tr><td>2017-12-01</td><td>204</td><td>1</td><td>-5.5</td><td>38</td><td>0.800000011920929</td><td>2000</td><td>-17.600000381469727</td><td>0</td><td>0</td><td>0</td><td>Winter</td><td>No Holiday</td><td>Yes</td><td>2017-12-01</td><td>2017-12-01</td><td>1</td><td>6</td><td>Friday</td><td>0</td><td>1</td><td>335</td><td>1</td><td>48</td><td>12</td><td>December</td><td>4</td><td>Q4</td><td>2017</td><td>2017-01-12</td><td>2017-12-31</td><td>2017-11-26</td><td>2017-12-02</td><td>2017-01-10</td><td>2017-12-31</td><td>2017-01-01</td><td>2017-12-31</td><td>2018-01-01</td><td>2018-01-01</td><td>154</td><td>23</td><td>6</td><td>2</td><td>Q2</td><td>2017</td><td>2017-07-01</td><td>2018-06-30</td><td>2018-07-01</td></tr>",
                            "<tr><td>2017-12-01</td><td>173</td><td>2</td><td>-6</td><td>39</td><td>1</td><td>2000</td><td>-17.700000762939453</td><td>0</td><td>0</td><td>0</td><td>Winter</td><td>No Holiday</td><td>Yes</td><td>2017-12-01</td><td>2017-12-01</td><td>1</td><td>6</td><td>Friday</td><td>0</td><td>1</td><td>335</td><td>1</td><td>48</td><td>12</td><td>December</td><td>4</td><td>Q4</td><td>2017</td><td>2017-01-12</td><td>2017-12-31</td><td>2017-11-26</td><td>2017-12-02</td><td>2017-01-10</td><td>2017-12-31</td><td>2017-01-01</td><td>2017-12-31</td><td>2018-01-01</td><td>2018-01-01</td><td>154</td><td>23</td><td>6</td><td>2</td><td>Q2</td><td>2017</td><td>2017-07-01</td><td>2018-06-30</td><td>2018-07-01</td></tr>",
                            "<tr><td>2017-12-01</td><td>107</td><td>3</td><td>-6.199999809265137</td><td>40</td><td>0.8999999761581421</td><td>2000</td><td>-17.600000381469727</td><td>0</td><td>0</td><td>0</td><td>Winter</td><td>No Holiday</td><td>Yes</td><td>2017-12-01</td><td>2017-12-01</td><td>1</td><td>6</td><td>Friday</td><td>0</td><td>1</td><td>335</td><td>1</td><td>48</td><td>12</td><td>December</td><td>4</td><td>Q4</td><td>2017</td><td>2017-01-12</td><td>2017-12-31</td><td>2017-11-26</td><td>2017-12-02</td><td>2017-01-10</td><td>2017-12-31</td><td>2017-01-01</td><td>2017-12-31</td><td>2018-01-01</td><td>2018-01-01</td><td>154</td><td>23</td><td>6</td><td>2</td><td>Q2</td><td>2017</td><td>2017-07-01</td><td>2018-06-30</td><td>2018-07-01</td></tr>",
                            "<tr><td>2017-12-01</td><td>78</td><td>4</td><td>-6</td><td>36</td><td>2.299999952316284</td><td>2000</td><td>-18.600000381469727</td><td>0</td><td>0</td><td>0</td><td>Winter</td><td>No Holiday</td><td>Yes</td><td>2017-12-01</td><td>2017-12-01</td><td>1</td><td>6</td><td>Friday</td><td>0</td><td>1</td><td>335</td><td>1</td><td>48</td><td>12</td><td>December</td><td>4</td><td>Q4</td><td>2017</td><td>2017-01-12</td><td>2017-12-31</td><td>2017-11-26</td><td>2017-12-02</td><td>2017-01-10</td><td>2017-12-31</td><td>2017-01-01</td><td>2017-12-31</td><td>2018-01-01</td><td>2018-01-01</td><td>154</td><td>23</td><td>6</td><td>2</td><td>Q2</td><td>2017</td><td>2017-07-01</td><td>2018-06-30</td><td>2018-07-01</td></tr>",
                            "</table>"
                        ]
                    }
                }
            ],
            "execution_count": 64
        },
        {
            "cell_type": "code",
            "source": [
                "-- DISTRIBUTION OF RENTAL ACTIVITY ACROSS WEEKDAYS\r\n",
                "SELECT \r\n",
                "    DATENAME(WEEKDAY,date) AS 'Day of Week',\r\n",
                "    AVG(Rented_Bike_Count) AS 'Average Rent Count'\r\n",
                "FROM UsageStats\r\n",
                "GROUP BY DATENAME(WEEKDAY,date),DATEPART(WEEKDAY,date)\r\n",
                "ORDER BY DATEPART(WEEKDAY,date)"
            ],
            "metadata": {
                "language": "sql",
                "azdata_cell_guid": "333edce8-6a90-4d65-8c80-4aa7c3dfe905",
                "tags": [
                    "hide_input"
                ]
            },
            "outputs": [
                {
                    "output_type": "display_data",
                    "data": {
                        "text/html": "(7 rows affected)"
                    },
                    "metadata": {}
                },
                {
                    "output_type": "display_data",
                    "data": {
                        "text/html": "Total execution time: 00:00:00.029"
                    },
                    "metadata": {}
                },
                {
                    "output_type": "execute_result",
                    "metadata": {
                        "azdata_chartOptions": {
                            "type": "bar",
                            "dataDirection": "horizontal",
                            "columnsAsLabels": true,
                            "labelFirstColumn": true,
                            "legendPosition": "top"
                        }
                    },
                    "execution_count": 14,
                    "data": {
                        "application/vnd.dataresource+json": {
                            "schema": {
                                "fields": [
                                    {
                                        "name": "Day of Week"
                                    },
                                    {
                                        "name": "Average Rent Count"
                                    }
                                ]
                            },
                            "data": [
                                {
                                    "0": "Sunday",
                                    "1": "169"
                                },
                                {
                                    "0": "Monday",
                                    "1": "213"
                                },
                                {
                                    "0": "Tuesday",
                                    "1": "241"
                                },
                                {
                                    "0": "Wednesday",
                                    "1": "222"
                                },
                                {
                                    "0": "Thursday",
                                    "1": "246"
                                },
                                {
                                    "0": "Friday",
                                    "1": "282"
                                },
                                {
                                    "0": "Saturday",
                                    "1": "222"
                                }
                            ]
                        },
                        "text/html": [
                            "<table>",
                            "<tr><th>Day of Week</th><th>Average Rent Count</th></tr>",
                            "<tr><td>Sunday</td><td>169</td></tr>",
                            "<tr><td>Monday</td><td>213</td></tr>",
                            "<tr><td>Tuesday</td><td>241</td></tr>",
                            "<tr><td>Wednesday</td><td>222</td></tr>",
                            "<tr><td>Thursday</td><td>246</td></tr>",
                            "<tr><td>Friday</td><td>282</td></tr>",
                            "<tr><td>Saturday</td><td>222</td></tr>",
                            "</table>"
                        ]
                    }
                }
            ],
            "execution_count": 14
        },
        {
            "cell_type": "code",
            "source": [
                "-- DISTRIBUTION OF RENTAL ACTIVITY ACROSS THE DAY\r\n",
                "SELECT \r\n",
                "    [Hour],\r\n",
                "    AVG(Rented_Bike_Count) AS 'Average Rent Count'\r\n",
                "FROM UsageStats\r\n",
                "GROUP BY [Hour]\r\n",
                "ORDER BY [Hour]"
            ],
            "metadata": {
                "language": "sql",
                "azdata_cell_guid": "b8ebc1b1-5fe3-41b7-bd0e-42cedae0370a",
                "tags": [
                    "hide_input"
                ]
            },
            "outputs": [
                {
                    "output_type": "display_data",
                    "data": {
                        "text/html": "(24 rows affected)"
                    },
                    "metadata": {}
                },
                {
                    "output_type": "display_data",
                    "data": {
                        "text/html": "Total execution time: 00:00:00.053"
                    },
                    "metadata": {}
                },
                {
                    "output_type": "execute_result",
                    "metadata": {
                        "azdata_chartOptions": {
                            "type": "line",
                            "dataDirection": "vertical",
                            "columnsAsLabels": true,
                            "labelFirstColumn": false,
                            "legendPosition": "none",
                            "dataType": "number"
                        }
                    },
                    "execution_count": 69,
                    "data": {
                        "application/vnd.dataresource+json": {
                            "schema": {
                                "fields": [
                                    {
                                        "name": "Hour"
                                    },
                                    {
                                        "name": "Average Rent Count"
                                    }
                                ]
                            },
                            "data": [
                                {
                                    "0": "0",
                                    "1": "176"
                                },
                                {
                                    "0": "1",
                                    "1": "169"
                                },
                                {
                                    "0": "2",
                                    "1": "127"
                                },
                                {
                                    "0": "3",
                                    "1": "83"
                                },
                                {
                                    "0": "4",
                                    "1": "53"
                                },
                                {
                                    "0": "5",
                                    "1": "54"
                                },
                                {
                                    "0": "6",
                                    "1": "92"
                                },
                                {
                                    "0": "7",
                                    "1": "207"
                                },
                                {
                                    "0": "8",
                                    "1": "421"
                                },
                                {
                                    "0": "9",
                                    "1": "257"
                                },
                                {
                                    "0": "10",
                                    "1": "187"
                                },
                                {
                                    "0": "11",
                                    "1": "229"
                                },
                                {
                                    "0": "12",
                                    "1": "265"
                                },
                                {
                                    "0": "13",
                                    "1": "281"
                                },
                                {
                                    "0": "14",
                                    "1": "288"
                                },
                                {
                                    "0": "15",
                                    "1": "298"
                                },
                                {
                                    "0": "16",
                                    "1": "310"
                                },
                                {
                                    "0": "17",
                                    "1": "342"
                                },
                                {
                                    "0": "18",
                                    "1": "429"
                                },
                                {
                                    "0": "19",
                                    "1": "302"
                                },
                                {
                                    "0": "20",
                                    "1": "246"
                                },
                                {
                                    "0": "21",
                                    "1": "245"
                                },
                                {
                                    "0": "22",
                                    "1": "231"
                                },
                                {
                                    "0": "23",
                                    "1": "182"
                                }
                            ]
                        },
                        "text/html": [
                            "<table>",
                            "<tr><th>Hour</th><th>Average Rent Count</th></tr>",
                            "<tr><td>0</td><td>176</td></tr>",
                            "<tr><td>1</td><td>169</td></tr>",
                            "<tr><td>2</td><td>127</td></tr>",
                            "<tr><td>3</td><td>83</td></tr>",
                            "<tr><td>4</td><td>53</td></tr>",
                            "<tr><td>5</td><td>54</td></tr>",
                            "<tr><td>6</td><td>92</td></tr>",
                            "<tr><td>7</td><td>207</td></tr>",
                            "<tr><td>8</td><td>421</td></tr>",
                            "<tr><td>9</td><td>257</td></tr>",
                            "<tr><td>10</td><td>187</td></tr>",
                            "<tr><td>11</td><td>229</td></tr>",
                            "<tr><td>12</td><td>265</td></tr>",
                            "<tr><td>13</td><td>281</td></tr>",
                            "<tr><td>14</td><td>288</td></tr>",
                            "<tr><td>15</td><td>298</td></tr>",
                            "<tr><td>16</td><td>310</td></tr>",
                            "<tr><td>17</td><td>342</td></tr>",
                            "<tr><td>18</td><td>429</td></tr>",
                            "<tr><td>19</td><td>302</td></tr>",
                            "<tr><td>20</td><td>246</td></tr>",
                            "<tr><td>21</td><td>245</td></tr>",
                            "<tr><td>22</td><td>231</td></tr>",
                            "<tr><td>23</td><td>182</td></tr>",
                            "</table>"
                        ]
                    }
                }
            ],
            "execution_count": 69
        },
        {
            "cell_type": "markdown",
            "source": [
                "  \n",
                "\n",
                "Numbers are based on an estimation inspired by the [US National Weather Service](https://www.weather.gov/pqr/wind)."
            ],
            "metadata": {
                "language": "sql",
                "azdata_cell_guid": "b1b096f8-96fa-4e7a-ab54-7a590e5f2419"
            },
            "attachments": {}
        },
        {
            "cell_type": "code",
            "source": [
                "--CATEGORISING WIND SPEED\r\n",
                "WITH cte AS ( \r\n",
                "SELECT *, CASE\r\n",
                "        WHEN Wind_speed_m_s BETWEEN 0 AND 1.699 THEN 'Calmness to Light Air'\r\n",
                "        WHEN Wind_speed_m_s BETWEEN 1.700 AND 4.149 THEN 'Light to Gentle Breeze'\r\n",
                "        WHEN Wind_speed_m_s BETWEEN 4.150 AND 7.000 THEN 'Moderate to Strong Breeze'\r\n",
                "        ELSE 'Unsafer to Travel'\r\n",
                "    END AS WindStrength\r\n",
                "FROM UsageStats)\r\n",
                "\r\n",
                "/* After using a common table expression to bin wind speed data into categories,\r\n",
                "   I can then retrieve the data into a more visibly, clear way. */\r\n",
                "\r\n",
                "SELECT DATENAME(MONTH,Date) AS Month, WindStrength, COUNT(*) AS NumberofEvents, AVG(Rented_Bike_Count) AvgRentedBikes\r\n",
                "FROM cte GROUP BY DATENAME(MONTH,Date), WindStrength ORDER BY NumberofEvents DESC"
            ],
            "metadata": {
                "language": "sql",
                "azdata_cell_guid": "286f68e9-13a0-4432-bfda-701a15c6d54a",
                "tags": [
                    "hide_input"
                ]
            },
            "outputs": [
                {
                    "output_type": "display_data",
                    "data": {
                        "text/html": "(6 rows affected)"
                    },
                    "metadata": {}
                },
                {
                    "output_type": "display_data",
                    "data": {
                        "text/html": "Total execution time: 00:00:00.043"
                    },
                    "metadata": {}
                },
                {
                    "output_type": "execute_result",
                    "metadata": {},
                    "execution_count": 62,
                    "data": {
                        "application/vnd.dataresource+json": {
                            "schema": {
                                "fields": [
                                    {
                                        "name": "Month"
                                    },
                                    {
                                        "name": "WindStrength"
                                    },
                                    {
                                        "name": "NumberofEvents"
                                    },
                                    {
                                        "name": "AvgRentedBikes"
                                    }
                                ]
                            },
                            "data": [
                                {
                                    "0": "December",
                                    "1": "Calmness to Light Air",
                                    "2": "420",
                                    "3": "251"
                                },
                                {
                                    "0": "January",
                                    "1": "Calmness to Light Air",
                                    "2": "336",
                                    "3": "206"
                                },
                                {
                                    "0": "January",
                                    "1": "Light to Gentle Breeze",
                                    "2": "324",
                                    "3": "205"
                                },
                                {
                                    "0": "December",
                                    "1": "Light to Gentle Breeze",
                                    "2": "293",
                                    "3": "241"
                                },
                                {
                                    "0": "December",
                                    "1": "Moderate to Strong Breeze",
                                    "2": "31",
                                    "3": "286"
                                },
                                {
                                    "0": "January",
                                    "1": "Moderate to Strong Breeze",
                                    "2": "24",
                                    "3": "175"
                                }
                            ]
                        },
                        "text/html": [
                            "<table>",
                            "<tr><th>Month</th><th>WindStrength</th><th>NumberofEvents</th><th>AvgRentedBikes</th></tr>",
                            "<tr><td>December</td><td>Calmness to Light Air</td><td>420</td><td>251</td></tr>",
                            "<tr><td>January</td><td>Calmness to Light Air</td><td>336</td><td>206</td></tr>",
                            "<tr><td>January</td><td>Light to Gentle Breeze</td><td>324</td><td>205</td></tr>",
                            "<tr><td>December</td><td>Light to Gentle Breeze</td><td>293</td><td>241</td></tr>",
                            "<tr><td>December</td><td>Moderate to Strong Breeze</td><td>31</td><td>286</td></tr>",
                            "<tr><td>January</td><td>Moderate to Strong Breeze</td><td>24</td><td>175</td></tr>",
                            "</table>"
                        ]
                    }
                }
            ],
            "execution_count": 62
        },
        {
            "cell_type": "markdown",
            "source": [
                "**COMMENT ON RESULTS:** It is important to note that the dataset doesn't contain any recorded events with wind speed over 7 m/s. Which could be explained by Seoul having its windiest month"
            ],
            "metadata": {
                "language": "sql",
                "azdata_cell_guid": "77f42225-e7a1-4304-94eb-076cca7205a9"
            },
            "attachments": {}
        },
        {
            "cell_type": "code",
            "source": [
                "SELECT\r\n",
                "    DATENAME(year,date),\r\n",
                "    COUNT(date)\r\n",
                "FROM UsageStats\r\n",
                "GROUP BY DATENAME(year,date)"
            ],
            "metadata": {
                "language": "sql",
                "azdata_cell_guid": "301b00db-38ba-4ea3-9bc5-9f459ec5eefd"
            },
            "outputs": [
                {
                    "output_type": "display_data",
                    "data": {
                        "text/html": "(2 rows affected)"
                    },
                    "metadata": {}
                },
                {
                    "output_type": "display_data",
                    "data": {
                        "text/html": "Total execution time: 00:00:00.018"
                    },
                    "metadata": {}
                },
                {
                    "output_type": "execute_result",
                    "metadata": {},
                    "execution_count": 68,
                    "data": {
                        "application/vnd.dataresource+json": {
                            "schema": {
                                "fields": [
                                    {
                                        "name": "(No column name)"
                                    },
                                    {
                                        "name": "(No column name)"
                                    }
                                ]
                            },
                            "data": [
                                {
                                    "0": "2018",
                                    "1": "684"
                                },
                                {
                                    "0": "2017",
                                    "1": "744"
                                }
                            ]
                        },
                        "text/html": [
                            "<table>",
                            "<tr><th>(No column name)</th><th>(No column name)</th></tr>",
                            "<tr><td>2018</td><td>684</td></tr>",
                            "<tr><td>2017</td><td>744</td></tr>",
                            "</table>"
                        ]
                    }
                }
            ],
            "execution_count": 68
        }
    ]
}