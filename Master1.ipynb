{
    "metadata": {
        "kernelspec": {
            "name": "SQL",
            "display_name": "SQL",
            "language": "sql"
        },
        "language_info": {
            "name": "sql",
            "version": ""
        }
    },
    "nbformat_minor": 2,
    "nbformat": 4,
    "cells": [
        {
            "cell_type": "markdown",
            "source": [
                "# **Exploratory and Time Series Analysis in SQL**\n",
                "\n",
                "![Intro Image](.\\Materials\\IntroImage2.jpg)\n",
                "\n",
                "An important part\n",
                "\n",
                "**USAGE STATS**\n",
                "\n",
                "> **<u>column</u>                                         <u>type</u>                  <u>meaning</u>**\n",
                "> \n",
                "> <span style=\"background-color: rgba(127, 127, 127, 0.1);\">Date&nbsp; &nbsp; &nbsp; &nbsp; &nbsp; &nbsp; &nbsp; &nbsp; &nbsp; &nbsp; &nbsp; &nbsp; &nbsp; &nbsp; &nbsp; &nbsp; &nbsp; &nbsp; &nbsp; &nbsp; &nbsp; &nbsp; varchar&nbsp; &nbsp; &nbsp; &nbsp; &nbsp; &nbsp; &nbsp;The date of the recorded observation in standart SQL format (YYYY-MM-DD).</span>\n",
                "> \n",
                "> <span style=\"background-color: rgba(127, 127, 127, 0.1);\">Rented_Bike_Count&nbsp; &nbsp; &nbsp; &nbsp; &nbsp; &nbsp; &nbsp; &nbsp; &nbsp; &nbsp; &nbsp;varchar&nbsp; &nbsp; &nbsp; &nbsp; &nbsp; &nbsp; &nbsp;The count of bikes rented within a set hour.</span>\n",
                "> \n",
                "> <span style=\"background-color: rgba(127, 127, 127, 0.1);\">Hour&nbsp; &nbsp; &nbsp; &nbsp; &nbsp; &nbsp; &nbsp; &nbsp; &nbsp; &nbsp; &nbsp; &nbsp; &nbsp; &nbsp; &nbsp; &nbsp; &nbsp; &nbsp; &nbsp; &nbsp; &nbsp; &nbsp; varchar&nbsp; &nbsp; &nbsp; &nbsp; &nbsp; &nbsp; &nbsp;The start day-hour of counting from 0 to 23.</span>\n",
                "> \n",
                "> <span style=\"background-color: rgba(127, 127, 127, 0.1);\">Temperature_C&nbsp; &nbsp; &nbsp; &nbsp; &nbsp; &nbsp; &nbsp; &nbsp; &nbsp; &nbsp; &nbsp; &nbsp; &nbsp; &nbsp; varchar&nbsp; &nbsp; &nbsp; &nbsp; &nbsp; &nbsp; &nbsp;The temperature in Celcius Degrees based 0° the point of freezing water and 100° of boiling water.&nbsp;&nbsp;</span> \n",
                "> \n",
                "> <span style=\"background-color: rgba(127, 127, 127, 0.1);\">Humidity&nbsp; &nbsp; &nbsp; &nbsp; &nbsp; &nbsp; &nbsp; &nbsp; &nbsp; &nbsp; &nbsp; &nbsp; &nbsp; &nbsp; &nbsp; &nbsp; &nbsp; &nbsp; &nbsp;varchar&nbsp; &nbsp; &nbsp; &nbsp; &nbsp; &nbsp; &nbsp;Percentage of amount of water vapor in the air.</span>\n",
                "> \n",
                "> <span style=\"background-color: rgba(127, 127, 127, 0.1);\">Wind_speed_m_s&nbsp; &nbsp; &nbsp; &nbsp; &nbsp; &nbsp; &nbsp; &nbsp; &nbsp; &nbsp; &nbsp; &nbsp; varchar&nbsp; &nbsp; &nbsp; &nbsp; &nbsp; &nbsp; &nbsp;The strength of natural wind affecting the environment measured in meters per second (m/s).</span>\n",
                "> \n",
                "> <span style=\"background-color: rgba(127, 127, 127, 0.1);\">Visibility_10m&nbsp; &nbsp; &nbsp; &nbsp; &nbsp; &nbsp; &nbsp; &nbsp; &nbsp; &nbsp; &nbsp; &nbsp; &nbsp; &nbsp; &nbsp; varchar&nbsp; &nbsp; &nbsp; &nbsp; &nbsp; &nbsp; &nbsp;Description of the business category</span>\n",
                "> \n",
                "> <span style=\"background-color: rgba(127, 127, 127, 0.1);\">Rainfall_mm&nbsp; &nbsp; &nbsp; &nbsp; &nbsp; &nbsp; &nbsp; &nbsp; &nbsp; &nbsp; &nbsp; &nbsp; &nbsp; &nbsp; &nbsp; &nbsp; &nbsp;varchar&nbsp; &nbsp; &nbsp; &nbsp; &nbsp; &nbsp; &nbsp;Description of the business category</span>\n",
                "> \n",
                "> <span style=\"background-color: rgba(127, 127, 127, 0.1);\">Snowfall_cm&nbsp; &nbsp; &nbsp; &nbsp; &nbsp; &nbsp; &nbsp; &nbsp; &nbsp; &nbsp; &nbsp; &nbsp; &nbsp; &nbsp; &nbsp; &nbsp; varchar&nbsp; &nbsp; &nbsp; &nbsp; &nbsp; &nbsp; &nbsp;Description of the business category</span>\n",
                "> \n",
                "> <span style=\"background-color: rgba(127, 127, 127, 0.1);\">Holiday&nbsp; &nbsp; &nbsp; &nbsp; &nbsp; &nbsp; &nbsp; &nbsp; &nbsp; &nbsp; &nbsp; &nbsp; &nbsp; &nbsp; &nbsp; &nbsp; &nbsp; &nbsp; &nbsp; &nbsp; varchar&nbsp; &nbsp; &nbsp; &nbsp; &nbsp; &nbsp; &nbsp;Description of the business category</span>"
            ],
            "metadata": {
                "azdata_cell_guid": "1a69d49b-08ab-4e6a-b637-0db5bcc88667"
            },
            "attachments": {}
        },
        {
            "cell_type": "code",
            "source": [
                "-- DATASET OVERVIEW \r\n",
                "SELECT TOP 2 *\r\n",
                "FROM UsageStats u"
            ],
            "metadata": {
                "azdata_cell_guid": "bf660bd0-1e14-4e2a-8d1c-38d3c8417a93",
                "language": "sql",
                "tags": [
                    "hide_input"
                ]
            },
            "outputs": [
                {
                    "output_type": "display_data",
                    "data": {
                        "text/html": "(2 rows affected)"
                    },
                    "metadata": {}
                },
                {
                    "output_type": "display_data",
                    "data": {
                        "text/html": "Total execution time: 00:00:00.030"
                    },
                    "metadata": {}
                },
                {
                    "output_type": "execute_result",
                    "execution_count": 141,
                    "data": {
                        "application/vnd.dataresource+json": {
                            "schema": {
                                "fields": [
                                    {
                                        "name": "Date"
                                    },
                                    {
                                        "name": "Rented_Bike_Count"
                                    },
                                    {
                                        "name": "Hour"
                                    },
                                    {
                                        "name": "Temperature_C"
                                    },
                                    {
                                        "name": "Humidity"
                                    },
                                    {
                                        "name": "Wind_speed_m_s"
                                    },
                                    {
                                        "name": "Visibility_10m"
                                    },
                                    {
                                        "name": "Dew_point_temperature_C"
                                    },
                                    {
                                        "name": "Solar_Radiation_MJ_m2"
                                    },
                                    {
                                        "name": "Rainfall_mm"
                                    },
                                    {
                                        "name": "Snowfall_cm"
                                    },
                                    {
                                        "name": "Seasons"
                                    },
                                    {
                                        "name": "Holiday"
                                    },
                                    {
                                        "name": "Functioning_Day"
                                    }
                                ]
                            },
                            "data": [
                                {
                                    "0": "2017-12-01",
                                    "1": "254",
                                    "2": "0",
                                    "3": "-5.199999809265137",
                                    "4": "37",
                                    "5": "2.200000047683716",
                                    "6": "2000",
                                    "7": "-17.600000381469727",
                                    "8": "0",
                                    "9": "0",
                                    "10": "0",
                                    "11": "Winter",
                                    "12": "No Holiday",
                                    "13": "Yes"
                                },
                                {
                                    "0": "2017-12-01",
                                    "1": "204",
                                    "2": "1",
                                    "3": "-5.5",
                                    "4": "38",
                                    "5": "0.800000011920929",
                                    "6": "2000",
                                    "7": "-17.600000381469727",
                                    "8": "0",
                                    "9": "0",
                                    "10": "0",
                                    "11": "Winter",
                                    "12": "No Holiday",
                                    "13": "Yes"
                                }
                            ]
                        },
                        "text/html": "<table><tr><th>Date</th><th>Rented_Bike_Count</th><th>Hour</th><th>Temperature_C</th><th>Humidity</th><th>Wind_speed_m_s</th><th>Visibility_10m</th><th>Dew_point_temperature_C</th><th>Solar_Radiation_MJ_m2</th><th>Rainfall_mm</th><th>Snowfall_cm</th><th>Seasons</th><th>Holiday</th><th>Functioning_Day</th></tr><tr><td>2017-12-01</td><td>254</td><td>0</td><td>-5.199999809265137</td><td>37</td><td>2.200000047683716</td><td>2000</td><td>-17.600000381469727</td><td>0</td><td>0</td><td>0</td><td>Winter</td><td>No Holiday</td><td>Yes</td></tr><tr><td>2017-12-01</td><td>204</td><td>1</td><td>-5.5</td><td>38</td><td>0.800000011920929</td><td>2000</td><td>-17.600000381469727</td><td>0</td><td>0</td><td>0</td><td>Winter</td><td>No Holiday</td><td>Yes</td></tr></table>"
                    },
                    "metadata": {}
                }
            ],
            "execution_count": 141
        },
        {
            "cell_type": "markdown",
            "source": [
                "### **SUMMARY STATISTICS**\n",
                "\n",
                "As I believe there is no one-only built-in T-SQL function that can provide a summary for all (or selected) dimensions, I had to improvise in my querying to generate key statistics (and a few customisable info) for everything all at once."
            ],
            "metadata": {
                "language": "sql",
                "azdata_cell_guid": "470e2644-cf05-41c7-8988-a9a8e42c8583"
            },
            "attachments": {}
        },
        {
            "cell_type": "code",
            "source": [
                "                           /* Used UNION clause to arrange the statistics in a Matrix style. */\r\n",
                "SELECT '5) Average' 'Statistics',\r\n",
                "    AVG(Rented_Bike_Count) Rented_Bike_Count, AVG(Temperature_C) Temperature_C, AVG(Humidity) Humidity, AVG(Wind_speed_m_s) Wind_speed_m_s,\r\n",
                "    AVG(Visibility_10m) Visibility_10m, AVG(Rainfall_mm) Rainfall_mm, AVG(Snowfall_cm) Snowfall_cm\r\n",
                "FROM UsageStats\r\n",
                "UNION                      /* The CASE statement works around the lack of a built-in function to count null values. */\r\n",
                "SELECT '1) Null Values',\r\n",
                "    SUM(case when Rented_Bike_Count is null then 1 else 0 end), SUM(case when Temperature_C is null then 1 else 0 end),\r\n",
                "    SUM(case when Humidity is null then 1 else 0 end), SUM(case when Wind_speed_m_s is null then 1 else 0 end),\r\n",
                "    SUM(case when Visibility_10m is null then 1 else 0 end), SUM(case when Rainfall_mm is null then 1 else 0 end),\r\n",
                "    SUM(case when Snowfall_cm is null then 1 else 0 end)\r\n",
                "FROM UsageStats\r\n",
                "UNION                      /* Aggregates functions of AVG, MIN and MAX are also added in the summary. */\r\n",
                "SELECT '2) Minimum',\r\n",
                "    MIN(Rented_Bike_Count), MIN(Temperature_C), MIN(Humidity), MIN(Wind_speed_m_s), MIN(Visibility_10m), MIN(Rainfall_mm), MIN(Snowfall_cm)\r\n",
                "FROM UsageStats\r\n",
                "UNION                      /* Had to use WITHIN GROUP and OVER clause as required by the MS documentation to work around getting the median */\r\n",
                "SELECT '3) Median',\r\n",
                "    PERCENTILE_DISC(0.5) WITHIN GROUP(ORDER BY Rented_Bike_Count)OVER(), PERCENTILE_DISC(0.5) WITHIN GROUP(ORDER BY Temperature_C)OVER(),\r\n",
                "    PERCENTILE_DISC(0.5) WITHIN GROUP(ORDER BY Humidity)OVER(), PERCENTILE_DISC(0.5) WITHIN GROUP(ORDER BY Wind_speed_m_s)OVER(),\r\n",
                "    PERCENTILE_DISC(0.5) WITHIN GROUP(ORDER BY Visibility_10m)OVER(), PERCENTILE_DISC(0.5) WITHIN GROUP(ORDER BY Rainfall_mm)OVER(),\r\n",
                "    PERCENTILE_DISC(0.5) WITHIN GROUP(ORDER BY Snowfall_cm)OVER()\r\n",
                "FROM UsageStats\r\n",
                "UNION\r\n",
                "SELECT '4) Maximum',\r\n",
                "    MAX(Rented_Bike_Count), MAX(Temperature_C), MAX(Humidity), MAX(Wind_speed_m_s), MAX(Visibility_10m), MAX(Rainfall_mm), MAX(Snowfall_cm)\r\n",
                "FROM UsageStats\r\n",
                "UNION                      /* Standard Deviation also helps me interpret the distribution of the data points. */\r\n",
                "SELECT '6) Standard Deviation',\r\n",
                "    STDEV(Rented_Bike_Count), STDEV(Temperature_C), STDEV(Humidity), STDEV(Wind_speed_m_s), STDEV(Visibility_10m), STDEV(Rainfall_mm),\r\n",
                "    STDEV(Snowfall_cm)\r\n",
                "FROM UsageStats\r\n",
                "\r\n",
                "ORDER BY [Statistics]"
            ],
            "metadata": {
                "language": "sql",
                "azdata_cell_guid": "301b00db-38ba-4ea3-9bc5-9f459ec5eefd",
                "tags": [
                    "hide_input"
                ]
            },
            "outputs": [
                {
                    "output_type": "display_data",
                    "data": {
                        "text/html": "(6 rows affected)"
                    },
                    "metadata": {}
                },
                {
                    "output_type": "display_data",
                    "data": {
                        "text/html": "Total execution time: 00:00:00.152"
                    },
                    "metadata": {}
                },
                {
                    "output_type": "execute_result",
                    "metadata": {},
                    "execution_count": 13,
                    "data": {
                        "application/vnd.dataresource+json": {
                            "schema": {
                                "fields": [
                                    {
                                        "name": "Statistics"
                                    },
                                    {
                                        "name": "Rented_Bike_Count"
                                    },
                                    {
                                        "name": "Temperature_C"
                                    },
                                    {
                                        "name": "Humidity"
                                    },
                                    {
                                        "name": "Wind_speed_m_s"
                                    },
                                    {
                                        "name": "Visibility_10m"
                                    },
                                    {
                                        "name": "Rainfall_mm"
                                    },
                                    {
                                        "name": "Snowfall_cm"
                                    }
                                ]
                            },
                            "data": [
                                {
                                    "0": "1) Null Values",
                                    "1": "0",
                                    "2": "0",
                                    "3": "0",
                                    "4": "0",
                                    "5": "0",
                                    "6": "0",
                                    "7": "0"
                                },
                                {
                                    "0": "2) Minimum",
                                    "1": "3",
                                    "2": "-17.799999237060547",
                                    "3": "15",
                                    "4": "0",
                                    "5": "59",
                                    "6": "0",
                                    "7": "0"
                                },
                                {
                                    "0": "3) Median",
                                    "1": "210",
                                    "2": "-2.5999999046325684",
                                    "3": "49",
                                    "4": "1.600000023841858",
                                    "5": "1700",
                                    "6": "0",
                                    "7": "0"
                                },
                                {
                                    "0": "4) Maximum",
                                    "1": "937",
                                    "2": "8.600000381469727",
                                    "3": "96",
                                    "4": "6.699999809265137",
                                    "5": "2000",
                                    "6": "9.5",
                                    "7": "5.099999904632568"
                                },
                                {
                                    "0": "5) Average",
                                    "1": "228",
                                    "2": "-2.864845943217184",
                                    "3": "51",
                                    "4": "1.8015406177919202",
                                    "5": "1388",
                                    "6": "0.028291316640352",
                                    "7": "0.2673669470740216"
                                },
                                {
                                    "0": "6) Standard Deviation",
                                    "1": "146.62096491999318",
                                    "2": "5.546107643385477",
                                    "3": "19.10581216026551",
                                    "4": "1.127423531149696",
                                    "5": "660.8855099962893",
                                    "6": "0.35208561890391105",
                                    "7": "0.6664864109786526"
                                }
                            ]
                        },
                        "text/html": [
                            "<table>",
                            "<tr><th>Statistics</th><th>Rented_Bike_Count</th><th>Temperature_C</th><th>Humidity</th><th>Wind_speed_m_s</th><th>Visibility_10m</th><th>Rainfall_mm</th><th>Snowfall_cm</th></tr>",
                            "<tr><td>1) Null Values</td><td>0</td><td>0</td><td>0</td><td>0</td><td>0</td><td>0</td><td>0</td></tr>",
                            "<tr><td>2) Minimum</td><td>3</td><td>-17.799999237060547</td><td>15</td><td>0</td><td>59</td><td>0</td><td>0</td></tr>",
                            "<tr><td>3) Median</td><td>210</td><td>-2.5999999046325684</td><td>49</td><td>1.600000023841858</td><td>1700</td><td>0</td><td>0</td></tr>",
                            "<tr><td>4) Maximum</td><td>937</td><td>8.600000381469727</td><td>96</td><td>6.699999809265137</td><td>2000</td><td>9.5</td><td>5.099999904632568</td></tr>",
                            "<tr><td>5) Average</td><td>228</td><td>-2.864845943217184</td><td>51</td><td>1.8015406177919202</td><td>1388</td><td>0.028291316640352</td><td>0.2673669470740216</td></tr>",
                            "<tr><td>6) Standard Deviation</td><td>146.62096491999318</td><td>5.546107643385477</td><td>19.10581216026551</td><td>1.127423531149696</td><td>660.8855099962893</td><td>0.35208561890391105</td><td>0.6664864109786526</td></tr>",
                            "</table>"
                        ]
                    }
                }
            ],
            "execution_count": 13
        },
        {
            "cell_type": "code",
            "source": [
                "-- DISTRIBUTION OF RENTAL ACTIVITY ACROSS A WEEK\r\n",
                "SELECT DayOfWeek, AVG(n) AS 'Average Per Day of Week'\r\n",
                "FROM\r\n",
                "    (SELECT\r\n",
                "        DATEPART(WEEKDAY,date) AS DayNumber,\r\n",
                "        DATENAME(WEEKDAY,date) AS DayOfWeek,\r\n",
                "        SUM(Rented_Bike_Count) AS n\r\n",
                "     FROM UsageStats GROUP BY date) temp\r\n",
                "GROUP BY DayOfWeek, DayNumber ORDER BY DayNumber"
            ],
            "metadata": {
                "language": "sql",
                "azdata_cell_guid": "4ca4fc68-5aca-4f69-9eef-a048b500d98a",
                "tags": [
                    "hide_input"
                ]
            },
            "outputs": [
                {
                    "output_type": "display_data",
                    "data": {
                        "text/html": "(7 rows affected)"
                    },
                    "metadata": {}
                },
                {
                    "output_type": "display_data",
                    "data": {
                        "text/html": "Total execution time: 00:00:00.027"
                    },
                    "metadata": {}
                },
                {
                    "output_type": "execute_result",
                    "execution_count": 94,
                    "data": {
                        "application/vnd.dataresource+json": {
                            "schema": {
                                "fields": [
                                    {
                                        "name": "DayOfWeek"
                                    },
                                    {
                                        "name": "Average Per Day of Week"
                                    }
                                ]
                            },
                            "data": [
                                {
                                    "0": "Sunday",
                                    "1": "4069"
                                },
                                {
                                    "0": "Monday",
                                    "1": "4843"
                                },
                                {
                                    "0": "Tuesday",
                                    "1": "5796"
                                },
                                {
                                    "0": "Wednesday",
                                    "1": "5340"
                                },
                                {
                                    "0": "Thursday",
                                    "1": "5905"
                                },
                                {
                                    "0": "Friday",
                                    "1": "6788"
                                },
                                {
                                    "0": "Saturday",
                                    "1": "5332"
                                }
                            ]
                        },
                        "text/html": "<table><tr><th>DayOfWeek</th><th>Average Per Day of Week</th></tr><tr><td>Sunday</td><td>4069</td></tr><tr><td>Monday</td><td>4843</td></tr><tr><td>Tuesday</td><td>5796</td></tr><tr><td>Wednesday</td><td>5340</td></tr><tr><td>Thursday</td><td>5905</td></tr><tr><td>Friday</td><td>6788</td></tr><tr><td>Saturday</td><td>5332</td></tr></table>"
                    },
                    "metadata": {
                        "azdata_chartOptions": {
                            "type": "bar",
                            "dataDirection": "horizontal",
                            "columnsAsLabels": true,
                            "labelFirstColumn": true,
                            "legendPosition": "top"
                        }
                    }
                }
            ],
            "execution_count": 94
        },
        {
            "cell_type": "markdown",
            "source": [
                "**COMMENT ON RESULTS:** Surprisingly, the numbers for Saturdays and Sundays are below those recorded for most business days, with Sundays performing 25% below the overall average (\\<5427) and Fridays proving to be the busiest days with bike sharing trips performing 25% above the same average."
            ],
            "metadata": {
                "language": "sql",
                "azdata_cell_guid": "eafd1d4e-24b3-4db0-8fcf-721a2ed43935"
            },
            "attachments": {}
        },
        {
            "cell_type": "code",
            "source": [
                "-- DISTRIBUTION OF RENTAL ACTIVITY ACROSS THE DAY\r\n",
                "SELECT \r\n",
                "    Hour,\r\n",
                "    AVG(Rented_Bike_Count) AS 'Average Rent Count'\r\n",
                "FROM UsageStats\r\n",
                "GROUP BY Hour\r\n",
                "ORDER BY Hour"
            ],
            "metadata": {
                "language": "sql",
                "azdata_cell_guid": "b8ebc1b1-5fe3-41b7-bd0e-42cedae0370a",
                "tags": [
                    "hide_input"
                ]
            },
            "outputs": [
                {
                    "output_type": "display_data",
                    "data": {
                        "text/html": "(24 rows affected)"
                    },
                    "metadata": {}
                },
                {
                    "output_type": "display_data",
                    "data": {
                        "text/html": "Total execution time: 00:00:00.053"
                    },
                    "metadata": {}
                },
                {
                    "output_type": "execute_result",
                    "execution_count": 69,
                    "data": {
                        "application/vnd.dataresource+json": {
                            "schema": {
                                "fields": [
                                    {
                                        "name": "Hour"
                                    },
                                    {
                                        "name": "Average Rent Count"
                                    }
                                ]
                            },
                            "data": [
                                {
                                    "0": "0",
                                    "1": "176"
                                },
                                {
                                    "0": "1",
                                    "1": "169"
                                },
                                {
                                    "0": "2",
                                    "1": "127"
                                },
                                {
                                    "0": "3",
                                    "1": "83"
                                },
                                {
                                    "0": "4",
                                    "1": "53"
                                },
                                {
                                    "0": "5",
                                    "1": "54"
                                },
                                {
                                    "0": "6",
                                    "1": "92"
                                },
                                {
                                    "0": "7",
                                    "1": "207"
                                },
                                {
                                    "0": "8",
                                    "1": "421"
                                },
                                {
                                    "0": "9",
                                    "1": "257"
                                },
                                {
                                    "0": "10",
                                    "1": "187"
                                },
                                {
                                    "0": "11",
                                    "1": "229"
                                },
                                {
                                    "0": "12",
                                    "1": "265"
                                },
                                {
                                    "0": "13",
                                    "1": "281"
                                },
                                {
                                    "0": "14",
                                    "1": "288"
                                },
                                {
                                    "0": "15",
                                    "1": "298"
                                },
                                {
                                    "0": "16",
                                    "1": "310"
                                },
                                {
                                    "0": "17",
                                    "1": "342"
                                },
                                {
                                    "0": "18",
                                    "1": "429"
                                },
                                {
                                    "0": "19",
                                    "1": "302"
                                },
                                {
                                    "0": "20",
                                    "1": "246"
                                },
                                {
                                    "0": "21",
                                    "1": "245"
                                },
                                {
                                    "0": "22",
                                    "1": "231"
                                },
                                {
                                    "0": "23",
                                    "1": "182"
                                }
                            ]
                        },
                        "text/html": "<table><tr><th>Hour</th><th>Average Rent Count</th></tr><tr><td>0</td><td>176</td></tr><tr><td>1</td><td>169</td></tr><tr><td>2</td><td>127</td></tr><tr><td>3</td><td>83</td></tr><tr><td>4</td><td>53</td></tr><tr><td>5</td><td>54</td></tr><tr><td>6</td><td>92</td></tr><tr><td>7</td><td>207</td></tr><tr><td>8</td><td>421</td></tr><tr><td>9</td><td>257</td></tr><tr><td>10</td><td>187</td></tr><tr><td>11</td><td>229</td></tr><tr><td>12</td><td>265</td></tr><tr><td>13</td><td>281</td></tr><tr><td>14</td><td>288</td></tr><tr><td>15</td><td>298</td></tr><tr><td>16</td><td>310</td></tr><tr><td>17</td><td>342</td></tr><tr><td>18</td><td>429</td></tr><tr><td>19</td><td>302</td></tr><tr><td>20</td><td>246</td></tr><tr><td>21</td><td>245</td></tr><tr><td>22</td><td>231</td></tr><tr><td>23</td><td>182</td></tr></table>"
                    },
                    "metadata": {
                        "azdata_chartOptions": {
                            "type": "line",
                            "dataDirection": "vertical",
                            "columnsAsLabels": true,
                            "labelFirstColumn": true,
                            "legendPosition": "none",
                            "yAxisLabel": "Average Rent Count",
                            "xAxisLabel": "Hours across the day",
                            "dataType": "number"
                        }
                    }
                }
            ],
            "execution_count": 69
        },
        {
            "cell_type": "markdown",
            "source": [
                "**COMMENT ON RESULTS:** Consistent usage above average counts (\\>228) only happens between 11am and 10pm and the count decreases significantly after 1h (with the background between 3am and 6am). However, large spikes in the number of rented bikes can be observed at both sunrise (≈7:40am) and sunset (≈5:15pm) [times](https://www.timeanddate.com/sun/south-korea/seoul?month=12&year=2017) in Seoul."
            ],
            "metadata": {
                "language": "sql",
                "azdata_cell_guid": "e851c68c-7569-4847-b804-36ee10b883c1"
            },
            "attachments": {}
        },
        {
            "cell_type": "code",
            "source": [
                "--CATEGORISING WIND SPEED\r\n",
                "WITH cte AS ( \r\n",
                "SELECT *, CASE\r\n",
                "        WHEN Temperature_C BETWEEN 0 AND 8.9 THEN 'Acceptable'\r\n",
                "        WHEN Temperature_C BETWEEN -8.900 AND -0.001 THEN 'Difficult'\r\n",
                "        WHEN Temperature_C BETWEEN -17.800 AND -8.790 THEN 'Impossible'\r\n",
                "        ELSE 'Unsafe to Travel'\r\n",
                "    END AS SeverityOfTemperature\r\n",
                "FROM UsageStats)\r\n",
                "\r\n",
                "/* After using a common table expression to bin temperature data into categories,\r\n",
                "   I can then retrieve the data into a more visibly, clear way. */\r\n",
                "\r\n",
                "SELECT SeverityOfTemperature, AVG(Rented_Bike_Count) AvgRentedBikes\r\n",
                "FROM cte GROUP BY SeverityOfTemperature ORDER BY AvgRentedBikes DESC"
            ],
            "metadata": {
                "language": "sql",
                "azdata_cell_guid": "f5215edf-d956-4624-91a6-28de283d20c5",
                "tags": [
                    "hide_input"
                ]
            },
            "outputs": [
                {
                    "output_type": "display_data",
                    "data": {
                        "text/html": "(3 rows affected)"
                    },
                    "metadata": {}
                },
                {
                    "output_type": "display_data",
                    "data": {
                        "text/html": "Total execution time: 00:00:00.025"
                    },
                    "metadata": {}
                },
                {
                    "output_type": "execute_result",
                    "execution_count": 140,
                    "data": {
                        "application/vnd.dataresource+json": {
                            "schema": {
                                "fields": [
                                    {
                                        "name": "SeverityOfTemperature"
                                    },
                                    {
                                        "name": "AvgRentedBikes"
                                    }
                                ]
                            },
                            "data": [
                                {
                                    "0": "Acceptable",
                                    "1": "275"
                                },
                                {
                                    "0": "Difficult",
                                    "1": "218"
                                },
                                {
                                    "0": "Impossible",
                                    "1": "147"
                                }
                            ]
                        },
                        "text/html": "<table><tr><th>SeverityOfTemperature</th><th>AvgRentedBikes</th></tr><tr><td>Acceptable</td><td>275</td></tr><tr><td>Difficult</td><td>218</td></tr><tr><td>Impossible</td><td>147</td></tr></table>"
                    },
                    "metadata": {
                        "azdata_chartOptions": {
                            "type": "bar",
                            "dataDirection": "horizontal",
                            "columnsAsLabels": true,
                            "labelFirstColumn": true,
                            "legendPosition": "top"
                        }
                    }
                }
            ],
            "execution_count": 140
        },
        {
            "cell_type": "markdown",
            "source": [
                "  \n",
                "\n",
                "Numbers are based on an estimation inspired by the [US National Weather Service](https://www.weather.gov/pqr/wind)."
            ],
            "metadata": {
                "language": "sql",
                "azdata_cell_guid": "b1b096f8-96fa-4e7a-ab54-7a590e5f2419"
            },
            "attachments": {}
        },
        {
            "cell_type": "code",
            "source": [
                "--CATEGORISING WIND SPEED\r\n",
                "WITH cte AS ( \r\n",
                "SELECT *, CASE\r\n",
                "        WHEN Wind_speed_m_s BETWEEN 0 AND 1.699 THEN 'Calmness to Light Air'\r\n",
                "        WHEN Wind_speed_m_s BETWEEN 1.700 AND 4.149 THEN 'Light to Gentle Breeze'\r\n",
                "        WHEN Wind_speed_m_s BETWEEN 4.150 AND 7.000 THEN 'Moderate to Strong Breeze'\r\n",
                "        ELSE 'Unsafer to Travel'\r\n",
                "    END AS WindStrength\r\n",
                "FROM UsageStats)\r\n",
                "\r\n",
                "/* After using a common table expression to bin wind speed data into categories,\r\n",
                "   I can then retrieve the data into a more visibly, clear way. */\r\n",
                "\r\n",
                "SELECT WindStrength, AVG(Rented_Bike_Count) AvgRentedBikes\r\n",
                "FROM cte GROUP BY WindStrength ORDER BY AvgRentedBikes DESC"
            ],
            "metadata": {
                "language": "sql",
                "azdata_cell_guid": "286f68e9-13a0-4432-bfda-701a15c6d54a",
                "tags": [
                    "hide_input"
                ]
            },
            "outputs": [
                {
                    "output_type": "display_data",
                    "data": {
                        "text/html": "(3 rows affected)"
                    },
                    "metadata": {}
                },
                {
                    "output_type": "display_data",
                    "data": {
                        "text/html": "Total execution time: 00:00:00.029"
                    },
                    "metadata": {}
                },
                {
                    "output_type": "execute_result",
                    "execution_count": 74,
                    "data": {
                        "application/vnd.dataresource+json": {
                            "schema": {
                                "fields": [
                                    {
                                        "name": "WindStrength"
                                    },
                                    {
                                        "name": "AvgRentedBikes"
                                    }
                                ]
                            },
                            "data": [
                                {
                                    "0": "Moderate to Strong Breeze",
                                    "1": "238"
                                },
                                {
                                    "0": "Calmness to Light Air",
                                    "1": "231"
                                },
                                {
                                    "0": "Light to Gentle Breeze",
                                    "1": "222"
                                }
                            ]
                        },
                        "text/html": "<table><tr><th>WindStrength</th><th>AvgRentedBikes</th></tr><tr><td>Moderate to Strong Breeze</td><td>238</td></tr><tr><td>Calmness to Light Air</td><td>231</td></tr><tr><td>Light to Gentle Breeze</td><td>222</td></tr></table>"
                    },
                    "metadata": {
                        "azdata_chartOptions": {
                            "type": "bar",
                            "dataDirection": "horizontal",
                            "columnsAsLabels": true,
                            "labelFirstColumn": true,
                            "legendPosition": "top"
                        }
                    }
                }
            ],
            "execution_count": 74
        },
        {
            "cell_type": "markdown",
            "source": [
                "**COMMENT ON RESULTS:** It is important to note that the dataset doesn't contain any recorded events with wind speed over 7 m/s. Which could be explained by Seoul having its windiest month"
            ],
            "metadata": {
                "language": "sql",
                "azdata_cell_guid": "77f42225-e7a1-4304-94eb-076cca7205a9"
            },
            "attachments": {}
        }
    ]
}