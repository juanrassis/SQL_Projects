{
    "metadata": {
        "kernelspec": {
            "name": "SQL",
            "display_name": "SQL",
            "language": "sql"
        },
        "language_info": {
            "name": "sql",
            "version": ""
        }
    },
    "nbformat_minor": 2,
    "nbformat": 4,
    "cells": [
        {
            "cell_type": "markdown",
            "source": [
                "# **Exploratory and Time Series Analysis in SQL**\n",
                "\n",
                "![Intro Image](.\\Materials\\IntroImage2.jpg)\n",
                "\n",
                "An important part\n",
                "\n",
                "**USAGE STATS**\n",
                "\n",
                "> **<u>column</u>                                <u>type</u>                       <u>meaning</u>**\n",
                "> \n",
                "> <span style=\"background-color: rgba(127, 127, 127, 0.1);\">Date&nbsp; &nbsp; &nbsp; &nbsp; &nbsp; &nbsp; &nbsp; &nbsp; &nbsp; &nbsp; &nbsp; &nbsp; &nbsp; &nbsp; &nbsp; &nbsp; &nbsp; &nbsp; &nbsp;date&nbsp; &nbsp; &nbsp; &nbsp; &nbsp; &nbsp; &nbsp; &nbsp; &nbsp; &nbsp; &nbsp; &nbsp; The date of the recorded observation ranging between 2017-12-01 and 2018-12-01.</span>\n",
                "> \n",
                "> <span style=\"background-color: rgba(127, 127, 127, 0.1);\">Rented_Bike_Count&nbsp; &nbsp; &nbsp; &nbsp; &nbsp; &nbsp; &nbsp; smallint&nbsp; &nbsp; &nbsp; &nbsp; &nbsp; &nbsp; &nbsp; &nbsp; &nbsp; The count of bikes rented within a set hour and its 60 subsequent minutes.</span>\n",
                "> \n",
                "> <span style=\"background-color: rgba(127, 127, 127, 0.1);\">Hour&nbsp; &nbsp; &nbsp; &nbsp; &nbsp; &nbsp; &nbsp; &nbsp; &nbsp; &nbsp; &nbsp; &nbsp; &nbsp; &nbsp; &nbsp; &nbsp; &nbsp; &nbsp; &nbsp;tinyint&nbsp; &nbsp; &nbsp; &nbsp; &nbsp; &nbsp; &nbsp; &nbsp; &nbsp; &nbsp; The start day-hour of counting from 0 to 23.</span>\n",
                "> \n",
                "> <span style=\"background-color: rgba(127, 127, 127, 0.1);\">Temperature_C&nbsp; &nbsp; &nbsp; &nbsp; &nbsp; &nbsp; &nbsp; &nbsp; &nbsp; &nbsp; &nbsp;float&nbsp; &nbsp; &nbsp; &nbsp; &nbsp; &nbsp; &nbsp; &nbsp; &nbsp; &nbsp; &nbsp; &nbsp;The temperature in Celcius Degrees as 0° being the point of freezing water and 100° of boiling water.&nbsp;&nbsp;</span>          \n",
                "> \n",
                "> <span style=\"background-color: rgba(127, 127, 127, 0.1);\">Humidity&nbsp; &nbsp; &nbsp; &nbsp; &nbsp; &nbsp; &nbsp; &nbsp; &nbsp; &nbsp; &nbsp; &nbsp; &nbsp; &nbsp; &nbsp; tinyint&nbsp; &nbsp; &nbsp; &nbsp; &nbsp; &nbsp; &nbsp; &nbsp; &nbsp; &nbsp; &nbsp;Percentage of amount of water vapor in the air.</span>\n",
                "> \n",
                "> <span style=\"background-color: rgba(127, 127, 127, 0.1);\">Wind_speed_m_s&nbsp; &nbsp; &nbsp; &nbsp; &nbsp; &nbsp; &nbsp; &nbsp; &nbsp;float&nbsp; &nbsp; &nbsp; &nbsp; &nbsp; &nbsp; &nbsp; &nbsp; &nbsp; &nbsp; &nbsp; &nbsp; The strength of natural wind affecting the environment measured in meters per second (m/s).</span>\n",
                "> \n",
                "> <span style=\"background-color: rgba(127, 127, 127, 0.1);\">Visibility_10m&nbsp; &nbsp; &nbsp; &nbsp; &nbsp; &nbsp; &nbsp; &nbsp; &nbsp; &nbsp; &nbsp; smallint&nbsp; &nbsp; &nbsp; &nbsp; &nbsp; &nbsp; &nbsp; &nbsp; &nbsp; &nbsp;Greatest distance a black object can be recognised when observed against a bright background.</span>\n",
                "> \n",
                "> <span style=\"background-color: rgba(127, 127, 127, 0.1);\">Rainfall_mm&nbsp; &nbsp; &nbsp; &nbsp; &nbsp; &nbsp; &nbsp; &nbsp; &nbsp; &nbsp; &nbsp; &nbsp; &nbsp;float&nbsp; &nbsp; &nbsp; &nbsp; &nbsp; &nbsp; &nbsp; &nbsp; &nbsp; &nbsp; &nbsp; &nbsp; Total rainfall depth during a given hour expressed in millimeters (mm).</span>\n",
                "> \n",
                "> <span style=\"background-color: rgba(127, 127, 127, 0.1);\">Snowfall_cm&nbsp; &nbsp; &nbsp; &nbsp; &nbsp; &nbsp; &nbsp; &nbsp; &nbsp; &nbsp; &nbsp; &nbsp; &nbsp;float&nbsp; &nbsp; &nbsp; &nbsp; &nbsp; &nbsp; &nbsp; &nbsp; &nbsp; &nbsp; &nbsp; &nbsp; The depth of snow measured in centimeters (cm).</span>\n",
                "> \n",
                "> <span style=\"background-color: rgba(127, 127, 127, 0.1);\">Seasons&nbsp; &nbsp; &nbsp; &nbsp; &nbsp; &nbsp; &nbsp; &nbsp; &nbsp; &nbsp; &nbsp; &nbsp; &nbsp; &nbsp; &nbsp; &nbsp; varchar(50)&nbsp; &nbsp; &nbsp; &nbsp; &nbsp; &nbsp; &nbsp;The divisions of the year: Summer, Autumn, Winter and Spring.</span>\n",
                "> \n",
                "> <span style=\"background-color: rgba(127, 127, 127, 0.1);\">Holiday&nbsp; &nbsp; &nbsp; &nbsp; &nbsp; &nbsp; &nbsp; &nbsp; &nbsp; &nbsp; &nbsp; &nbsp; &nbsp; &nbsp; &nbsp; &nbsp; varchar(50)&nbsp; &nbsp; &nbsp; &nbsp; &nbsp; &nbsp; &nbsp; [Description in progress]</span>\n",
                "> \n",
                "> <span style=\"background-color: rgba(127, 127, 127, 0.1);\">Functioning_Day&nbsp; &nbsp; &nbsp; &nbsp; &nbsp; &nbsp; &nbsp; &nbsp; &nbsp;varchar(50)&nbsp; &nbsp; &nbsp; &nbsp; &nbsp; &nbsp; &nbsp; &nbsp;A day on which one usually works.</span>"
            ],
            "metadata": {
                "azdata_cell_guid": "1a69d49b-08ab-4e6a-b637-0db5bcc88667"
            },
            "attachments": {}
        },
        {
            "cell_type": "markdown",
            "source": [
                "# **BASIC EXPLORATION**"
            ],
            "metadata": {
                "language": "sql",
                "azdata_cell_guid": "788f22eb-f402-401e-aa2f-49349a79b8dd"
            },
            "attachments": {}
        },
        {
            "cell_type": "markdown",
            "source": [
                "### **DATASET OVERVIEW**"
            ],
            "metadata": {
                "language": "sql",
                "azdata_cell_guid": "68f10573-bd0c-44fd-8cc5-5b9b4c6d0a43"
            },
            "attachments": {}
        },
        {
            "cell_type": "code",
            "source": [
                "SELECT TOP 4 * FROM UsageStats"
            ],
            "metadata": {
                "azdata_cell_guid": "bf660bd0-1e14-4e2a-8d1c-38d3c8417a93",
                "language": "sql",
                "tags": []
            },
            "outputs": [
                {
                    "output_type": "display_data",
                    "data": {
                        "text/html": "(4 rows affected)"
                    },
                    "metadata": {}
                },
                {
                    "output_type": "display_data",
                    "data": {
                        "text/html": "Total execution time: 00:00:00.012"
                    },
                    "metadata": {}
                },
                {
                    "output_type": "execute_result",
                    "execution_count": 81,
                    "data": {
                        "application/vnd.dataresource+json": {
                            "schema": {
                                "fields": [
                                    {
                                        "name": "Date"
                                    },
                                    {
                                        "name": "Rented_Bike_Count"
                                    },
                                    {
                                        "name": "Hour"
                                    },
                                    {
                                        "name": "Temperature_C"
                                    },
                                    {
                                        "name": "Humidity"
                                    },
                                    {
                                        "name": "Wind_speed_m_s"
                                    },
                                    {
                                        "name": "Visibility_10m"
                                    },
                                    {
                                        "name": "Rainfall_mm"
                                    },
                                    {
                                        "name": "Snowfall_cm"
                                    },
                                    {
                                        "name": "Seasons"
                                    },
                                    {
                                        "name": "Holiday"
                                    },
                                    {
                                        "name": "Functioning_Day"
                                    }
                                ]
                            },
                            "data": [
                                {
                                    "0": "2017-12-01",
                                    "1": "254",
                                    "2": "0",
                                    "3": "-5.199999809265137",
                                    "4": "37",
                                    "5": "2.200000047683716",
                                    "6": "2000",
                                    "7": "0",
                                    "8": "0",
                                    "9": "Winter",
                                    "10": "No Holiday",
                                    "11": "Yes"
                                },
                                {
                                    "0": "2017-12-01",
                                    "1": "204",
                                    "2": "1",
                                    "3": "-5.5",
                                    "4": "38",
                                    "5": "0.800000011920929",
                                    "6": "2000",
                                    "7": "0",
                                    "8": "0",
                                    "9": "Winter",
                                    "10": "No Holiday",
                                    "11": "Yes"
                                },
                                {
                                    "0": "2017-12-01",
                                    "1": "173",
                                    "2": "2",
                                    "3": "-6",
                                    "4": "39",
                                    "5": "1",
                                    "6": "2000",
                                    "7": "0",
                                    "8": "0",
                                    "9": "Winter",
                                    "10": "No Holiday",
                                    "11": "Yes"
                                },
                                {
                                    "0": "2017-12-01",
                                    "1": "107",
                                    "2": "3",
                                    "3": "-6.199999809265137",
                                    "4": "40",
                                    "5": "0.8999999761581421",
                                    "6": "2000",
                                    "7": "0",
                                    "8": "0",
                                    "9": "Winter",
                                    "10": "No Holiday",
                                    "11": "Yes"
                                }
                            ]
                        },
                        "text/html": "<table><tr><th>Date</th><th>Rented_Bike_Count</th><th>Hour</th><th>Temperature_C</th><th>Humidity</th><th>Wind_speed_m_s</th><th>Visibility_10m</th><th>Rainfall_mm</th><th>Snowfall_cm</th><th>Seasons</th><th>Holiday</th><th>Functioning_Day</th></tr><tr><td>2017-12-01</td><td>254</td><td>0</td><td>-5.199999809265137</td><td>37</td><td>2.200000047683716</td><td>2000</td><td>0</td><td>0</td><td>Winter</td><td>No Holiday</td><td>Yes</td></tr><tr><td>2017-12-01</td><td>204</td><td>1</td><td>-5.5</td><td>38</td><td>0.800000011920929</td><td>2000</td><td>0</td><td>0</td><td>Winter</td><td>No Holiday</td><td>Yes</td></tr><tr><td>2017-12-01</td><td>173</td><td>2</td><td>-6</td><td>39</td><td>1</td><td>2000</td><td>0</td><td>0</td><td>Winter</td><td>No Holiday</td><td>Yes</td></tr><tr><td>2017-12-01</td><td>107</td><td>3</td><td>-6.199999809265137</td><td>40</td><td>0.8999999761581421</td><td>2000</td><td>0</td><td>0</td><td>Winter</td><td>No Holiday</td><td>Yes</td></tr></table>"
                    },
                    "metadata": {}
                }
            ],
            "execution_count": 81
        },
        {
            "cell_type": "markdown",
            "source": [
                "### **SUMMARY STATISTICS**\n",
                "\n",
                "As I believe there is no one-only built-in T-SQL function that can provide a summary for all (or selected) dimensions, I had to improvise in my querying to generate key statistics (and a few customisable info) for everything all at once."
            ],
            "metadata": {
                "language": "sql",
                "azdata_cell_guid": "470e2644-cf05-41c7-8988-a9a8e42c8583"
            },
            "attachments": {}
        },
        {
            "cell_type": "code",
            "source": [
                "\r\n",
                "------------------------------------------ [COUNT OF NULL VALUES]--------------------------------\r\n",
                "/* The CASE statement works around the lack of a built-in function to count null values. */\r\n",
                "SELECT '1- Null Values' 'Statistics',\r\n",
                "    SUM(case when Rented_Bike_Count is null then 1 else 0 end) Rented_Bike_Count, SUM(case when Temperature_C is null then 1 else 0 end) Temperature_C,\r\n",
                "    SUM(case when Humidity is null then 1 else 0 end) Humidity, SUM(case when Wind_speed_m_s is null then 1 else 0 end) Wind_speed_m_s,\r\n",
                "    SUM(case when Visibility_10m is null then 1 else 0 end) Visibility_10m, SUM(case when Rainfall_mm is null then 1 else 0 end) Rainfall_mm,\r\n",
                "    SUM(case when Snowfall_cm is null then 1 else 0 end) Snowfall_cm\r\n",
                "FROM UsageStats\r\n",
                "------------------------------------------ [MINIMUM] --------------------------------------------\r\n",
                "UNION /* I had to use a series of UNION clauses to arrange all key stats in a Matrix style. */\r\n",
                "SELECT '2- Minimum',\r\n",
                "    MIN(Rented_Bike_Count), MIN(Temperature_C), MIN(Humidity), MIN(Wind_speed_m_s), MIN(Visibility_10m), MIN(Rainfall_mm), MIN(Snowfall_cm)\r\n",
                "FROM UsageStats\r\n",
                "------------------------------------------ [MEDIAN] ---------------------------------------------\r\n",
                "UNION /* Functions and syntax below are required by MS documentation to achieve the aimed resunt */\r\n",
                "SELECT '3- Median',\r\n",
                "    PERCENTILE_DISC(0.5) WITHIN GROUP(ORDER BY Rented_Bike_Count)OVER(), PERCENTILE_DISC(0.5) WITHIN GROUP(ORDER BY Temperature_C)OVER(),\r\n",
                "    PERCENTILE_DISC(0.5) WITHIN GROUP(ORDER BY Humidity)OVER(), PERCENTILE_DISC(0.5) WITHIN GROUP(ORDER BY Wind_speed_m_s)OVER(),\r\n",
                "    PERCENTILE_DISC(0.5) WITHIN GROUP(ORDER BY Visibility_10m)OVER(), PERCENTILE_DISC(0.5) WITHIN GROUP(ORDER BY Rainfall_mm)OVER(),\r\n",
                "    PERCENTILE_DISC(0.5) WITHIN GROUP(ORDER BY Snowfall_cm)OVER()\r\n",
                "FROM UsageStats\r\n",
                "------------------------------------------ [MAXIMUM DATA POINT] ---------------------------------\r\n",
                "UNION\r\n",
                "SELECT '4- Maximum',\r\n",
                "    MAX(Rented_Bike_Count), MAX(Temperature_C), MAX(Humidity), MAX(Wind_speed_m_s), MAX(Visibility_10m), MAX(Rainfall_mm), MAX(Snowfall_cm)\r\n",
                "FROM UsageStats\r\n",
                "------------------------------------------ [AVERAGE] --------------------------------------------\r\n",
                "UNION\r\n",
                "SELECT '5- Average',\r\n",
                "    AVG(Rented_Bike_Count), AVG(Temperature_C), AVG(Humidity), AVG(Wind_speed_m_s), AVG(Visibility_10m), AVG(Rainfall_mm), AVG(Snowfall_cm)\r\n",
                "FROM UsageStats\r\n",
                "------------------------------------------ [STANDARD DEVIATION] ---------------------------------\r\n",
                "UNION\r\n",
                "SELECT '6- Standard Deviation',\r\n",
                "    STDEV(Rented_Bike_Count), STDEV(Temperature_C), STDEV(Humidity), STDEV(Wind_speed_m_s), STDEV(Visibility_10m), STDEV(Rainfall_mm),\r\n",
                "    STDEV(Snowfall_cm)\r\n",
                "FROM UsageStats\r\n",
                "ORDER BY [Statistics]"
            ],
            "metadata": {
                "language": "sql",
                "azdata_cell_guid": "301b00db-38ba-4ea3-9bc5-9f459ec5eefd",
                "tags": []
            },
            "outputs": [
                {
                    "output_type": "display_data",
                    "data": {
                        "text/html": "(6 rows affected)"
                    },
                    "metadata": {}
                },
                {
                    "output_type": "display_data",
                    "data": {
                        "text/html": "Total execution time: 00:00:01.796"
                    },
                    "metadata": {}
                },
                {
                    "output_type": "execute_result",
                    "metadata": {},
                    "execution_count": 1,
                    "data": {
                        "application/vnd.dataresource+json": {
                            "schema": {
                                "fields": [
                                    {
                                        "name": "Statistics"
                                    },
                                    {
                                        "name": "Rented_Bike_Count"
                                    },
                                    {
                                        "name": "Temperature_C"
                                    },
                                    {
                                        "name": "Humidity"
                                    },
                                    {
                                        "name": "Wind_speed_m_s"
                                    },
                                    {
                                        "name": "Visibility_10m"
                                    },
                                    {
                                        "name": "Rainfall_mm"
                                    },
                                    {
                                        "name": "Snowfall_cm"
                                    }
                                ]
                            },
                            "data": [
                                {
                                    "0": "1- Null Values",
                                    "1": "0",
                                    "2": "0",
                                    "3": "0",
                                    "4": "0",
                                    "5": "0",
                                    "6": "0",
                                    "7": "0"
                                },
                                {
                                    "0": "2- Minimum",
                                    "1": "0",
                                    "2": "-17.799999237060547",
                                    "3": "0",
                                    "4": "0",
                                    "5": "27",
                                    "6": "0",
                                    "7": "0"
                                },
                                {
                                    "0": "3- Median",
                                    "1": "504",
                                    "2": "13.699999809265137",
                                    "3": "57",
                                    "4": "1.5",
                                    "5": "1698",
                                    "6": "0",
                                    "7": "0"
                                },
                                {
                                    "0": "4- Maximum",
                                    "1": "3556",
                                    "2": "39.400001525878906",
                                    "3": "98",
                                    "4": "7.400000095367432",
                                    "5": "2000",
                                    "6": "35",
                                    "7": "8.800000190734863"
                                },
                                {
                                    "0": "5- Average",
                                    "1": "704",
                                    "2": "12.882922378630637",
                                    "3": "58",
                                    "4": "1.7249086756965137",
                                    "5": "1436",
                                    "6": "0.14868721476666732",
                                    "7": "0.07506849328608818"
                                },
                                {
                                    "0": "6- Standard Deviation",
                                    "1": "644.9974677392156",
                                    "2": "11.94482523726802",
                                    "3": "20.36241330156561",
                                    "4": "1.0362999914838886",
                                    "5": "608.298711984019",
                                    "6": "1.1281929694562725",
                                    "7": "0.43674618219324546"
                                }
                            ]
                        },
                        "text/html": [
                            "<table>",
                            "<tr><th>Statistics</th><th>Rented_Bike_Count</th><th>Temperature_C</th><th>Humidity</th><th>Wind_speed_m_s</th><th>Visibility_10m</th><th>Rainfall_mm</th><th>Snowfall_cm</th></tr>",
                            "<tr><td>1- Null Values</td><td>0</td><td>0</td><td>0</td><td>0</td><td>0</td><td>0</td><td>0</td></tr>",
                            "<tr><td>2- Minimum</td><td>0</td><td>-17.799999237060547</td><td>0</td><td>0</td><td>27</td><td>0</td><td>0</td></tr>",
                            "<tr><td>3- Median</td><td>504</td><td>13.699999809265137</td><td>57</td><td>1.5</td><td>1698</td><td>0</td><td>0</td></tr>",
                            "<tr><td>4- Maximum</td><td>3556</td><td>39.400001525878906</td><td>98</td><td>7.400000095367432</td><td>2000</td><td>35</td><td>8.800000190734863</td></tr>",
                            "<tr><td>5- Average</td><td>704</td><td>12.882922378630637</td><td>58</td><td>1.7249086756965137</td><td>1436</td><td>0.14868721476666732</td><td>0.07506849328608818</td></tr>",
                            "<tr><td>6- Standard Deviation</td><td>644.9974677392156</td><td>11.94482523726802</td><td>20.36241330156561</td><td>1.0362999914838886</td><td>608.298711984019</td><td>1.1281929694562725</td><td>0.43674618219324546</td></tr>",
                            "</table>"
                        ]
                    }
                }
            ],
            "execution_count": 1
        },
        {
            "cell_type": "markdown",
            "source": [
                "**COMMENT ON RESULTS:** \n",
                "\n",
                "-"
            ],
            "metadata": {
                "language": "sql",
                "azdata_cell_guid": "6d0ad811-9fa7-4293-8d48-065525f6952c"
            },
            "attachments": {}
        },
        {
            "cell_type": "markdown",
            "source": [
                "# **TIME SERIES ANALYSIS**"
            ],
            "metadata": {
                "language": "sql",
                "azdata_cell_guid": "697eec78-2b58-453b-a610-8c434eaa8eb7"
            },
            "attachments": {}
        },
        {
            "cell_type": "markdown",
            "source": [
                "## **HOW DO WEEKS PERFORM IN EACH SEASON?**  \n",
                "\n",
                "### <span style=\"font-size: 14px;\">dadsadsa&nbsp;</span> <span style=\"font-size: 14px;\">BIKE RENTAL DEMAND THROUGHOUT THE WEEK SEGREGATED BY SEASONS</span>"
            ],
            "metadata": {
                "language": "sql",
                "azdata_cell_guid": "421724f9-3388-489e-ada5-4e96ddd9109b"
            },
            "attachments": {}
        },
        {
            "cell_type": "code",
            "source": [
                "-- DISTRIBUTION OF RENTAL ACTIVITY ACROSS A WEEK\r\n",
                "\r\n",
                "SELECT y.DayOfWeek, AVG(TotalofDay) AS 'Year', Summer, Autumn, Winter, Spring\r\n",
                "FROM\r\n",
                "    (SELECT\r\n",
                "        DATEPART(WEEKDAY,date) AS DayNumber, DATENAME(WEEKDAY,date) AS DayOfWeek,\r\n",
                "        SUM(Rented_Bike_Count) AS TotalofDay\r\n",
                "     FROM UsageStats GROUP BY date) y\r\n",
                "\r\n",
                "JOIN (SELECT DayOfWeek, AVG(TotalofDay) AS 'Summer'\r\n",
                "      FROM (SELECT\r\n",
                "                 DATEPART(WEEKDAY,date) AS DayNumber, DATENAME(WEEKDAY,date) AS DayOfWeek,\r\n",
                "                 SUM(Rented_Bike_Count) AS TotalofDay\r\n",
                "           FROM UsageStats WHERE seasons = 'Summer' GROUP BY date) stemp\r\n",
                "      GROUP BY DayOfWeek, DayNumber\r\n",
                ") s ON y.DayOfWeek = s.DayOfWeek\r\n",
                "\r\n",
                "JOIN (SELECT DayOfWeek, AVG(TotalofDay) AS 'Autumn'\r\n",
                "      FROM (SELECT\r\n",
                "                 DATEPART(WEEKDAY,date) AS DayNumber, DATENAME(WEEKDAY,date) AS DayOfWeek,\r\n",
                "                 SUM(Rented_Bike_Count) AS TotalofDay\r\n",
                "           FROM UsageStats WHERE seasons = 'Autumn' GROUP BY date) atemp\r\n",
                "      GROUP BY DayOfWeek, DayNumber\r\n",
                ") a ON y.DayOfWeek = a.DayOfWeek\r\n",
                "\r\n",
                "JOIN (SELECT DayOfWeek, AVG(TotalofDay) AS 'Winter'\r\n",
                "      FROM (SELECT\r\n",
                "                 DATEPART(WEEKDAY,date) AS DayNumber, DATENAME(WEEKDAY,date) AS DayOfWeek,\r\n",
                "                 SUM(Rented_Bike_Count) AS TotalofDay\r\n",
                "           FROM UsageStats WHERE seasons = 'Winter' GROUP BY date) wtemp\r\n",
                "      GROUP BY DayOfWeek, DayNumber\r\n",
                ") w ON y.DayOfWeek = w.DayOfWeek\r\n",
                "\r\n",
                "JOIN (SELECT DayOfWeek, AVG(TotalofDay) AS 'Spring'\r\n",
                "      FROM (SELECT\r\n",
                "                 DATEPART(WEEKDAY,date) AS DayNumber, DATENAME(WEEKDAY,date) AS DayOfWeek,\r\n",
                "                 SUM(Rented_Bike_Count) AS TotalofDay\r\n",
                "           FROM UsageStats WHERE seasons = 'Spring' GROUP BY date) sptemp\r\n",
                "      GROUP BY DayOfWeek, DayNumber\r\n",
                ") sp ON y.DayOfWeek = sp.DayOfWeek\r\n",
                "\r\n",
                "GROUP BY y.DayOfWeek, Summer, Autumn, Winter, Spring, DayNumber ORDER BY DayNumber"
            ],
            "metadata": {
                "language": "sql",
                "azdata_cell_guid": "4ca4fc68-5aca-4f69-9eef-a048b500d98a",
                "tags": []
            },
            "outputs": [
                {
                    "output_type": "display_data",
                    "data": {
                        "text/html": "(7 rows affected)"
                    },
                    "metadata": {}
                },
                {
                    "output_type": "display_data",
                    "data": {
                        "text/html": "Total execution time: 00:00:00.080"
                    },
                    "metadata": {}
                },
                {
                    "output_type": "execute_result",
                    "execution_count": 93,
                    "data": {
                        "application/vnd.dataresource+json": {
                            "schema": {
                                "fields": [
                                    {
                                        "name": "DayOfWeek"
                                    },
                                    {
                                        "name": "Year"
                                    },
                                    {
                                        "name": "Summer"
                                    },
                                    {
                                        "name": "Autumn"
                                    },
                                    {
                                        "name": "Winter"
                                    },
                                    {
                                        "name": "Spring"
                                    }
                                ]
                            },
                            "data": [
                                {
                                    "0": "Sunday",
                                    "1": "15003",
                                    "2": "22326",
                                    "3": "18159",
                                    "4": "4079",
                                    "5": "15450"
                                },
                                {
                                    "0": "Monday",
                                    "1": "17533",
                                    "2": "22187",
                                    "3": "23011",
                                    "4": "5514",
                                    "5": "19421"
                                },
                                {
                                    "0": "Tuesday",
                                    "1": "16511",
                                    "2": "24329",
                                    "3": "16257",
                                    "4": "5908",
                                    "5": "19550"
                                },
                                {
                                    "0": "Wednesday",
                                    "1": "17768",
                                    "2": "26091",
                                    "3": "22434",
                                    "4": "5333",
                                    "5": "17214"
                                },
                                {
                                    "0": "Thursday",
                                    "1": "16576",
                                    "2": "25155",
                                    "3": "20099",
                                    "4": "5785",
                                    "5": "14590"
                                },
                                {
                                    "0": "Friday",
                                    "1": "17930",
                                    "2": "27968",
                                    "3": "17366",
                                    "4": "6285",
                                    "5": "19330"
                                },
                                {
                                    "0": "Saturday",
                                    "1": "17028",
                                    "2": "25424",
                                    "3": "20362",
                                    "4": "5013",
                                    "5": "17313"
                                }
                            ]
                        },
                        "text/html": "<table><tr><th>DayOfWeek</th><th>Year</th><th>Summer</th><th>Autumn</th><th>Winter</th><th>Spring</th></tr><tr><td>Sunday</td><td>15003</td><td>22326</td><td>18159</td><td>4079</td><td>15450</td></tr><tr><td>Monday</td><td>17533</td><td>22187</td><td>23011</td><td>5514</td><td>19421</td></tr><tr><td>Tuesday</td><td>16511</td><td>24329</td><td>16257</td><td>5908</td><td>19550</td></tr><tr><td>Wednesday</td><td>17768</td><td>26091</td><td>22434</td><td>5333</td><td>17214</td></tr><tr><td>Thursday</td><td>16576</td><td>25155</td><td>20099</td><td>5785</td><td>14590</td></tr><tr><td>Friday</td><td>17930</td><td>27968</td><td>17366</td><td>6285</td><td>19330</td></tr><tr><td>Saturday</td><td>17028</td><td>25424</td><td>20362</td><td>5013</td><td>17313</td></tr></table>"
                    },
                    "metadata": {}
                }
            ],
            "execution_count": 93
        },
        {
            "cell_type": "markdown",
            "source": [
                "**COMMENT ON RESULTS:** \n",
                "\n",
                "- Summer enjoyed a demand throughout weeks almost 50% superior of all 12 averaged months.\n",
                "- Whereas, winter struggled with a drop of almost 70% every day of week when compared with the same period.\n",
                "- Also, Fridays, as exptected, have been most demaning days of week in all seasons with the exception of Autumn, which saw Mondays steal the spotlight.\n",
                "- In a nutshell, weekdays have performed better than weekends."
            ],
            "metadata": {
                "language": "sql",
                "azdata_cell_guid": "a7889034-5605-4e6d-8c8d-c65fa577d99a"
            },
            "attachments": {}
        },
        {
            "cell_type": "code",
            "source": [
                "SELECT                DATEPART(WEEKDAY,date) AS DayNumber,\r\n",
                "                DATENAME(WEEKDAY,date) AS DayOfWeek,\r\n",
                "                avg(Rented_Bike_Count) AS n\r\n",
                "            FROM UsageStats GROUP BY DATEPART(WEEKDAY,date),DATENAME(WEEKDAY,date)"
            ],
            "metadata": {
                "language": "sql",
                "azdata_cell_guid": "ba5af335-76ef-4e7e-80b9-296ee9f53496",
                "tags": []
            },
            "outputs": [
                {
                    "output_type": "display_data",
                    "data": {
                        "text/html": "(7 rows affected)"
                    },
                    "metadata": {}
                },
                {
                    "output_type": "display_data",
                    "data": {
                        "text/html": "Total execution time: 00:00:00.047"
                    },
                    "metadata": {}
                },
                {
                    "output_type": "execute_result",
                    "execution_count": 71,
                    "data": {
                        "application/vnd.dataresource+json": {
                            "schema": {
                                "fields": [
                                    {
                                        "name": "DayNumber"
                                    },
                                    {
                                        "name": "DayOfWeek"
                                    },
                                    {
                                        "name": "n"
                                    }
                                ]
                            },
                            "data": [
                                {
                                    "0": "1",
                                    "1": "Sunday",
                                    "2": "625"
                                },
                                {
                                    "0": "4",
                                    "1": "Wednesday",
                                    "2": "740"
                                },
                                {
                                    "0": "2",
                                    "1": "Monday",
                                    "2": "730"
                                },
                                {
                                    "0": "6",
                                    "1": "Friday",
                                    "2": "747"
                                },
                                {
                                    "0": "3",
                                    "1": "Tuesday",
                                    "2": "687"
                                },
                                {
                                    "0": "5",
                                    "1": "Thursday",
                                    "2": "690"
                                },
                                {
                                    "0": "7",
                                    "1": "Saturday",
                                    "2": "709"
                                }
                            ]
                        },
                        "text/html": "<table><tr><th>DayNumber</th><th>DayOfWeek</th><th>n</th></tr><tr><td>1</td><td>Sunday</td><td>625</td></tr><tr><td>4</td><td>Wednesday</td><td>740</td></tr><tr><td>2</td><td>Monday</td><td>730</td></tr><tr><td>6</td><td>Friday</td><td>747</td></tr><tr><td>3</td><td>Tuesday</td><td>687</td></tr><tr><td>5</td><td>Thursday</td><td>690</td></tr><tr><td>7</td><td>Saturday</td><td>709</td></tr></table>"
                    },
                    "metadata": {}
                }
            ],
            "execution_count": 71
        },
        {
            "cell_type": "markdown",
            "source": [
                "**COMMENT ON RESULTS:** Surprisingly, the numbers for Saturdays and Sundays are below those recorded for most business days, with Sundays performing 25% below the overall average (\\<16,907) and Fridays proving to be the busiest days with bike sharing trips performing 25% above the same average."
            ],
            "metadata": {
                "language": "sql",
                "azdata_cell_guid": "eafd1d4e-24b3-4db0-8fcf-721a2ed43935"
            },
            "attachments": {}
        },
        {
            "cell_type": "code",
            "source": [
                "-- DISTRIBUTION OF RENTAL ACTIVITY ACROSS THE DAY\r\n",
                "SELECT \r\n",
                "    Hour,\r\n",
                "    AVG(Rented_Bike_Count) AS 'Average Rent Count'\r\n",
                "FROM UsageStats\r\n",
                "GROUP BY Hour\r\n",
                "ORDER BY Hour"
            ],
            "metadata": {
                "language": "sql",
                "azdata_cell_guid": "b8ebc1b1-5fe3-41b7-bd0e-42cedae0370a",
                "tags": [
                    "hide_input"
                ]
            },
            "outputs": [
                {
                    "output_type": "display_data",
                    "data": {
                        "text/html": "(24 rows affected)"
                    },
                    "metadata": {}
                },
                {
                    "output_type": "display_data",
                    "data": {
                        "text/html": "Total execution time: 00:00:00.049"
                    },
                    "metadata": {}
                },
                {
                    "output_type": "execute_result",
                    "execution_count": 55,
                    "data": {
                        "application/vnd.dataresource+json": {
                            "schema": {
                                "fields": [
                                    {
                                        "name": "Hour"
                                    },
                                    {
                                        "name": "Average Rent Count"
                                    }
                                ]
                            },
                            "data": [
                                {
                                    "0": "0",
                                    "1": "541"
                                },
                                {
                                    "0": "1",
                                    "1": "426"
                                },
                                {
                                    "0": "2",
                                    "1": "301"
                                },
                                {
                                    "0": "3",
                                    "1": "203"
                                },
                                {
                                    "0": "4",
                                    "1": "132"
                                },
                                {
                                    "0": "5",
                                    "1": "139"
                                },
                                {
                                    "0": "6",
                                    "1": "287"
                                },
                                {
                                    "0": "7",
                                    "1": "606"
                                },
                                {
                                    "0": "8",
                                    "1": "1015"
                                },
                                {
                                    "0": "9",
                                    "1": "645"
                                },
                                {
                                    "0": "10",
                                    "1": "527"
                                },
                                {
                                    "0": "11",
                                    "1": "600"
                                },
                                {
                                    "0": "12",
                                    "1": "699"
                                },
                                {
                                    "0": "13",
                                    "1": "733"
                                },
                                {
                                    "0": "14",
                                    "1": "758"
                                },
                                {
                                    "0": "15",
                                    "1": "829"
                                },
                                {
                                    "0": "16",
                                    "1": "930"
                                },
                                {
                                    "0": "17",
                                    "1": "1138"
                                },
                                {
                                    "0": "18",
                                    "1": "1502"
                                },
                                {
                                    "0": "19",
                                    "1": "1195"
                                },
                                {
                                    "0": "20",
                                    "1": "1068"
                                },
                                {
                                    "0": "21",
                                    "1": "1031"
                                },
                                {
                                    "0": "22",
                                    "1": "922"
                                },
                                {
                                    "0": "23",
                                    "1": "671"
                                }
                            ]
                        },
                        "text/html": "<table><tr><th>Hour</th><th>Average Rent Count</th></tr><tr><td>0</td><td>541</td></tr><tr><td>1</td><td>426</td></tr><tr><td>2</td><td>301</td></tr><tr><td>3</td><td>203</td></tr><tr><td>4</td><td>132</td></tr><tr><td>5</td><td>139</td></tr><tr><td>6</td><td>287</td></tr><tr><td>7</td><td>606</td></tr><tr><td>8</td><td>1015</td></tr><tr><td>9</td><td>645</td></tr><tr><td>10</td><td>527</td></tr><tr><td>11</td><td>600</td></tr><tr><td>12</td><td>699</td></tr><tr><td>13</td><td>733</td></tr><tr><td>14</td><td>758</td></tr><tr><td>15</td><td>829</td></tr><tr><td>16</td><td>930</td></tr><tr><td>17</td><td>1138</td></tr><tr><td>18</td><td>1502</td></tr><tr><td>19</td><td>1195</td></tr><tr><td>20</td><td>1068</td></tr><tr><td>21</td><td>1031</td></tr><tr><td>22</td><td>922</td></tr><tr><td>23</td><td>671</td></tr></table>"
                    },
                    "metadata": {
                        "azdata_chartOptions": {
                            "type": "line",
                            "dataDirection": "vertical",
                            "columnsAsLabels": true,
                            "labelFirstColumn": true,
                            "legendPosition": "none",
                            "yAxisLabel": "Average Rent Count",
                            "xAxisLabel": "Hours across the day",
                            "dataType": "number"
                        }
                    }
                }
            ],
            "execution_count": 55
        },
        {
            "cell_type": "markdown",
            "source": [
                "**COMMENT ON RESULTS:** Consistent usage above average counts (\\>706) only happens between 1pm and 10pm but the count decreases significantly after 1h (hitting the bottom between 2am and 6am). Also, spikes in the number of rented bikes can be observed at both sunrise (≈7:40am) and sunset (≈5:15pm) [times](https://www.timeanddate.com/sun/south-korea/seoul?month=12&year=2017) in Seoul."
            ],
            "metadata": {
                "language": "sql",
                "azdata_cell_guid": "e851c68c-7569-4847-b804-36ee10b883c1"
            },
            "attachments": {}
        },
        {
            "cell_type": "code",
            "source": [
                "-- DISTRIBUTION OF RENTAL ACTIVITY ACROSS THE SEASONS\r\n",
                "SELECT \r\n",
                "    seasons,\r\n",
                "    AVG(Rented_Bike_Count) AS 'Average Rent Count'\r\n",
                "FROM UsageStats\r\n",
                "GROUP BY seasons"
            ],
            "metadata": {
                "language": "sql",
                "azdata_cell_guid": "a6ffc65a-1e07-451d-84cd-63749de7221f",
                "tags": []
            },
            "outputs": [
                {
                    "output_type": "display_data",
                    "data": {
                        "text/html": "(4 rows affected)"
                    },
                    "metadata": {}
                },
                {
                    "output_type": "display_data",
                    "data": {
                        "text/html": "Total execution time: 00:00:00.053"
                    },
                    "metadata": {}
                },
                {
                    "output_type": "execute_result",
                    "execution_count": 57,
                    "data": {
                        "application/vnd.dataresource+json": {
                            "schema": {
                                "fields": [
                                    {
                                        "name": "seasons"
                                    },
                                    {
                                        "name": "Average Rent Count"
                                    }
                                ]
                            },
                            "data": [
                                {
                                    "0": "Winter",
                                    "1": "225"
                                },
                                {
                                    "0": "Summer",
                                    "1": "1034"
                                },
                                {
                                    "0": "Spring",
                                    "1": "730"
                                },
                                {
                                    "0": "Autumn",
                                    "1": "819"
                                }
                            ]
                        },
                        "text/html": "<table><tr><th>seasons</th><th>Average Rent Count</th></tr><tr><td>Winter</td><td>225</td></tr><tr><td>Summer</td><td>1034</td></tr><tr><td>Spring</td><td>730</td></tr><tr><td>Autumn</td><td>819</td></tr></table>"
                    },
                    "metadata": {
                        "azdata_chartOptions": {
                            "type": "bar",
                            "dataDirection": "horizontal",
                            "columnsAsLabels": true,
                            "labelFirstColumn": true,
                            "legendPosition": "top"
                        }
                    }
                }
            ],
            "execution_count": 57
        },
        {
            "cell_type": "markdown",
            "source": [
                "# **ANALYSING KEY METRICS**"
            ],
            "metadata": {
                "language": "sql",
                "azdata_cell_guid": "fb8d6561-62e1-4bc9-bf01-0a9f866dfa8f"
            },
            "attachments": {}
        },
        {
            "cell_type": "markdown",
            "source": [
                "**CATEGORISING ENVIRONMENTAL INFLUENCERS**\n",
                "\n",
                "Let's now clear up any doubts we might have about how weather and climate can influence the cyclers behaviour. \n",
                "\n",
                "- Ignore dimensions with very low usability.\n",
                "\n",
                "<u>Level</u>           | [Temperature](https://thinkmetric.uk/basics/temperature)             | <u>Humidity</u>     | [Wind Speed](https://www.weather.gov/pqr/wind)                           | Visibility\n",
                "\n",
                "<span style=\"background-color: rgba(127, 127, 127, 0.1);\">Intensity 0&nbsp; &nbsp;| Midly Cold&nbsp; &nbsp; &nbsp; &nbsp; &nbsp; &nbsp; &nbsp; &nbsp; | Humid Air&nbsp; &nbsp;| Calmness to Light Air&nbsp; &nbsp; &nbsp; &nbsp; &nbsp; &nbsp; |</span>\n",
                "\n",
                "<span style=\"background-color: rgba(127, 127, 127, 0.1);\">Intensity 1&nbsp; &nbsp;| Very Chilly&nbsp; &nbsp; &nbsp; &nbsp; &nbsp; &nbsp; &nbsp; &nbsp; &nbsp;| Average&nbsp; &nbsp; &nbsp; | Light to Gentle Breeze&nbsp; &nbsp; &nbsp; &nbsp; &nbsp; |</span>\n",
                "\n",
                "<span style=\"background-color: rgba(127, 127, 127, 0.1);\">Intensity 2&nbsp; &nbsp;| Mostly Unbearable&nbsp; &nbsp;| Dry Air&nbsp; &nbsp; &nbsp; &nbsp; | Moderate to Strong Breeze&nbsp; &nbsp;|</span>\n",
                "\n",
                "<span style=\"background-color: rgba(127, 127, 127, 0.1);\">Intensity 3&nbsp; &nbsp;| Mostly Unbearable&nbsp; &nbsp;| Dry Air&nbsp; &nbsp; &nbsp; &nbsp; | Moderate to Strong Breeze&nbsp; &nbsp;|</span><span style=\"background-color: rgba(127, 127, 127, 0.1);\"><br></span>"
            ],
            "metadata": {
                "language": "sql",
                "azdata_cell_guid": "b008082f-d49d-447f-911e-201d46bff5c6"
            },
            "attachments": {}
        },
        {
            "cell_type": "code",
            "source": [
                "-- [WORK IN PROGRESS - CATEGORY MATRIX OF ALL ENVIRONMENT DIMENSIONS]\r\n",
                "WITH t AS (SELECT *, CASE\r\n",
                "                WHEN Temperature_C BETWEEN 0 AND 9 THEN 'Intensity 0'\r\n",
                "                WHEN Temperature_C BETWEEN -8.000 AND -0.001 THEN 'Intensity 1'\r\n",
                "                ELSE 'Intensity 2' END AS Temperature\r\n",
                "           FROM UsageStats),\r\n",
                "     h AS (SELECT *, CASE\r\n",
                "                WHEN Humidity BETWEEN 70 AND 100 THEN 'Intensity 2'\r\n",
                "                WHEN Humidity BETWEEN 40 AND 69.99 THEN 'Intensity 1'\r\n",
                "                ELSE 'Intensity 0' END AS HumidWeather\r\n",
                "           FROM UsageStats),\r\n",
                "     w AS (SELECT *, CASE\r\n",
                "                WHEN Wind_speed_m_s BETWEEN 4.150 AND 7.000 THEN 'Intensity 2'\r\n",
                "                WHEN Wind_speed_m_s BETWEEN 1.700 AND 4.149 THEN 'Intensity 1'\r\n",
                "                ELSE 'Intensity 0' END AS WindSpeed\r\n",
                "           FROM UsageStats)\r\n",
                "\r\n",
                "/* With all dimesions grouped into bins, I can now start working into arranging the\r\n",
                "   average hourly rental counts of each of them into a single t*/\r\n",
                "\r\n",
                "SELECT\r\n",
                "    Temperature AS 'Intensity/AvgRentals',\r\n",
                "    AVG(Rented_Bike_Count) Temperature,\r\n",
                "    h1.Avg4Humid AS HumidWeather,\r\n",
                "    w1.Avg4Wind AS WindSpeed\r\n",
                "FROM t\r\n",
                "    JOIN (SELECT HumidWeather, AVG(Rented_Bike_Count) Avg4Humid\r\n",
                "          FROM h GROUP BY HumidWeather) h1 ON t.Temperature = h1.HumidWeather\r\n",
                "    JOIN (SELECT WindSpeed, AVG(Rented_Bike_Count) Avg4Wind\r\n",
                "            FROM w GROUP BY WindSpeed) w1 ON t.Temperature = w1.WindSpeed\r\n",
                "\r\n",
                "GROUP BY Temperature, h1.Avg4Humid, w1.Avg4Wind\r\n",
                ""
            ],
            "metadata": {
                "language": "sql",
                "azdata_cell_guid": "6fe023ea-6016-4063-b60a-e8132128095e"
            },
            "outputs": [
                {
                    "output_type": "display_data",
                    "data": {
                        "text/html": "(3 rows affected)"
                    },
                    "metadata": {}
                },
                {
                    "output_type": "display_data",
                    "data": {
                        "text/html": "Total execution time: 00:00:00.068"
                    },
                    "metadata": {}
                },
                {
                    "output_type": "execute_result",
                    "execution_count": 47,
                    "data": {
                        "application/vnd.dataresource+json": {
                            "schema": {
                                "fields": [
                                    {
                                        "name": "Intensity/AvgRentals"
                                    },
                                    {
                                        "name": "Temperature"
                                    },
                                    {
                                        "name": "HumidWeather"
                                    },
                                    {
                                        "name": "WindSpeed"
                                    }
                                ]
                            },
                            "data": [
                                {
                                    "0": "Intensity 0",
                                    "1": "275",
                                    "2": "254",
                                    "3": "231"
                                },
                                {
                                    "0": "Intensity 1",
                                    "1": "219",
                                    "2": "234",
                                    "3": "222"
                                },
                                {
                                    "0": "Intensity 2",
                                    "1": "157",
                                    "2": "173",
                                    "3": "238"
                                }
                            ]
                        },
                        "text/html": "<table><tr><th>Intensity/AvgRentals</th><th>Temperature</th><th>HumidWeather</th><th>WindSpeed</th></tr><tr><td>Intensity 0</td><td>275</td><td>254</td><td>231</td></tr><tr><td>Intensity 1</td><td>219</td><td>234</td><td>222</td></tr><tr><td>Intensity 2</td><td>157</td><td>173</td><td>238</td></tr></table>"
                    },
                    "metadata": {}
                }
            ],
            "execution_count": 47
        },
        {
            "cell_type": "markdown",
            "source": [
                "**COMMENT ON RESULTS:** \n",
                "\n",
                "- It is important to note that the dataset doesn't contain any recorded events with wind speed over 7 m/s. Which could be explained by Seoul having its windiest month"
            ],
            "metadata": {
                "language": "sql",
                "azdata_cell_guid": "77f42225-e7a1-4304-94eb-076cca7205a9"
            },
            "attachments": {}
        },
        {
            "cell_type": "code",
            "source": [
                "SELECT\r\n",
                "    AVG(Rented_Bike_Count)\r\n",
                "FROM UsageStats\r\n",
                ""
            ],
            "metadata": {
                "language": "sql",
                "azdata_cell_guid": "ea2407bb-5167-4453-8e25-2c7f8b5d6ee8"
            },
            "outputs": [
                {
                    "output_type": "display_data",
                    "data": {
                        "text/html": "(1 row affected)"
                    },
                    "metadata": {}
                },
                {
                    "output_type": "display_data",
                    "data": {
                        "text/html": "Total execution time: 00:00:00.014"
                    },
                    "metadata": {}
                },
                {
                    "output_type": "execute_result",
                    "execution_count": 56,
                    "data": {
                        "application/vnd.dataresource+json": {
                            "schema": {
                                "fields": [
                                    {
                                        "name": "(No column name)"
                                    }
                                ]
                            },
                            "data": [
                                {
                                    "0": "704"
                                }
                            ]
                        },
                        "text/html": "<table><tr><th>(No column name)</th></tr><tr><td>704</td></tr></table>"
                    },
                    "metadata": {}
                }
            ],
            "execution_count": 56
        },
        {
            "cell_type": "markdown",
            "source": [
                "**CONCLUSIONS**\n",
                "\n",
                "- The patterns observed in the time series analysis suggest that bike sharing in Seoul's winter may be favoured more by commuters than holidaymakers or other casual travellers.\n",
                "-"
            ],
            "metadata": {
                "language": "sql",
                "azdata_cell_guid": "68b8f6bc-5135-4582-b83f-8b5073111ca0"
            },
            "attachments": {}
        }
    ]
}