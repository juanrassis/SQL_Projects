{
    "metadata": {
        "kernelspec": {
            "name": "SQL",
            "display_name": "SQL",
            "language": "sql"
        },
        "language_info": {
            "name": "sql",
            "version": ""
        }
    },
    "nbformat_minor": 2,
    "nbformat": 4,
    "cells": [
        {
            "cell_type": "markdown",
            "source": [
                "# **What and Where are the World's Oldest Businesses**\n",
                "\n",
                "![Intro Image](data:image/jpeg;base64,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)\n",
                "\n",
                "An important part of business is planning for the future and ensuring that the business survives changing market conditions. Some businesses do this remarkably well and last for hundreds of years. In this project, you'll explore data from BusinessFinancing.co.uk on the world's oldest businesses: when were they founded, and which industries do they belong to?\n",
                "\n",
                "Like many business problems, the data we'll explore is contained in several different datasets. In order to understand the world's oldest businesses, we will first need to use joining techniques to merge our data. From there, we can use manipulation tools such as grouping and filtering to answer questions about these historic businesses.\n",
                "\n",
                "**CATEGORIES**\n",
                "\n",
                ">  **<u>column                      type                  meaning</u>** \n",
                "> \n",
                "> <span style=\"background-color: rgba(127, 127, 127, 0.1);\">category_code&nbsp; &nbsp; &nbsp; &nbsp; &nbsp; &nbsp;varchar&nbsp; &nbsp; &nbsp; &nbsp; &nbsp; &nbsp; &nbsp;Code for the category of the business</span>\n",
                "> \n",
                "> <span style=\"background-color: rgba(127, 127, 127, 0.1);\">category&nbsp; &nbsp; &nbsp; &nbsp; &nbsp; &nbsp; &nbsp; &nbsp; &nbsp; &nbsp; &nbsp;varchar&nbsp; &nbsp; &nbsp; &nbsp; &nbsp; &nbsp; &nbsp;Description of the business category</span>\n",
                "\n",
                "**COUNTRIES**\n",
                "\n",
                ">  **<u>column                      type                  meaning</u>** \n",
                "> \n",
                "> <span style=\"background-color: rgba(127, 127, 127, 0.1);\">country_code&nbsp; &nbsp; &nbsp; &nbsp; &nbsp; &nbsp; varchar&nbsp; &nbsp; &nbsp; &nbsp; &nbsp; &nbsp; &nbsp;ISO 3166-1 3-letter country code</span>\n",
                "> \n",
                "> <span style=\"background-color: rgba(127, 127, 127, 0.1);\">country&nbsp; &nbsp; &nbsp; &nbsp; &nbsp; &nbsp; &nbsp; &nbsp; &nbsp; &nbsp; &nbsp; varchar&nbsp; &nbsp; &nbsp; &nbsp; &nbsp; &nbsp; &nbsp;Name of the country</span>\n",
                "> \n",
                "> <span style=\"background-color: rgba(127, 127, 127, 0.1);\">continent&nbsp; &nbsp; &nbsp; &nbsp; &nbsp; &nbsp; &nbsp; &nbsp; &nbsp; &nbsp;varchar&nbsp; &nbsp; &nbsp; &nbsp; &nbsp; &nbsp; &nbsp;Name of the continent that the country exists in.</span>\n",
                "\n",
                "**BUSINESSES**\n",
                "\n",
                ">  **<u>column                      type                  meaning</u>** \n",
                "> \n",
                "> <span style=\"background-color: rgba(127, 127, 127, 0.1);\">business&nbsp; &nbsp; &nbsp; &nbsp; &nbsp; &nbsp; &nbsp; &nbsp; &nbsp; &nbsp; varchar&nbsp; &nbsp; &nbsp; &nbsp; &nbsp; &nbsp; &nbsp;ISO 3166-1 3-letter country code</span>\n",
                "> \n",
                "> <span style=\"background-color: rgba(127, 127, 127, 0.1);\">year_founded&nbsp; &nbsp; &nbsp; &nbsp; &nbsp; &nbsp; int&nbsp; &nbsp; &nbsp; &nbsp; &nbsp; &nbsp; &nbsp; &nbsp; &nbsp; &nbsp; Year the business was founded</span>\n",
                "> \n",
                "> <span style=\"background-color: rgba(127, 127, 127, 0.1);\">category_code&nbsp; &nbsp; &nbsp; &nbsp; &nbsp; varchar&nbsp; &nbsp; &nbsp; &nbsp; &nbsp; &nbsp; &nbsp;Code for the category of the business</span>\n",
                "> \n",
                "> <span style=\"background-color: rgba(127, 127, 127, 0.1);\">country_code&nbsp; &nbsp; &nbsp; &nbsp; &nbsp; &nbsp; char&nbsp; &nbsp; &nbsp; &nbsp; &nbsp; &nbsp; &nbsp; &nbsp; &nbsp; ISO 3166-1 3-letter country code</span>"
            ],
            "metadata": {
                "azdata_cell_guid": "3d2f49ae-a939-4562-ac39-975d4d82d03d"
            },
            "attachments": {}
        },
        {
            "cell_type": "markdown",
            "source": [
                "# **SUMMARY OF QUESTIONS AND TASKS**\n",
                "\n",
                "- Task 1: Joining All Tables for Dataset Overview\n",
                "- Task 2: investigating Missing Data and Range of Data Points\n",
                "- Task 3: How Many and Which Businesses Were Found Before 1000?\n",
                "- Task 4: Which Are the Oldest Businesses in Each Continent?\n",
                "- Task 5:\n",
                "- Task 6:"
            ],
            "metadata": {
                "azdata_cell_guid": "e01ed375-49f5-464c-9b23-6d6fdc58e572"
            },
            "attachments": {}
        },
        {
            "cell_type": "markdown",
            "source": [
                "## **<u>TASK 1: JOINING ALL TABLES FOR DATASET OVERVIEW</u>**\n",
                "\n",
                "Since the database is splitted into 3 tables, it is key to have a clear overview of the relevant fields and records and to learn how they interact and give context to each other."
            ],
            "metadata": {
                "azdata_cell_guid": "26b14f7c-7a00-453f-8395-141435faddbb"
            },
            "attachments": {}
        },
        {
            "cell_type": "code",
            "source": [
                "/* I decided to insert \"TOP #\" to reduce the redudancy of generated\r\n",
                "records only for the sake of this project showcase. */\r\n",
                "SELECT TOP 5 business, year_founded, category, country, continent\r\n",
                "FROM businesses b\r\n",
                "    JOIN categories c1 ON b.category_code = c1.category_code\r\n",
                "    JOIN countries c2 ON b.country_code = c2.country_code"
            ],
            "metadata": {
                "azdata_cell_guid": "d413f733-369f-4d67-b62f-f63ad978d5b7",
                "language": "sql",
                "tags": []
            },
            "outputs": [
                {
                    "output_type": "display_data",
                    "data": {
                        "text/html": "(5 rows affected)"
                    },
                    "metadata": {}
                },
                {
                    "output_type": "display_data",
                    "data": {
                        "text/html": "Total execution time: 00:00:00.025"
                    },
                    "metadata": {}
                },
                {
                    "output_type": "execute_result",
                    "execution_count": 48,
                    "data": {
                        "application/vnd.dataresource+json": {
                            "schema": {
                                "fields": [
                                    {
                                        "name": "business"
                                    },
                                    {
                                        "name": "year_founded"
                                    },
                                    {
                                        "name": "category"
                                    },
                                    {
                                        "name": "country"
                                    },
                                    {
                                        "name": "continent"
                                    }
                                ]
                            },
                            "data": [
                                {
                                    "0": "1st National Bank of St Lucia",
                                    "1": "1938",
                                    "2": "Banking & Finance",
                                    "3": "Saint Lucia",
                                    "4": "North America"
                                },
                                {
                                    "0": "Affligem Brewery",
                                    "1": "1074",
                                    "2": "Distillers, Vintners, & Breweries",
                                    "3": "Belgium",
                                    "4": "Europe"
                                },
                                {
                                    "0": "Air Burkina",
                                    "1": "1967",
                                    "2": "Aviation & Transport",
                                    "3": "Burkina Faso",
                                    "4": "Africa"
                                },
                                {
                                    "0": "Air Madagascar",
                                    "1": "1962",
                                    "2": "Aviation & Transport",
                                    "3": "Madagascar",
                                    "4": "Africa"
                                },
                                {
                                    "0": "Air Seychelles",
                                    "1": "1977",
                                    "2": "Aviation & Transport",
                                    "3": "Seychelles",
                                    "4": "Asia"
                                }
                            ]
                        },
                        "text/html": "<table><tr><th>business</th><th>year_founded</th><th>category</th><th>country</th><th>continent</th></tr><tr><td>1st National Bank of St Lucia</td><td>1938</td><td>Banking &amp; Finance</td><td>Saint Lucia</td><td>North America</td></tr><tr><td>Affligem Brewery</td><td>1074</td><td>Distillers, Vintners, &amp; Breweries</td><td>Belgium</td><td>Europe</td></tr><tr><td>Air Burkina</td><td>1967</td><td>Aviation &amp; Transport</td><td>Burkina Faso</td><td>Africa</td></tr><tr><td>Air Madagascar</td><td>1962</td><td>Aviation &amp; Transport</td><td>Madagascar</td><td>Africa</td></tr><tr><td>Air Seychelles</td><td>1977</td><td>Aviation &amp; Transport</td><td>Seychelles</td><td>Asia</td></tr></table>"
                    },
                    "metadata": {}
                }
            ],
            "execution_count": 48
        },
        {
            "cell_type": "markdown",
            "source": [
                "**COMMENTS ON THE RESULT:** The dataset seems pretty clean and consistent with the fields making noticable sense when compiled together."
            ],
            "metadata": {
                "language": "sql",
                "azdata_cell_guid": "66dff776-a803-4753-80fa-5efa13b7704e"
            },
            "attachments": {}
        },
        {
            "cell_type": "markdown",
            "source": [
                "## **<u>TASK 2: INVESTIGATING MISSING DATA AND RANGE OF DATA POINTS</u>**"
            ],
            "metadata": {
                "language": "sql",
                "azdata_cell_guid": "bfc4887a-43ca-4762-a268-08679ea8c50e"
            },
            "attachments": {}
        },
        {
            "cell_type": "markdown",
            "source": [
                "### **Subtask 2-1: Checking for null values.**"
            ],
            "metadata": {
                "language": "sql",
                "azdata_cell_guid": "d53b314a-2569-435b-86fb-a52097a6db34"
            },
            "attachments": {}
        },
        {
            "cell_type": "code",
            "source": [
                "SELECT -- Below it's a logic expression to count the number of null values in each column.\r\n",
                "    SUM(case when business is null then 1 else 0 end) AS business, \r\n",
                "    SUM(case when year_founded is null then 1 else 0 end) AS year_founded, \r\n",
                "    SUM(case when b.country_code is null then 1 else 0 end) AS country_code,\r\n",
                "    SUM(case when country is null then 1 else 0 end) AS country,\r\n",
                "    SUM(case when continent is null then 1 else 0 end) AS continent,\r\n",
                "    SUM(case when b.category_code is null then 1 else 0 end) AS category_code,\r\n",
                "    SUM(case when category is null then 1 else 0 end) AS category\r\n",
                "FROM businesses b\r\n",
                "    LEFT JOIN categories c1 ON b.category_code = c1.category_code\r\n",
                "        LEFT JOIN countries c2  ON b.country_code = c2.country_code"
            ],
            "metadata": {
                "language": "sql",
                "azdata_cell_guid": "f2f97190-8608-4e19-a201-908e3f751cfb",
                "tags": []
            },
            "outputs": [
                {
                    "output_type": "display_data",
                    "data": {
                        "text/html": "(1 row affected)"
                    },
                    "metadata": {}
                },
                {
                    "output_type": "display_data",
                    "data": {
                        "text/html": "Total execution time: 00:00:00.065"
                    },
                    "metadata": {}
                },
                {
                    "output_type": "execute_result",
                    "execution_count": 42,
                    "data": {
                        "application/vnd.dataresource+json": {
                            "schema": {
                                "fields": [
                                    {
                                        "name": "business"
                                    },
                                    {
                                        "name": "year_founded"
                                    },
                                    {
                                        "name": "country_code"
                                    },
                                    {
                                        "name": "country"
                                    },
                                    {
                                        "name": "continent"
                                    },
                                    {
                                        "name": "category_code"
                                    },
                                    {
                                        "name": "category"
                                    }
                                ]
                            },
                            "data": [
                                {
                                    "0": "0",
                                    "1": "0",
                                    "2": "0",
                                    "3": "0",
                                    "4": "0",
                                    "5": "0",
                                    "6": "0"
                                }
                            ]
                        },
                        "text/html": "<table><tr><th>business</th><th>year_founded</th><th>country_code</th><th>country</th><th>continent</th><th>category_code</th><th>category</th></tr><tr><td>0</td><td>0</td><td>0</td><td>0</td><td>0</td><td>0</td><td>0</td></tr></table>"
                    },
                    "metadata": {}
                }
            ],
            "execution_count": 42
        },
        {
            "cell_type": "markdown",
            "source": [
                "### **Subtask 2-2: Calculating summary statistics.**\n",
                "\n",
                "To calculate the extreme points of the YEAR\\_FOUNDED field I will be applying a SELF-JOIN to enable me to make calculations and obtain different results from the same column."
            ],
            "metadata": {
                "azdata_cell_guid": "8ae4d0e3-113a-4783-9338-e1f62f638687"
            },
            "attachments": {}
        },
        {
            "cell_type": "code",
            "source": [
                "SELECT MIN(b1.year_founded) AS minimum,\r\n",
                "       MAX(b2.year_founded) AS maximum,\r\n",
                "       AVG(b3.year_founded) AS median,\r\n",
                "       ROUND(STDEVP(b4.year_founded),2) AS standard_deviation\r\n",
                "FROM businesses b1\r\n",
                "    JOIN businesses b2 ON b1.business = b2.business -- (SELF-JOIN 1 for calculating the maximum value)\r\n",
                "    JOIN businesses b3 ON b2.business = b3.business -- (SELF-JOIN 2 for median value)\r\n",
                "    JOIN businesses b4 ON b3.business = b4.business -- (SELF-JOIN 3 for standard deviation)"
            ],
            "metadata": {
                "azdata_cell_guid": "7bc8b159-3f95-4a30-8360-0f7758bf06a0",
                "language": "sql",
                "tags": []
            },
            "outputs": [
                {
                    "output_type": "display_data",
                    "data": {
                        "text/html": "(1 row affected)"
                    },
                    "metadata": {}
                },
                {
                    "output_type": "display_data",
                    "data": {
                        "text/html": "Total execution time: 00:00:00.011"
                    },
                    "metadata": {}
                },
                {
                    "output_type": "execute_result",
                    "execution_count": 41,
                    "data": {
                        "application/vnd.dataresource+json": {
                            "schema": {
                                "fields": [
                                    {
                                        "name": "minimum"
                                    },
                                    {
                                        "name": "maximum"
                                    },
                                    {
                                        "name": "median"
                                    },
                                    {
                                        "name": "standard_deviation"
                                    }
                                ]
                            },
                            "data": [
                                {
                                    "0": "578",
                                    "1": "1999",
                                    "2": "1775",
                                    "3": "275.86"
                                }
                            ]
                        },
                        "text/html": "<table><tr><th>minimum</th><th>maximum</th><th>median</th><th>standard_deviation</th></tr><tr><td>578</td><td>1999</td><td>1775</td><td>275.86</td></tr></table>"
                    },
                    "metadata": {}
                }
            ],
            "execution_count": 41
        },
        {
            "cell_type": "markdown",
            "source": [
                "**COMMENTS ON THE RESULT:** It seems that there is a high variation of founding years between countries. In one country, the oldest business was only founded in 1999. By contrast, the oldest business in the world was founded back in 578. That's pretty incredible that a business has survived for more than a millennium. However, with a median standing at the top of the data range and a standard deviation suggesting that the data is spread out, I decided to push further using an Azure extension called SandDance to help me visualise the data points distribution. And as one can notice below, the majority of the oldest businesses per country do not hold a resilience longer than 200 years, making countries in continent such as Europe look as a role model for long-standing business.\n",
                "\n",
                "![Data Distribution](https://i.ibb.co/gMRFfzp/year-distribution.jpg)"
            ],
            "metadata": {
                "language": "sql",
                "azdata_cell_guid": "a51bccba-f165-4042-a209-6b3eea0d02e4"
            },
            "attachments": {}
        },
        {
            "cell_type": "markdown",
            "source": [
                "## **<u>TASK 3: HOW MANY AND WHICH BUSINESSES WERE FOUNDED BEFORE 1000?</u>**\n",
                "\n",
                "Now that we got a notion of the data we are working with, let's investigate further into the oldest businesses in the world to look for some interesting patterns."
            ],
            "metadata": {
                "azdata_cell_guid": "a34508b4-592d-4f38-8b47-792765e483f0"
            },
            "attachments": {}
        },
        {
            "cell_type": "code",
            "source": [
                "SELECT b.business, b.year_founded, c2.country, c1.category\r\n",
                "FROM businesses b\r\n",
                "    JOIN categories c1 ON b.category_code = c1.category_code\r\n",
                "    JOIN countries c2 ON b.country_code = c2.country_code\r\n",
                "WHERE b.year_founded < 1000\r\n",
                "ORDER BY b.year_founded;"
            ],
            "metadata": {
                "language": "sql",
                "azdata_cell_guid": "00fa4a06-e9f9-4004-b0e5-b5a16f010f41"
            },
            "outputs": [
                {
                    "output_type": "display_data",
                    "data": {
                        "text/html": "(6 rows affected)"
                    },
                    "metadata": {}
                },
                {
                    "output_type": "display_data",
                    "data": {
                        "text/html": "Total execution time: 00:00:00.025"
                    },
                    "metadata": {}
                },
                {
                    "output_type": "execute_result",
                    "execution_count": 43,
                    "data": {
                        "application/vnd.dataresource+json": {
                            "schema": {
                                "fields": [
                                    {
                                        "name": "business"
                                    },
                                    {
                                        "name": "year_founded"
                                    },
                                    {
                                        "name": "country"
                                    },
                                    {
                                        "name": "category"
                                    }
                                ]
                            },
                            "data": [
                                {
                                    "0": "Kongo Gumi",
                                    "1": "578",
                                    "2": "Japan",
                                    "3": "Construction"
                                },
                                {
                                    "0": "St. Peter Stifts Kulinarium",
                                    "1": "803",
                                    "2": "Austria",
                                    "3": "Cafés, Restaurants & Bars"
                                },
                                {
                                    "0": "Staffelter Hof Winery",
                                    "1": "862",
                                    "2": "Germany",
                                    "3": "Distillers, Vintners, & Breweries"
                                },
                                {
                                    "0": "Monnaie de Paris ",
                                    "1": "864",
                                    "2": "France",
                                    "3": "Manufacturing & Production"
                                },
                                {
                                    "0": "The Royal Mint",
                                    "1": "886",
                                    "2": "United Kingdom",
                                    "3": "Manufacturing & Production"
                                },
                                {
                                    "0": "Sean's Bar",
                                    "1": "900",
                                    "2": "Ireland",
                                    "3": "Cafés, Restaurants & Bars"
                                }
                            ]
                        },
                        "text/html": "<table><tr><th>business</th><th>year_founded</th><th>country</th><th>category</th></tr><tr><td>Kongo Gumi</td><td>578</td><td>Japan</td><td>Construction</td></tr><tr><td>St. Peter Stifts Kulinarium</td><td>803</td><td>Austria</td><td>Cafés, Restaurants &amp; Bars</td></tr><tr><td>Staffelter Hof Winery</td><td>862</td><td>Germany</td><td>Distillers, Vintners, &amp; Breweries</td></tr><tr><td>Monnaie de Paris </td><td>864</td><td>France</td><td>Manufacturing &amp; Production</td></tr><tr><td>The Royal Mint</td><td>886</td><td>United Kingdom</td><td>Manufacturing &amp; Production</td></tr><tr><td>Sean's Bar</td><td>900</td><td>Ireland</td><td>Cafés, Restaurants &amp; Bars</td></tr></table>"
                    },
                    "metadata": {}
                }
            ],
            "execution_count": 43
        },
        {
            "cell_type": "markdown",
            "source": [
                "**COMMENT ON THE RESULT:** With that extra detail about the oldest businesses, we can see that Kongō Gumi is a construction company and the oldest continuously operating company in the world. Founded in Japan a mere century after the fall of the Roman Empire, it survived extreme changes in Japan’s culture, government and economy, preserving traditional construction techniques and family values for over 1,400 years. Additionally, in that list of six businesses, we also see a café, a winery, and a bar. And the two companies recorded as \"Manufacturing and Production\" are both mints, that is, they produce currency."
            ],
            "metadata": {
                "language": "sql",
                "azdata_cell_guid": "9a0f6b62-e10d-4e0a-ad76-525292975fdd"
            },
            "attachments": {}
        },
        {
            "cell_type": "markdown",
            "source": [
                "## **<u>TASK 4: WHICH ARE THE OLDEST COMPANIES IN EACH CONTINENT?</u>**"
            ],
            "metadata": {
                "language": "sql",
                "azdata_cell_guid": "9a5d2679-a44d-4667-bbc5-9badc95ee327"
            },
            "attachments": {}
        },
        {
            "cell_type": "code",
            "source": [
                "SELECT continent, country, category, year_founded, business\r\n",
                "FROM businesses b\r\n",
                "    JOIN countries c1  ON b.country_code = c1.country_code\r\n",
                "    JOIN categories c2 ON b.category_code = c2.category_code\r\n",
                "WHERE year_founded IN -- SUBQUERY 1 [START]\r\n",
                "                    (SELECT MIN(year_founded)\r\n",
                "                     FROM -- subquery 2 [start]\r\n",
                "                        (SELECT continent, business, year_founded\r\n",
                "                         FROM businesses b JOIN countries c\r\n",
                "                         ON b.country_code = c.country_code) AS subquery\r\n",
                "                          -- subquery 2 [end]\r\n",
                "                     GROUP BY continent)\r\n",
                "                      -- SUBQUERY 1 [END]\r\n",
                "ORDER BY year_founded;"
            ],
            "metadata": {
                "language": "sql",
                "azdata_cell_guid": "8894cbb7-1bcc-4d64-b5f7-f4b3b1f6e833",
                "tags": []
            },
            "outputs": [
                {
                    "output_type": "display_data",
                    "data": {
                        "text/html": "(6 rows affected)"
                    },
                    "metadata": {}
                },
                {
                    "output_type": "display_data",
                    "data": {
                        "text/html": "Total execution time: 00:00:00.037"
                    },
                    "metadata": {}
                },
                {
                    "output_type": "execute_result",
                    "execution_count": 56,
                    "data": {
                        "application/vnd.dataresource+json": {
                            "schema": {
                                "fields": [
                                    {
                                        "name": "continent"
                                    },
                                    {
                                        "name": "country"
                                    },
                                    {
                                        "name": "category"
                                    },
                                    {
                                        "name": "year_founded"
                                    },
                                    {
                                        "name": "business"
                                    }
                                ]
                            },
                            "data": [
                                {
                                    "0": "Asia",
                                    "1": "Japan",
                                    "2": "Construction",
                                    "3": "578",
                                    "4": "Kongo Gumi"
                                },
                                {
                                    "0": "Europe",
                                    "1": "Austria",
                                    "2": "Cafés, Restaurants & Bars",
                                    "3": "803",
                                    "4": "St. Peter Stifts Kulinarium"
                                },
                                {
                                    "0": "North America",
                                    "1": "Mexico",
                                    "2": "Manufacturing & Production",
                                    "3": "1534",
                                    "4": "La Casa de Moneda de México"
                                },
                                {
                                    "0": "South America",
                                    "1": "Peru",
                                    "2": "Banking & Finance",
                                    "3": "1565",
                                    "4": "Casa Nacional de Moneda"
                                },
                                {
                                    "0": "Africa",
                                    "1": "Mauritius",
                                    "2": "Postal Service",
                                    "3": "1772",
                                    "4": "Mauritius Post"
                                },
                                {
                                    "0": "Oceania",
                                    "1": "Australia",
                                    "2": "Postal Service",
                                    "3": "1809",
                                    "4": "Australia Post"
                                }
                            ]
                        },
                        "text/html": "<table><tr><th>continent</th><th>country</th><th>category</th><th>year_founded</th><th>business</th></tr><tr><td>Asia</td><td>Japan</td><td>Construction</td><td>578</td><td>Kongo Gumi</td></tr><tr><td>Europe</td><td>Austria</td><td>Cafés, Restaurants &amp; Bars</td><td>803</td><td>St. Peter Stifts Kulinarium</td></tr><tr><td>North America</td><td>Mexico</td><td>Manufacturing &amp; Production</td><td>1534</td><td>La Casa de Moneda de México</td></tr><tr><td>South America</td><td>Peru</td><td>Banking &amp; Finance</td><td>1565</td><td>Casa Nacional de Moneda</td></tr><tr><td>Africa</td><td>Mauritius</td><td>Postal Service</td><td>1772</td><td>Mauritius Post</td></tr><tr><td>Oceania</td><td>Australia</td><td>Postal Service</td><td>1809</td><td>Australia Post</td></tr></table>"
                    },
                    "metadata": {}
                }
            ],
            "execution_count": 56
        },
        {
            "cell_type": "markdown",
            "source": [
                "**COMMENT ON THE RESULT:** It is interesting to observe the oldest business in Africa seems very young when compared to its continent counterparts, specially when considering the long history it holds in the human civilisation. This suggests that business resilience in the continent started to build up only after the first industrial revolution in 1760."
            ],
            "metadata": {
                "language": "sql",
                "azdata_cell_guid": "45e64f28-9eea-4b4e-b2e7-804325e29374"
            },
            "attachments": {}
        },
        {
            "cell_type": "markdown",
            "source": [
                "## **<u>TASK 5: CATEGORIES SECTION</u>**"
            ],
            "metadata": {
                "language": "sql",
                "azdata_cell_guid": "22cfb112-9a74-4431-a933-2aad9b28563a"
            },
            "attachments": {}
        },
        {
            "cell_type": "code",
            "source": [
                "SELECT TOP 5 category, COUNT(business) AS n, AVG(year_founded) AS avg_year\r\n",
                "FROM categories c\r\n",
                "    JOIN businesses b\r\n",
                "    ON c.category_code = b.category_code\r\n",
                "GROUP BY category\r\n",
                "ORDER BY n DESC"
            ],
            "metadata": {
                "language": "sql",
                "azdata_cell_guid": "23ff8d36-0856-4048-bfe4-3ba2bb7ff909"
            },
            "outputs": [
                {
                    "output_type": "display_data",
                    "data": {
                        "text/html": "(5 rows affected)"
                    },
                    "metadata": {}
                },
                {
                    "output_type": "display_data",
                    "data": {
                        "text/html": "Total execution time: 00:00:00.010"
                    },
                    "metadata": {}
                },
                {
                    "output_type": "execute_result",
                    "execution_count": 49,
                    "data": {
                        "application/vnd.dataresource+json": {
                            "schema": {
                                "fields": [
                                    {
                                        "name": "category"
                                    },
                                    {
                                        "name": "n"
                                    },
                                    {
                                        "name": "avg_year"
                                    }
                                ]
                            },
                            "data": [
                                {
                                    "0": "Banking & Finance",
                                    "1": "37",
                                    "2": "1900"
                                },
                                {
                                    "0": "Distillers, Vintners, & Breweries",
                                    "1": "22",
                                    "2": "1695"
                                },
                                {
                                    "0": "Aviation & Transport",
                                    "1": "19",
                                    "2": "1926"
                                },
                                {
                                    "0": "Postal Service",
                                    "1": "16",
                                    "2": "1819"
                                },
                                {
                                    "0": "Manufacturing & Production",
                                    "1": "15",
                                    "2": "1456"
                                }
                            ]
                        },
                        "text/html": "<table><tr><th>category</th><th>n</th><th>avg_year</th></tr><tr><td>Banking &amp; Finance</td><td>37</td><td>1900</td></tr><tr><td>Distillers, Vintners, &amp; Breweries</td><td>22</td><td>1695</td></tr><tr><td>Aviation &amp; Transport</td><td>19</td><td>1926</td></tr><tr><td>Postal Service</td><td>16</td><td>1819</td></tr><tr><td>Manufacturing &amp; Production</td><td>15</td><td>1456</td></tr></table>"
                    },
                    "metadata": {}
                }
            ],
            "execution_count": 49
        },
        {
            "cell_type": "markdown",
            "source": [
                "### **Q?) Which are the most common categories for the oldest businesses on each continent?**\n",
                "\n",
                "Having businesses joined to categories and countries together means we can ask questions about both these things together."
            ],
            "metadata": {
                "language": "sql",
                "azdata_cell_guid": "55c4fc43-bd44-4f6b-8405-58da617e1435"
            },
            "attachments": {}
        },
        {
            "cell_type": "code",
            "source": [
                "SELECT continent, category, COUNT(business) AS n\r\n",
                "FROM businesses b\r\n",
                "    JOIN countries c1  ON b.country_code = c1.country_code\r\n",
                "    JOIN categories c2 ON b.category_code = c2.category_code\r\n",
                "GROUP BY continent, category\r\n",
                "HAVING COUNT(business) IN -- SUBQUERY 1 [START]\r\n",
                "                    (SELECT MIN(year_founded)\r\n",
                "                     FROM -- subquery 2 [start]\r\n",
                "                        (SELECT continent, business, year_founded\r\n",
                "                         FROM businesses b JOIN countries c\r\n",
                "                         ON b.country_code = c.country_code) AS subquery\r\n",
                "                          -- subquery 2 [end]\r\n",
                "                     GROUP BY continent)\r\n",
                "                      -- SUBQUERY 1 [END]\r\n",
                "ORDER BY year_founded;"
            ],
            "metadata": {
                "language": "sql",
                "azdata_cell_guid": "a2ad3859-a17f-432b-a297-d76669db6d18"
            },
            "outputs": [],
            "execution_count": null
        },
        {
            "cell_type": "code",
            "source": [
                "SELECT continent, category, COUNT(business) AS n\r\n",
                "FROM businesses b\r\n",
                "    JOIN categories c1\r\n",
                "    ON b.category_code = c1.category_code\r\n",
                "        JOIN countries c2\r\n",
                "        ON b.country_code = c2.country_code\r\n",
                "GROUP BY continent, category\r\n",
                "HAVING COUNT(business) > 5\r\n",
                "ORDER BY n DESC"
            ],
            "metadata": {
                "azdata_cell_guid": "c75ede58-ebab-423f-9f5d-f10b3203fd5e",
                "language": "sql"
            },
            "outputs": [
                {
                    "output_type": "display_data",
                    "data": {
                        "text/html": "(7 rows affected)"
                    },
                    "metadata": {}
                },
                {
                    "output_type": "display_data",
                    "data": {
                        "text/html": "Total execution time: 00:00:00.008"
                    },
                    "metadata": {}
                },
                {
                    "output_type": "execute_result",
                    "execution_count": 55,
                    "data": {
                        "application/vnd.dataresource+json": {
                            "schema": {
                                "fields": [
                                    {
                                        "name": "continent"
                                    },
                                    {
                                        "name": "category"
                                    },
                                    {
                                        "name": "n"
                                    }
                                ]
                            },
                            "data": [
                                {
                                    "0": "Africa",
                                    "1": "Banking & Finance",
                                    "2": "17"
                                },
                                {
                                    "0": "Europe",
                                    "1": "Distillers, Vintners, & Breweries",
                                    "2": "12"
                                },
                                {
                                    "0": "Africa",
                                    "1": "Aviation & Transport",
                                    "2": "10"
                                },
                                {
                                    "0": "Africa",
                                    "1": "Postal Service",
                                    "2": "9"
                                },
                                {
                                    "0": "Europe",
                                    "1": "Manufacturing & Production",
                                    "2": "8"
                                },
                                {
                                    "0": "Asia",
                                    "1": "Aviation & Transport",
                                    "2": "7"
                                },
                                {
                                    "0": "Asia",
                                    "1": "Banking & Finance",
                                    "2": "6"
                                }
                            ]
                        },
                        "text/html": "<table><tr><th>continent</th><th>category</th><th>n</th></tr><tr><td>Africa</td><td>Banking &amp; Finance</td><td>17</td></tr><tr><td>Europe</td><td>Distillers, Vintners, &amp; Breweries</td><td>12</td></tr><tr><td>Africa</td><td>Aviation &amp; Transport</td><td>10</td></tr><tr><td>Africa</td><td>Postal Service</td><td>9</td></tr><tr><td>Europe</td><td>Manufacturing &amp; Production</td><td>8</td></tr><tr><td>Asia</td><td>Aviation &amp; Transport</td><td>7</td></tr><tr><td>Asia</td><td>Banking &amp; Finance</td><td>6</td></tr></table>"
                    },
                    "metadata": {}
                }
            ],
            "execution_count": 55
        },
        {
            "cell_type": "code",
            "source": [
                "SELECT TOP 10 business, category, year_founded\r\n",
                "FROM businesses b\r\n",
                "    JOIN categories c\r\n",
                "    ON b.category_code = c.category_code\r\n",
                "WHERE country_code IN\r\n",
                "              (SELECT country_code FROM countries\r\n",
                "               WHERE continent = 'Europe' OR continent = 'North America')\r\n",
                "ORDER BY year_founded   "
            ],
            "metadata": {
                "language": "sql",
                "azdata_cell_guid": "16d1ca8d-8b01-4b83-92c6-256cfce59744"
            },
            "outputs": [
                {
                    "output_type": "display_data",
                    "data": {
                        "text/html": "(10 rows affected)"
                    },
                    "metadata": {}
                },
                {
                    "output_type": "display_data",
                    "data": {
                        "text/html": "Total execution time: 00:00:00.013"
                    },
                    "metadata": {}
                },
                {
                    "output_type": "execute_result",
                    "execution_count": 3,
                    "data": {
                        "application/vnd.dataresource+json": {
                            "schema": {
                                "fields": [
                                    {
                                        "name": "business"
                                    },
                                    {
                                        "name": "category"
                                    },
                                    {
                                        "name": "year_founded"
                                    }
                                ]
                            },
                            "data": [
                                {
                                    "0": "St. Peter Stifts Kulinarium",
                                    "1": "Cafés, Restaurants & Bars",
                                    "2": "803"
                                },
                                {
                                    "0": "Staffelter Hof Winery",
                                    "1": "Distillers, Vintners, & Breweries",
                                    "2": "862"
                                },
                                {
                                    "0": "Monnaie de Paris ",
                                    "1": "Manufacturing & Production",
                                    "2": "864"
                                },
                                {
                                    "0": "The Royal Mint",
                                    "1": "Manufacturing & Production",
                                    "2": "886"
                                },
                                {
                                    "0": "Sean's Bar",
                                    "1": "Cafés, Restaurants & Bars",
                                    "2": "900"
                                },
                                {
                                    "0": "Marinelli Bell Foundry",
                                    "1": "Manufacturing & Production",
                                    "2": "1040"
                                },
                                {
                                    "0": "Affligem Brewery",
                                    "1": "Distillers, Vintners, & Breweries",
                                    "2": "1074"
                                },
                                {
                                    "0": "Munke Mølle",
                                    "1": "Manufacturing & Production",
                                    "2": "1135"
                                },
                                {
                                    "0": "Casa de Ganaderos",
                                    "1": "Agriculture",
                                    "2": "1218"
                                },
                                {
                                    "0": "Gasthof Sternen",
                                    "1": "Tourism & Hotels",
                                    "2": "1230"
                                }
                            ]
                        },
                        "text/html": "<table><tr><th>business</th><th>category</th><th>year_founded</th></tr><tr><td>St. Peter Stifts Kulinarium</td><td>Cafés, Restaurants &amp; Bars</td><td>803</td></tr><tr><td>Staffelter Hof Winery</td><td>Distillers, Vintners, &amp; Breweries</td><td>862</td></tr><tr><td>Monnaie de Paris </td><td>Manufacturing &amp; Production</td><td>864</td></tr><tr><td>The Royal Mint</td><td>Manufacturing &amp; Production</td><td>886</td></tr><tr><td>Sean's Bar</td><td>Cafés, Restaurants &amp; Bars</td><td>900</td></tr><tr><td>Marinelli Bell Foundry</td><td>Manufacturing &amp; Production</td><td>1040</td></tr><tr><td>Affligem Brewery</td><td>Distillers, Vintners, &amp; Breweries</td><td>1074</td></tr><tr><td>Munke Mølle</td><td>Manufacturing &amp; Production</td><td>1135</td></tr><tr><td>Casa de Ganaderos</td><td>Agriculture</td><td>1218</td></tr><tr><td>Gasthof Sternen</td><td>Tourism &amp; Hotels</td><td>1230</td></tr></table>"
                    },
                    "metadata": {}
                }
            ],
            "execution_count": 3
        },
        {
            "cell_type": "code",
            "source": [
                "SELECT  continent, category, COUNT(business) AS n\r\n",
                "FROM businesses b\r\n",
                "    JOIN categories c1\r\n",
                "    ON b.category_code = c1.category_code\r\n",
                "        JOIN countries c2\r\n",
                "        ON b.country_code = c2.country_code\r\n",
                "GROUP BY continent, category\r\n",
                "HAVING COUNT(business) > 5\r\n",
                "ORDER BY n DESC"
            ],
            "metadata": {
                "language": "sql",
                "azdata_cell_guid": "f9f48d02-88f6-43ad-9bfd-f9757d200991"
            },
            "outputs": [
                {
                    "output_type": "display_data",
                    "data": {
                        "text/html": "(7 rows affected)"
                    },
                    "metadata": {}
                },
                {
                    "output_type": "display_data",
                    "data": {
                        "text/html": "Total execution time: 00:00:00.103"
                    },
                    "metadata": {}
                },
                {
                    "output_type": "execute_result",
                    "execution_count": 1,
                    "data": {
                        "application/vnd.dataresource+json": {
                            "schema": {
                                "fields": [
                                    {
                                        "name": "continent"
                                    },
                                    {
                                        "name": "category"
                                    },
                                    {
                                        "name": "n"
                                    }
                                ]
                            },
                            "data": [
                                {
                                    "0": "Africa",
                                    "1": "Banking & Finance",
                                    "2": "17"
                                },
                                {
                                    "0": "Europe",
                                    "1": "Distillers, Vintners, & Breweries",
                                    "2": "12"
                                },
                                {
                                    "0": "Africa",
                                    "1": "Aviation & Transport",
                                    "2": "10"
                                },
                                {
                                    "0": "Africa",
                                    "1": "Postal Service",
                                    "2": "9"
                                },
                                {
                                    "0": "Europe",
                                    "1": "Manufacturing & Production",
                                    "2": "8"
                                },
                                {
                                    "0": "Asia",
                                    "1": "Aviation & Transport",
                                    "2": "7"
                                },
                                {
                                    "0": "Asia",
                                    "1": "Banking & Finance",
                                    "2": "6"
                                }
                            ]
                        },
                        "text/html": "<table><tr><th>continent</th><th>category</th><th>n</th></tr><tr><td>Africa</td><td>Banking &amp; Finance</td><td>17</td></tr><tr><td>Europe</td><td>Distillers, Vintners, &amp; Breweries</td><td>12</td></tr><tr><td>Africa</td><td>Aviation &amp; Transport</td><td>10</td></tr><tr><td>Africa</td><td>Postal Service</td><td>9</td></tr><tr><td>Europe</td><td>Manufacturing &amp; Production</td><td>8</td></tr><tr><td>Asia</td><td>Aviation &amp; Transport</td><td>7</td></tr><tr><td>Asia</td><td>Banking &amp; Finance</td><td>6</td></tr></table>"
                    },
                    "metadata": {}
                }
            ],
            "execution_count": 1
        },
        {
            "cell_type": "markdown",
            "source": [
                "hi\r\n",
                "\r\n",
                "  ![title](.\\datasets\\visual1.jpg)"
            ],
            "metadata": {
                "language": "sql",
                "azdata_cell_guid": "fc4c6e84-dc5d-4f49-8e06-2f65ca5dd97e"
            },
            "attachments": {}
        },
        {
            "cell_type": "code",
            "source": [
                "SELECT country, category, business, year_founded\r\n",
                "FROM businesses b\r\n",
                "    JOIN categories c1\r\n",
                "    ON b.category_code = c1.category_code\r\n",
                "        JOIN countries c2\r\n",
                "        ON b.country_code = c2.country_code\r\n",
                "WHERE continent = 'Asia'\r\n",
                "ORDER BY year_founded"
            ],
            "metadata": {
                "language": "sql",
                "azdata_cell_guid": "20d3fa0f-3aa1-47b1-9a64-7f139bd10a1e"
            },
            "outputs": [
                {
                    "output_type": "display_data",
                    "data": {
                        "text/html": "(42 rows affected)"
                    },
                    "metadata": {}
                },
                {
                    "output_type": "display_data",
                    "data": {
                        "text/html": "Total execution time: 00:00:00.020"
                    },
                    "metadata": {}
                },
                {
                    "output_type": "execute_result",
                    "execution_count": 3,
                    "data": {
                        "application/vnd.dataresource+json": {
                            "schema": {
                                "fields": [
                                    {
                                        "name": "country"
                                    },
                                    {
                                        "name": "category"
                                    },
                                    {
                                        "name": "business"
                                    },
                                    {
                                        "name": "year_founded"
                                    }
                                ]
                            },
                            "data": [
                                {
                                    "0": "Japan",
                                    "1": "Construction",
                                    "2": "Kongo Gumi",
                                    "3": "578"
                                },
                                {
                                    "0": "China",
                                    "1": "Cafés, Restaurants & Bars",
                                    "2": "Ma Yu Ching's Bucket Chicken House",
                                    "3": "1153"
                                },
                                {
                                    "0": "Turkey",
                                    "1": "Tourism & Hotels",
                                    "2": "Çemberlitas Hamami",
                                    "3": "1584"
                                },
                                {
                                    "0": "India",
                                    "1": "Manufacturing & Production",
                                    "2": "Wadia Group",
                                    "3": "1736"
                                },
                                {
                                    "0": "Malaysia",
                                    "1": "Postal Service",
                                    "2": "Pos Malaysia",
                                    "3": "1800"
                                },
                                {
                                    "0": "Indonesia",
                                    "1": "Defense",
                                    "2": "Pindad",
                                    "3": "1808"
                                },
                                {
                                    "0": "Singapore",
                                    "1": "Postal Service",
                                    "2": "Singapore Post",
                                    "3": "1819"
                                },
                                {
                                    "0": "Bangladesh",
                                    "1": "Food & Beverages",
                                    "2": "M. M. Ispahani Limited",
                                    "3": "1820"
                                },
                                {
                                    "0": "Lebanon",
                                    "1": "Banking & Finance",
                                    "2": "Bank Audi",
                                    "3": "1830"
                                },
                                {
                                    "0": "Sri Lanka",
                                    "1": "Food & Beverages",
                                    "2": "George Steuart Group",
                                    "3": "1835"
                                },
                                {
                                    "0": "Pakistan",
                                    "1": "Conglomerate",
                                    "2": "House of Habib",
                                    "3": "1841"
                                },
                                {
                                    "0": "Saudi Arabia",
                                    "1": "Construction",
                                    "2": "House of Alireza",
                                    "3": "1845"
                                },
                                {
                                    "0": "Philippines",
                                    "1": "Distillers, Vintners, & Breweries",
                                    "2": "Destileria Limtuaco",
                                    "3": "1853"
                                },
                                {
                                    "0": "Azerbaijan",
                                    "1": "Aviation & Transport",
                                    "2": "Azerbaijan Caspian Shipping Company",
                                    "3": "1858"
                                },
                                {
                                    "0": "Armenia",
                                    "1": "Distillers, Vintners, & Breweries",
                                    "2": "Yerevan Ararat Brandy-Wine-Vodka Factory",
                                    "3": "1877"
                                },
                                {
                                    "0": "Thailand",
                                    "1": "Conglomerate",
                                    "2": "B.Grimm Group",
                                    "3": "1878"
                                },
                                {
                                    "0": "Viet Nam",
                                    "1": "Aviation & Transport",
                                    "2": "Vietnam Railways",
                                    "3": "1881"
                                },
                                {
                                    "0": "Bahrain",
                                    "1": "Retail",
                                    "2": "BMMI",
                                    "3": "1883"
                                },
                                {
                                    "0": "Syrian Arab Republic",
                                    "1": "Cafés, Restaurants & Bars",
                                    "2": "Bakdash",
                                    "3": "1885"
                                },
                                {
                                    "0": "Korea, Republic of",
                                    "1": "Telecommunications",
                                    "2": "KT Corporation",
                                    "3": "1885"
                                },
                                {
                                    "0": "Kuwait",
                                    "1": "Retail",
                                    "2": "M.H. Alshaya Co.",
                                    "3": "1890"
                                },
                                {
                                    "0": "Taiwan, Province of China",
                                    "1": "Banking & Finance",
                                    "2": "Bank of Taiwan",
                                    "3": "1897"
                                },
                                {
                                    "0": "Georgia",
                                    "1": "Banking & Finance",
                                    "2": "Bank of Georgia",
                                    "3": "1903"
                                },
                                {
                                    "0": "Kazakhstan",
                                    "1": "Mining",
                                    "2": "Bogatyr Access Komir",
                                    "3": "1913"
                                },
                                {
                                    "0": "Israel",
                                    "1": "Cafés, Restaurants & Bars",
                                    "2": "Café Abu Salem",
                                    "3": "1914"
                                },
                                {
                                    "0": "Iraq",
                                    "1": "Energy",
                                    "2": "North Oil Company",
                                    "3": "1928"
                                },
                                {
                                    "0": "Afghanistan",
                                    "1": "Agriculture",
                                    "2": "Spinzar Cotton Company",
                                    "3": "1930"
                                },
                                {
                                    "0": "Jordan",
                                    "1": "Banking & Finance",
                                    "2": "Arab Bank",
                                    "3": "1930"
                                },
                                {
                                    "0": "Mongolia",
                                    "1": "Media",
                                    "2": "Mongolian National Broadcaster",
                                    "3": "1931"
                                },
                                {
                                    "0": "Uzbekistan",
                                    "1": "Manufacturing & Production",
                                    "2": "Tashkent Aviation Production Association",
                                    "3": "1932"
                                },
                                {
                                    "0": "Oman",
                                    "1": "Energy",
                                    "2": "Petroleum Development Oman",
                                    "3": "1937"
                                },
                                {
                                    "0": "Nepal",
                                    "1": "Banking & Finance",
                                    "2": "Nepal Bank Limited",
                                    "3": "1937"
                                },
                                {
                                    "0": "United Arab Emirates",
                                    "1": "Manufacturing & Production",
                                    "2": "Liwa Chemicals",
                                    "3": "1939"
                                },
                                {
                                    "0": "Korea, Democratic People's Republic of",
                                    "1": "Aviation & Transport",
                                    "2": "Kim Chong-t'ae Electric Locomotive Works",
                                    "3": "1945"
                                },
                                {
                                    "0": "Brunei Darussalam",
                                    "1": "Retail",
                                    "2": "Hua Ho Department Store",
                                    "3": "1947"
                                },
                                {
                                    "0": "Myanmar",
                                    "1": "Aviation & Transport",
                                    "2": "Myanmar National Airlines",
                                    "3": "1948"
                                },
                                {
                                    "0": "Qatar",
                                    "1": "Conglomerate",
                                    "2": "Salam International Investment Limited",
                                    "3": "1952"
                                },
                                {
                                    "0": "Cambodia",
                                    "1": "Banking & Finance",
                                    "2": "National Bank of Cambodia",
                                    "3": "1954"
                                },
                                {
                                    "0": "Bhutan",
                                    "1": "Aviation & Transport",
                                    "2": "Tashi Group",
                                    "3": "1959"
                                },
                                {
                                    "0": "Lao People's Democratic Republic",
                                    "1": "Energy",
                                    "2": "Electricite du Laos",
                                    "3": "1959"
                                },
                                {
                                    "0": "Yemen",
                                    "1": "Aviation & Transport",
                                    "2": "Yemenia Airways",
                                    "3": "1962"
                                },
                                {
                                    "0": "Seychelles",
                                    "1": "Aviation & Transport",
                                    "2": "Air Seychelles",
                                    "3": "1977"
                                }
                            ]
                        },
                        "text/html": "<table><tr><th>country</th><th>category</th><th>business</th><th>year_founded</th></tr><tr><td>Japan</td><td>Construction</td><td>Kongo Gumi</td><td>578</td></tr><tr><td>China</td><td>Cafés, Restaurants &amp; Bars</td><td>Ma Yu Ching's Bucket Chicken House</td><td>1153</td></tr><tr><td>Turkey</td><td>Tourism &amp; Hotels</td><td>Çemberlitas Hamami</td><td>1584</td></tr><tr><td>India</td><td>Manufacturing &amp; Production</td><td>Wadia Group</td><td>1736</td></tr><tr><td>Malaysia</td><td>Postal Service</td><td>Pos Malaysia</td><td>1800</td></tr><tr><td>Indonesia</td><td>Defense</td><td>Pindad</td><td>1808</td></tr><tr><td>Singapore</td><td>Postal Service</td><td>Singapore Post</td><td>1819</td></tr><tr><td>Bangladesh</td><td>Food &amp; Beverages</td><td>M. M. Ispahani Limited</td><td>1820</td></tr><tr><td>Lebanon</td><td>Banking &amp; Finance</td><td>Bank Audi</td><td>1830</td></tr><tr><td>Sri Lanka</td><td>Food &amp; Beverages</td><td>George Steuart Group</td><td>1835</td></tr><tr><td>Pakistan</td><td>Conglomerate</td><td>House of Habib</td><td>1841</td></tr><tr><td>Saudi Arabia</td><td>Construction</td><td>House of Alireza</td><td>1845</td></tr><tr><td>Philippines</td><td>Distillers, Vintners, &amp; Breweries</td><td>Destileria Limtuaco</td><td>1853</td></tr><tr><td>Azerbaijan</td><td>Aviation &amp; Transport</td><td>Azerbaijan Caspian Shipping Company</td><td>1858</td></tr><tr><td>Armenia</td><td>Distillers, Vintners, &amp; Breweries</td><td>Yerevan Ararat Brandy-Wine-Vodka Factory</td><td>1877</td></tr><tr><td>Thailand</td><td>Conglomerate</td><td>B.Grimm Group</td><td>1878</td></tr><tr><td>Viet Nam</td><td>Aviation &amp; Transport</td><td>Vietnam Railways</td><td>1881</td></tr><tr><td>Bahrain</td><td>Retail</td><td>BMMI</td><td>1883</td></tr><tr><td>Syrian Arab Republic</td><td>Cafés, Restaurants &amp; Bars</td><td>Bakdash</td><td>1885</td></tr><tr><td>Korea, Republic of</td><td>Telecommunications</td><td>KT Corporation</td><td>1885</td></tr><tr><td>Kuwait</td><td>Retail</td><td>M.H. Alshaya Co.</td><td>1890</td></tr><tr><td>Taiwan, Province of China</td><td>Banking &amp; Finance</td><td>Bank of Taiwan</td><td>1897</td></tr><tr><td>Georgia</td><td>Banking &amp; Finance</td><td>Bank of Georgia</td><td>1903</td></tr><tr><td>Kazakhstan</td><td>Mining</td><td>Bogatyr Access Komir</td><td>1913</td></tr><tr><td>Israel</td><td>Cafés, Restaurants &amp; Bars</td><td>Café Abu Salem</td><td>1914</td></tr><tr><td>Iraq</td><td>Energy</td><td>North Oil Company</td><td>1928</td></tr><tr><td>Afghanistan</td><td>Agriculture</td><td>Spinzar Cotton Company</td><td>1930</td></tr><tr><td>Jordan</td><td>Banking &amp; Finance</td><td>Arab Bank</td><td>1930</td></tr><tr><td>Mongolia</td><td>Media</td><td>Mongolian National Broadcaster</td><td>1931</td></tr><tr><td>Uzbekistan</td><td>Manufacturing &amp; Production</td><td>Tashkent Aviation Production Association</td><td>1932</td></tr><tr><td>Oman</td><td>Energy</td><td>Petroleum Development Oman</td><td>1937</td></tr><tr><td>Nepal</td><td>Banking &amp; Finance</td><td>Nepal Bank Limited</td><td>1937</td></tr><tr><td>United Arab Emirates</td><td>Manufacturing &amp; Production</td><td>Liwa Chemicals</td><td>1939</td></tr><tr><td>Korea, Democratic People's Republic of</td><td>Aviation &amp; Transport</td><td>Kim Chong-t'ae Electric Locomotive Works</td><td>1945</td></tr><tr><td>Brunei Darussalam</td><td>Retail</td><td>Hua Ho Department Store</td><td>1947</td></tr><tr><td>Myanmar</td><td>Aviation &amp; Transport</td><td>Myanmar National Airlines</td><td>1948</td></tr><tr><td>Qatar</td><td>Conglomerate</td><td>Salam International Investment Limited</td><td>1952</td></tr><tr><td>Cambodia</td><td>Banking &amp; Finance</td><td>National Bank of Cambodia</td><td>1954</td></tr><tr><td>Bhutan</td><td>Aviation &amp; Transport</td><td>Tashi Group</td><td>1959</td></tr><tr><td>Lao People's Democratic Republic</td><td>Energy</td><td>Electricite du Laos</td><td>1959</td></tr><tr><td>Yemen</td><td>Aviation &amp; Transport</td><td>Yemenia Airways</td><td>1962</td></tr><tr><td>Seychelles</td><td>Aviation &amp; Transport</td><td>Air Seychelles</td><td>1977</td></tr></table>"
                    },
                    "metadata": {}
                }
            ],
            "execution_count": 3
        },
        {
            "cell_type": "code",
            "source": [
                "SELECT business, continent, category, year_founded\r\n",
                "FROM businesses b\r\n",
                "    JOIN categories c1\r\n",
                "    ON b.category_code = c1.category_code\r\n",
                "        JOIN countries c2\r\n",
                "        ON b.country_code = c2.country_code\r\n",
                "WHERE category = 'Banking & Finance'\r\n",
                "AND business NOT LIKE '%Bank%'\r\n",
                "ORDER BY year_founded"
            ],
            "metadata": {
                "language": "sql",
                "azdata_cell_guid": "2873e253-5d92-44cc-af88-fd2f0a0c4e18"
            },
            "outputs": [
                {
                    "output_type": "display_data",
                    "data": {
                        "text/html": "(7 rows affected)"
                    },
                    "metadata": {}
                },
                {
                    "output_type": "display_data",
                    "data": {
                        "text/html": "Total execution time: 00:00:00.034"
                    },
                    "metadata": {}
                },
                {
                    "output_type": "execute_result",
                    "execution_count": 79,
                    "data": {
                        "application/vnd.dataresource+json": {
                            "schema": {
                                "fields": [
                                    {
                                        "name": "business"
                                    },
                                    {
                                        "name": "continent"
                                    },
                                    {
                                        "name": "category"
                                    },
                                    {
                                        "name": "year_founded"
                                    }
                                ]
                            },
                            "data": [
                                {
                                    "0": "Casa Nacional de Moneda",
                                    "1": "South America",
                                    "2": "Banking & Finance",
                                    "3": "1565"
                                },
                                {
                                    "0": "Banco Nacional de Bolivia",
                                    "1": "South America",
                                    "2": "Banking & Finance",
                                    "3": "1871"
                                },
                                {
                                    "0": "HSBC El Salvador",
                                    "1": "North America",
                                    "2": "Banking & Finance",
                                    "3": "1891"
                                },
                                {
                                    "0": "Standard Chartered Zimbabwe",
                                    "1": "Africa",
                                    "2": "Banking & Finance",
                                    "3": "1892"
                                },
                                {
                                    "0": "KCB Group Limited",
                                    "1": "Africa",
                                    "2": "Banking & Finance",
                                    "3": "1896"
                                },
                                {
                                    "0": "Banque Internationale pour la Centrafrique",
                                    "1": "Africa",
                                    "2": "Banking & Finance",
                                    "3": "1946"
                                },
                                {
                                    "0": "European Trust Company",
                                    "1": "Oceania",
                                    "2": "Banking & Finance",
                                    "3": "1991"
                                }
                            ]
                        },
                        "text/html": "<table><tr><th>business</th><th>continent</th><th>category</th><th>year_founded</th></tr><tr><td>Casa Nacional de Moneda</td><td>South America</td><td>Banking &amp; Finance</td><td>1565</td></tr><tr><td>Banco Nacional de Bolivia</td><td>South America</td><td>Banking &amp; Finance</td><td>1871</td></tr><tr><td>HSBC El Salvador</td><td>North America</td><td>Banking &amp; Finance</td><td>1891</td></tr><tr><td>Standard Chartered Zimbabwe</td><td>Africa</td><td>Banking &amp; Finance</td><td>1892</td></tr><tr><td>KCB Group Limited</td><td>Africa</td><td>Banking &amp; Finance</td><td>1896</td></tr><tr><td>Banque Internationale pour la Centrafrique</td><td>Africa</td><td>Banking &amp; Finance</td><td>1946</td></tr><tr><td>European Trust Company</td><td>Oceania</td><td>Banking &amp; Finance</td><td>1991</td></tr></table>"
                    },
                    "metadata": {}
                }
            ],
            "execution_count": 79
        }
    ]
}