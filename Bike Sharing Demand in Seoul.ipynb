{
    "metadata": {
        "kernelspec": {
            "name": "SQL",
            "display_name": "SQL",
            "language": "sql"
        },
        "language_info": {
            "name": "sql",
            "version": ""
        }
    },
    "nbformat_minor": 2,
    "nbformat": 4,
    "cells": [
        {
            "cell_type": "markdown",
            "source": [
                "> > > > > # **EXPLORATORY DATA ANALYSIS USING SQL**\n",
                "\n",
                "> > > > > > **BIKE SHARING DEMAND IN SEOUL, SOUTH KOREA**\n",
                "\n",
                "> > > > ![Intro Image](https://i.ibb.co/t8scxrY/Intro-Image2.jpg)\n",
                "\n",
                "In an hypotetical startup in Seoul (South Korea) that scaling quickly, the demand has been fluctuating a lot. This means that there are not enough usable bikes available on some days and on other days there are too many bikes. If the company could predict demand in advance, it could avoid these situations.  \n",
                "\n",
                "Therefore, in this project I will attempt to :\n",
                "\n",
                "- Compare the average number of bikes rented by the time of day (morning, afternoon, and evening) across the four different seasons.\n",
                "- Create views to analyse the relationship between metrics like temperature and the number of bikes rented.\n",
                "- And find which variables correlate most with the number of rentals and how strong these relationships are.\n",
                "\n",
                "This dataset (Usage Stats) consists of the number of public bikes rented in Seoul's bike sharing system at each hour. It also includes information about the weather and the time, such as whether it was a public holiday.\n",
                "\n",
                "**\\_\\_\\_\\_\\_\\_\\_\\_\\_\\_\\_\\_\\_\\_\\_\\_\\_\\_\\_\\_\\_\\_\\_\\_\\_\\_\\_\\_\\_\\_\\_\\_\\_\\_\\_\\_\\_\\_\\_\\_\\_\\_\\_\\_\\_\\_\\_\\_\\_\\_\\_\\_\\_\\_\\_\\_\\_\\_\\_\\_\\_\\_\\_\\_\\_\\_\\_\\_\\_\\_\\_\\_\\_\\_\\_\\_\\_\\_\\_\\_\\_\\_\\_\\_\\_\\_\\_\\_\\_\\_\\_\\_\\_\\_\\_\\_\\_\\_\\_\\_\\_\\_\\_\\_\\_\\_\\_\\_\\_\\_\\_\\_\\_\\_\\_\\_\\_\\_\\_\\_\\_\\_\\_\\_\\_\\_\\_\\_\\_\\_\\_\\_\\_\\_\\_\\_\\_\\_\\_\\_\\_\\_\\_\\_\\_\\_\\_\\_\\_\\_\\_\\_\\_\\_\\_\\_\\_\\_\\_\\_\\_\\_\\_\\_**\n",
                "\n",
                "**USAGE STATS**\n",
                "\n",
                "> **<u>column</u>                                <u>type</u>                       <u>meaning</u>**\n",
                "> \n",
                "> <span style=\"background-color: rgba(127, 127, 127, 0.1);\">Date&nbsp; &nbsp; &nbsp; &nbsp; &nbsp; &nbsp; &nbsp; &nbsp; &nbsp; &nbsp; &nbsp; &nbsp; &nbsp; &nbsp; &nbsp; &nbsp; &nbsp; &nbsp; &nbsp;date&nbsp; &nbsp; &nbsp; &nbsp; &nbsp; &nbsp; &nbsp; &nbsp; &nbsp; &nbsp; &nbsp; &nbsp; The date of the recorded observation ranging between 2017-12-01 and 2018-12-01.</span>\n",
                "> \n",
                "> <span style=\"background-color: rgba(127, 127, 127, 0.1);\">Rented_Bike_Count&nbsp; &nbsp; &nbsp; &nbsp; &nbsp; &nbsp; &nbsp; smallint&nbsp; &nbsp; &nbsp; &nbsp; &nbsp; &nbsp; &nbsp; &nbsp; &nbsp; The count of bikes rented within a set hour and its 60 subsequent minutes.</span>\n",
                "> \n",
                "> <span style=\"background-color: rgba(127, 127, 127, 0.1);\">Hour&nbsp; &nbsp; &nbsp; &nbsp; &nbsp; &nbsp; &nbsp; &nbsp; &nbsp; &nbsp; &nbsp; &nbsp; &nbsp; &nbsp; &nbsp; &nbsp; &nbsp; &nbsp; &nbsp;tinyint&nbsp; &nbsp; &nbsp; &nbsp; &nbsp; &nbsp; &nbsp; &nbsp; &nbsp; &nbsp; The start day-hour of counting from 0 to 23.</span>\n",
                "> \n",
                "> <span style=\"background-color: rgba(127, 127, 127, 0.1);\">Temperature_C&nbsp; &nbsp; &nbsp; &nbsp; &nbsp; &nbsp; &nbsp; &nbsp; &nbsp; &nbsp; &nbsp;float&nbsp; &nbsp; &nbsp; &nbsp; &nbsp; &nbsp; &nbsp; &nbsp; &nbsp; &nbsp; &nbsp; &nbsp;The temperature in Celcius Degrees as 0° being the point of freezing water and 100° of boiling water.&nbsp;&nbsp;</span>                        \n",
                "> \n",
                "> <span style=\"background-color: rgba(127, 127, 127, 0.1);\">Humidity&nbsp; &nbsp; &nbsp; &nbsp; &nbsp; &nbsp; &nbsp; &nbsp; &nbsp; &nbsp; &nbsp; &nbsp; &nbsp; &nbsp; &nbsp; tinyint&nbsp; &nbsp; &nbsp; &nbsp; &nbsp; &nbsp; &nbsp; &nbsp; &nbsp; &nbsp; &nbsp;Percentage of amount of water vapor in the air.</span>\n",
                "> \n",
                "> <span style=\"background-color: rgba(127, 127, 127, 0.1);\">Wind_speed_m_s&nbsp; &nbsp; &nbsp; &nbsp; &nbsp; &nbsp; &nbsp; &nbsp; &nbsp;float&nbsp; &nbsp; &nbsp; &nbsp; &nbsp; &nbsp; &nbsp; &nbsp; &nbsp; &nbsp; &nbsp; &nbsp; The strength of natural wind affecting the environment measured in meters per second (m/s).</span>\n",
                "> \n",
                "> <span style=\"background-color: rgba(127, 127, 127, 0.1);\">Rainfall_mm&nbsp; &nbsp; &nbsp; &nbsp; &nbsp; &nbsp; &nbsp; &nbsp; &nbsp; &nbsp; &nbsp; &nbsp; &nbsp;float&nbsp; &nbsp; &nbsp; &nbsp; &nbsp; &nbsp; &nbsp; &nbsp; &nbsp; &nbsp; &nbsp; &nbsp; Total rainfall depth during a given hour expressed in millimeters (mm).</span>\n",
                "> \n",
                "> <span style=\"background-color: rgba(127, 127, 127, 0.1);\">Snowfall_cm&nbsp; &nbsp; &nbsp; &nbsp; &nbsp; &nbsp; &nbsp; &nbsp; &nbsp; &nbsp; &nbsp; &nbsp; &nbsp;float&nbsp; &nbsp; &nbsp; &nbsp; &nbsp; &nbsp; &nbsp; &nbsp; &nbsp; &nbsp; &nbsp; &nbsp; The depth of snow measured in centimeters (cm).</span>\n",
                "> \n",
                "> <span style=\"background-color: rgba(127, 127, 127, 0.1);\">Seasons&nbsp; &nbsp; &nbsp; &nbsp; &nbsp; &nbsp; &nbsp; &nbsp; &nbsp; &nbsp; &nbsp; &nbsp; &nbsp; &nbsp; &nbsp; &nbsp; varchar(50)&nbsp; &nbsp; &nbsp; &nbsp; &nbsp; &nbsp; &nbsp;The divisions of the year: Summer, Autumn, Winter and Spring.</span>\n",
                "> \n",
                "> <span style=\"background-color: rgba(127, 127, 127, 0.1);\">Holiday&nbsp; &nbsp; &nbsp; &nbsp; &nbsp; &nbsp; &nbsp; &nbsp; &nbsp; &nbsp; &nbsp; &nbsp; &nbsp; &nbsp; &nbsp; &nbsp; varchar(50)&nbsp; &nbsp; &nbsp; &nbsp; &nbsp; &nbsp; &nbsp; [Description in progress]</span>\n",
                "> \n",
                "> <span style=\"background-color: rgba(127, 127, 127, 0.1);\">Functioning_Day&nbsp; &nbsp; &nbsp; &nbsp; &nbsp; &nbsp; &nbsp; &nbsp; &nbsp;varchar(50)&nbsp; &nbsp; &nbsp; &nbsp; &nbsp; &nbsp; &nbsp; &nbsp;A day on which one usually works.</span>"
            ],
            "metadata": {
                "azdata_cell_guid": "1a69d49b-08ab-4e6a-b637-0db5bcc88667"
            },
            "attachments": {}
        },
        {
            "cell_type": "markdown",
            "source": [
                "**\\_\\_\\_\\_\\_\\_\\_\\_\\_\\_\\_\\_\\_\\_\\_\\_\\_\\_\\_\\_\\_\\_\\_\\_\\_\\_\\_\\_\\_\\_\\_\\_\\_\\_\\_\\_\\_\\_\\_\\_\\_\\_\\_\\_\\_\\_\\_\\_\\_\\_\\_\\_\\_\\_\\_\\_\\_\\_\\_\\_\\_\\_\\_\\_\\_\\_\\_\\_\\_\\_\\_\\_\\_\\_\\_\\_\\_\\_\\_\\_\\_\\_\\_\\_\\_\\_\\_\\_\\_\\_\\_\\_\\_\\_\\_\\_\\_\\_\\_\\_\\_\\_\\_\\_\\_\\_\\_\\_\\_\\_\\_\\_\\_\\_\\_\\_\\_\\_\\_\\_\\_\\_\\_\\_\\_\\_\\_\\_\\_\\_\\_\\_\\_\\_\\_\\_\\_\\_\\_\\_\\_\\_\\_\\_\\_\\_\\_\\_\\_\\_\\_\\_\\_\\_\\_\\_\\_\\_\\_\\_\\_\\_\\_\\_**"
            ],
            "metadata": {
                "language": "sql",
                "azdata_cell_guid": "6a801375-ef54-4d0f-8d45-7dfc310d4221"
            },
            "attachments": {}
        },
        {
            "cell_type": "markdown",
            "source": [
                "# \\[**BASIC EXPLORATION\\]**"
            ],
            "metadata": {
                "language": "sql",
                "azdata_cell_guid": "788f22eb-f402-401e-aa2f-49349a79b8dd"
            },
            "attachments": {}
        },
        {
            "cell_type": "markdown",
            "source": [
                "### **DATASET OVERVIEW**"
            ],
            "metadata": {
                "language": "sql",
                "azdata_cell_guid": "68f10573-bd0c-44fd-8cc5-5b9b4c6d0a43"
            },
            "attachments": {}
        },
        {
            "cell_type": "code",
            "source": [
                "SELECT TOP 4 * FROM UsageStats"
            ],
            "metadata": {
                "azdata_cell_guid": "bf660bd0-1e14-4e2a-8d1c-38d3c8417a93",
                "language": "sql",
                "tags": []
            },
            "outputs": [
                {
                    "output_type": "display_data",
                    "data": {
                        "text/html": "(4 rows affected)"
                    },
                    "metadata": {}
                },
                {
                    "output_type": "display_data",
                    "data": {
                        "text/html": "Total execution time: 00:00:00.020"
                    },
                    "metadata": {}
                },
                {
                    "output_type": "execute_result",
                    "metadata": {},
                    "execution_count": 55,
                    "data": {
                        "application/vnd.dataresource+json": {
                            "schema": {
                                "fields": [
                                    {
                                        "name": "Date"
                                    },
                                    {
                                        "name": "Rented_Bike_Count"
                                    },
                                    {
                                        "name": "Hour"
                                    },
                                    {
                                        "name": "Temperature_C"
                                    },
                                    {
                                        "name": "Humidity"
                                    },
                                    {
                                        "name": "Wind_speed_m_s"
                                    },
                                    {
                                        "name": "Rainfall_mm"
                                    },
                                    {
                                        "name": "Snowfall_cm"
                                    },
                                    {
                                        "name": "Seasons"
                                    },
                                    {
                                        "name": "Holiday"
                                    },
                                    {
                                        "name": "Functioning_Day"
                                    }
                                ]
                            },
                            "data": [
                                {
                                    "0": "2017-12-01",
                                    "1": "254",
                                    "2": "0",
                                    "3": "-5.199999809265137",
                                    "4": "37",
                                    "5": "2.200000047683716",
                                    "6": "0",
                                    "7": "0",
                                    "8": "Winter",
                                    "9": "No Holiday",
                                    "10": "Yes"
                                },
                                {
                                    "0": "2017-12-01",
                                    "1": "204",
                                    "2": "1",
                                    "3": "-5.5",
                                    "4": "38",
                                    "5": "0.800000011920929",
                                    "6": "0",
                                    "7": "0",
                                    "8": "Winter",
                                    "9": "No Holiday",
                                    "10": "Yes"
                                },
                                {
                                    "0": "2017-12-01",
                                    "1": "173",
                                    "2": "2",
                                    "3": "-6",
                                    "4": "39",
                                    "5": "1",
                                    "6": "0",
                                    "7": "0",
                                    "8": "Winter",
                                    "9": "No Holiday",
                                    "10": "Yes"
                                },
                                {
                                    "0": "2017-12-01",
                                    "1": "107",
                                    "2": "3",
                                    "3": "-6.199999809265137",
                                    "4": "40",
                                    "5": "0.8999999761581421",
                                    "6": "0",
                                    "7": "0",
                                    "8": "Winter",
                                    "9": "No Holiday",
                                    "10": "Yes"
                                }
                            ]
                        },
                        "text/html": [
                            "<table>",
                            "<tr><th>Date</th><th>Rented_Bike_Count</th><th>Hour</th><th>Temperature_C</th><th>Humidity</th><th>Wind_speed_m_s</th><th>Rainfall_mm</th><th>Snowfall_cm</th><th>Seasons</th><th>Holiday</th><th>Functioning_Day</th></tr>",
                            "<tr><td>2017-12-01</td><td>254</td><td>0</td><td>-5.199999809265137</td><td>37</td><td>2.200000047683716</td><td>0</td><td>0</td><td>Winter</td><td>No Holiday</td><td>Yes</td></tr>",
                            "<tr><td>2017-12-01</td><td>204</td><td>1</td><td>-5.5</td><td>38</td><td>0.800000011920929</td><td>0</td><td>0</td><td>Winter</td><td>No Holiday</td><td>Yes</td></tr>",
                            "<tr><td>2017-12-01</td><td>173</td><td>2</td><td>-6</td><td>39</td><td>1</td><td>0</td><td>0</td><td>Winter</td><td>No Holiday</td><td>Yes</td></tr>",
                            "<tr><td>2017-12-01</td><td>107</td><td>3</td><td>-6.199999809265137</td><td>40</td><td>0.8999999761581421</td><td>0</td><td>0</td><td>Winter</td><td>No Holiday</td><td>Yes</td></tr>",
                            "</table>"
                        ]
                    }
                }
            ],
            "execution_count": 55
        },
        {
            "cell_type": "markdown",
            "source": [
                "### **SUMMARY STATISTICS**\n",
                "\n",
                "As I believe there is no one-only built-in T-SQL function that can provide a summary for all (or selected) dimensions, I had to improvise in my querying to generate key statistics (and a few customisable info) for everything all at once."
            ],
            "metadata": {
                "language": "sql",
                "azdata_cell_guid": "470e2644-cf05-41c7-8988-a9a8e42c8583"
            },
            "attachments": {}
        },
        {
            "cell_type": "code",
            "source": [
                "------------------------------------------ [COUNT OF NULL VALUES] --------------------------------\r\n",
                "/* The CASE statement works around the lack of a built-in function to count null values. */\r\n",
                "SELECT '1- Null Values' 'Statistics',\r\n",
                "    SUM(case when Rented_Bike_Count is null then 1 else 0 end) Rented_Bike_Count, SUM(case when Temperature_C is null then 1 else 0 end) Temperature_C,\r\n",
                "    SUM(case when Humidity is null then 1 else 0 end) Humidity, SUM(case when Wind_speed_m_s is null then 1 else 0 end) Wind_speed_m_s,\r\n",
                "    SUM(case when Visibility_10m is null then 1 else 0 end) Visibility_10m, SUM(case when Rainfall_mm is null then 1 else 0 end) Rainfall_mm,\r\n",
                "    SUM(case when Snowfall_cm is null then 1 else 0 end) Snowfall_cm\r\n",
                "FROM UsageStats\r\n",
                "------------------------------------------ [MINIMUM] --------------------------------------------\r\n",
                "UNION /* I had to use a series of UNION clauses to arrange all key stats in a Matrix style. */\r\n",
                "SELECT '2- Minimum',\r\n",
                "    MIN(Rented_Bike_Count), MIN(Temperature_C), MIN(Humidity), MIN(Wind_speed_m_s), MIN(Visibility_10m), MIN(Rainfall_mm), MIN(Snowfall_cm)\r\n",
                "FROM UsageStats\r\n",
                "------------------------------------------ [MEDIAN] ---------------------------------------------\r\n",
                "UNION /* Functions and syntax below are required by MS documentation to achieve the aimed result */\r\n",
                "SELECT '3- Median',\r\n",
                "    PERCENTILE_DISC(0.5) WITHIN GROUP(ORDER BY Rented_Bike_Count)OVER(), PERCENTILE_DISC(0.5) WITHIN GROUP(ORDER BY Temperature_C)OVER(),\r\n",
                "    PERCENTILE_DISC(0.5) WITHIN GROUP(ORDER BY Humidity)OVER(), PERCENTILE_DISC(0.5) WITHIN GROUP(ORDER BY Wind_speed_m_s)OVER(),\r\n",
                "    PERCENTILE_DISC(0.5) WITHIN GROUP(ORDER BY Visibility_10m)OVER(), PERCENTILE_DISC(0.5) WITHIN GROUP(ORDER BY Rainfall_mm)OVER(),\r\n",
                "    PERCENTILE_DISC(0.5) WITHIN GROUP(ORDER BY Snowfall_cm)OVER()\r\n",
                "FROM UsageStats\r\n",
                "------------------------------------------ [MAXIMUM] ---------------------------------\r\n",
                "UNION\r\n",
                "SELECT '4- Maximum',\r\n",
                "    MAX(Rented_Bike_Count), MAX(Temperature_C), MAX(Humidity), MAX(Wind_speed_m_s), MAX(Visibility_10m), MAX(Rainfall_mm), MAX(Snowfall_cm)\r\n",
                "FROM UsageStats\r\n",
                "------------------------------------------ [AVERAGE] --------------------------------------------\r\n",
                "UNION\r\n",
                "SELECT '5- Average',\r\n",
                "    AVG(Rented_Bike_Count), AVG(Temperature_C), AVG(Humidity), AVG(Wind_speed_m_s), AVG(Visibility_10m), AVG(Rainfall_mm), AVG(Snowfall_cm)\r\n",
                "FROM UsageStats\r\n",
                "------------------------------------------ [STANDARD DEVIATION] ---------------------------------\r\n",
                "UNION\r\n",
                "SELECT '6- Standard Deviation',\r\n",
                "    STDEV(Rented_Bike_Count), STDEV(Temperature_C), STDEV(Humidity), STDEV(Wind_speed_m_s), STDEV(Visibility_10m), STDEV(Rainfall_mm),\r\n",
                "    STDEV(Snowfall_cm)\r\n",
                "FROM UsageStats\r\n",
                "ORDER BY [Statistics]"
            ],
            "metadata": {
                "language": "sql",
                "azdata_cell_guid": "301b00db-38ba-4ea3-9bc5-9f459ec5eefd",
                "tags": [
                    "hide_input"
                ]
            },
            "outputs": [
                {
                    "output_type": "display_data",
                    "data": {
                        "text/html": "(6 rows affected)"
                    },
                    "metadata": {}
                },
                {
                    "output_type": "display_data",
                    "data": {
                        "text/html": "Total execution time: 00:00:01.796"
                    },
                    "metadata": {}
                },
                {
                    "output_type": "execute_result",
                    "execution_count": 1,
                    "data": {
                        "application/vnd.dataresource+json": {
                            "schema": {
                                "fields": [
                                    {
                                        "name": "Statistics"
                                    },
                                    {
                                        "name": "Rented_Bike_Count"
                                    },
                                    {
                                        "name": "Temperature_C"
                                    },
                                    {
                                        "name": "Humidity"
                                    },
                                    {
                                        "name": "Wind_speed_m_s"
                                    },
                                    {
                                        "name": "Visibility_10m"
                                    },
                                    {
                                        "name": "Rainfall_mm"
                                    },
                                    {
                                        "name": "Snowfall_cm"
                                    }
                                ]
                            },
                            "data": [
                                {
                                    "0": "1- Null Values",
                                    "1": "0",
                                    "2": "0",
                                    "3": "0",
                                    "4": "0",
                                    "5": "0",
                                    "6": "0",
                                    "7": "0"
                                },
                                {
                                    "0": "2- Minimum",
                                    "1": "0",
                                    "2": "-17.799999237060547",
                                    "3": "0",
                                    "4": "0",
                                    "5": "27",
                                    "6": "0",
                                    "7": "0"
                                },
                                {
                                    "0": "3- Median",
                                    "1": "504",
                                    "2": "13.699999809265137",
                                    "3": "57",
                                    "4": "1.5",
                                    "5": "1698",
                                    "6": "0",
                                    "7": "0"
                                },
                                {
                                    "0": "4- Maximum",
                                    "1": "3556",
                                    "2": "39.400001525878906",
                                    "3": "98",
                                    "4": "7.400000095367432",
                                    "5": "2000",
                                    "6": "35",
                                    "7": "8.800000190734863"
                                },
                                {
                                    "0": "5- Average",
                                    "1": "704",
                                    "2": "12.882922378630637",
                                    "3": "58",
                                    "4": "1.7249086756965137",
                                    "5": "1436",
                                    "6": "0.14868721476666732",
                                    "7": "0.07506849328608818"
                                },
                                {
                                    "0": "6- Standard Deviation",
                                    "1": "644.9974677392156",
                                    "2": "11.94482523726802",
                                    "3": "20.36241330156561",
                                    "4": "1.0362999914838886",
                                    "5": "608.298711984019",
                                    "6": "1.1281929694562725",
                                    "7": "0.43674618219324546"
                                }
                            ]
                        },
                        "text/html": "<table><tr><th>Statistics</th><th>Rented_Bike_Count</th><th>Temperature_C</th><th>Humidity</th><th>Wind_speed_m_s</th><th>Visibility_10m</th><th>Rainfall_mm</th><th>Snowfall_cm</th></tr><tr><td>1- Null Values</td><td>0</td><td>0</td><td>0</td><td>0</td><td>0</td><td>0</td><td>0</td></tr><tr><td>2- Minimum</td><td>0</td><td>-17.799999237060547</td><td>0</td><td>0</td><td>27</td><td>0</td><td>0</td></tr><tr><td>3- Median</td><td>504</td><td>13.699999809265137</td><td>57</td><td>1.5</td><td>1698</td><td>0</td><td>0</td></tr><tr><td>4- Maximum</td><td>3556</td><td>39.400001525878906</td><td>98</td><td>7.400000095367432</td><td>2000</td><td>35</td><td>8.800000190734863</td></tr><tr><td>5- Average</td><td>704</td><td>12.882922378630637</td><td>58</td><td>1.7249086756965137</td><td>1436</td><td>0.14868721476666732</td><td>0.07506849328608818</td></tr><tr><td>6- Standard Deviation</td><td>644.9974677392156</td><td>11.94482523726802</td><td>20.36241330156561</td><td>1.0362999914838886</td><td>608.298711984019</td><td>1.1281929694562725</td><td>0.43674618219324546</td></tr></table>"
                    },
                    "metadata": {}
                }
            ],
            "execution_count": 1
        },
        {
            "cell_type": "markdown",
            "source": [
                "**COMMENT ON RESULTS:** \n",
                "\n",
                "- No null values in the metris, which garantees an accurate investigation of patterns using all observations.\n",
                "- The mean and median are not far from each other on most dimensions, suggensting that their data may be more symmetrically distributed."
            ],
            "metadata": {
                "language": "sql",
                "azdata_cell_guid": "6d0ad811-9fa7-4293-8d48-065525f6952c"
            },
            "attachments": {}
        },
        {
            "cell_type": "markdown",
            "source": [
                "**\\_\\_\\_\\_\\_\\_\\_\\_\\_\\_\\_\\_\\_\\_\\_\\_\\_\\_\\_\\_\\_\\_\\_\\_\\_\\_\\_\\_\\_\\_\\_\\_\\_\\_\\_\\_\\_\\_\\_\\_\\_\\_\\_\\_\\_\\_\\_\\_\\_\\_\\_\\_\\_\\_\\_\\_\\_\\_\\_\\_\\_\\_\\_\\_\\_\\_\\_\\_\\_\\_\\_\\_\\_\\_\\_\\_\\_\\_\\_\\_\\_\\_\\_\\_\\_\\_\\_\\_\\_\\_\\_\\_\\_\\_\\_\\_\\_\\_\\_\\_\\_\\_\\_\\_\\_\\_\\_\\_\\_\\_\\_\\_\\_\\_\\_\\_\\_\\_\\_\\_\\_\\_\\_\\_\\_\\_\\_\\_\\_\\_\\_\\_\\_\\_\\_\\_\\_\\_\\_\\_\\_\\_\\_\\_\\_\\_\\_\\_\\_\\_\\_\\_\\_\\_\\_\\_\\_\\_\\_\\_\\_\\_\\_\\_**"
            ],
            "metadata": {
                "language": "sql",
                "azdata_cell_guid": "2663a782-70cc-494a-a67d-40ff1d34c687"
            },
            "attachments": {}
        },
        {
            "cell_type": "markdown",
            "source": [
                "# \\[**TIME SERIES DECOMPOSITION\\]**"
            ],
            "metadata": {
                "language": "sql",
                "azdata_cell_guid": "697eec78-2b58-453b-a610-8c434eaa8eb7"
            },
            "attachments": {}
        },
        {
            "cell_type": "markdown",
            "source": [
                "### **WHAT WERE THE BUSIEST AND MOST QUIET MONTHS?**\n",
                "\n",
                "Starting simple, let's first identify what are"
            ],
            "metadata": {
                "language": "sql",
                "azdata_cell_guid": "cf5e7511-8a2c-4d62-a7f7-be551e850b51"
            },
            "attachments": {}
        },
        {
            "cell_type": "code",
            "source": [
                "WITH cte AS (\r\n",
                "    SELECT\r\n",
                "        DATENAME(MONTH, date) as MonthName,\r\n",
                "        SUM(Rented_Bike_Count) as MonthTotal,\r\n",
                "        RANK()OVER(ORDER BY SUM(Rented_Bike_Count) DESC) AS Rank \r\n",
                "    FROM UsageStats\r\n",
                "    GROUP BY DATENAME(MONTH, date)\r\n",
                "            )\r\n",
                "\r\n",
                "SELECT MonthName, MonthTotal\r\n",
                "FROM cte\r\n",
                "WHERE Rank < 4 OR Rank > 9\r\n",
                "ORDER BY MonthTotal DESC"
            ],
            "metadata": {
                "language": "sql",
                "azdata_cell_guid": "a36ab28f-9dfc-47c9-b285-d9e33ca95ced",
                "tags": [
                    "hide_input"
                ]
            },
            "outputs": [
                {
                    "output_type": "display_data",
                    "data": {
                        "text/html": "(6 rows affected)"
                    },
                    "metadata": {}
                },
                {
                    "output_type": "display_data",
                    "data": {
                        "text/html": "Total execution time: 00:00:00.028"
                    },
                    "metadata": {}
                },
                {
                    "output_type": "execute_result",
                    "metadata": {},
                    "execution_count": 70,
                    "data": {
                        "application/vnd.dataresource+json": {
                            "schema": {
                                "fields": [
                                    {
                                        "name": "MonthName"
                                    },
                                    {
                                        "name": "MonthTotal"
                                    }
                                ]
                            },
                            "data": [
                                {
                                    "0": "June",
                                    "1": "896887"
                                },
                                {
                                    "0": "July",
                                    "1": "734460"
                                },
                                {
                                    "0": "May",
                                    "1": "707088"
                                },
                                {
                                    "0": "December",
                                    "1": "185330"
                                },
                                {
                                    "0": "February",
                                    "1": "151833"
                                },
                                {
                                    "0": "January",
                                    "1": "150006"
                                }
                            ]
                        },
                        "text/html": [
                            "<table>",
                            "<tr><th>MonthName</th><th>MonthTotal</th></tr>",
                            "<tr><td>June</td><td>896887</td></tr>",
                            "<tr><td>July</td><td>734460</td></tr>",
                            "<tr><td>May</td><td>707088</td></tr>",
                            "<tr><td>December</td><td>185330</td></tr>",
                            "<tr><td>February</td><td>151833</td></tr>",
                            "<tr><td>January</td><td>150006</td></tr>",
                            "</table>"
                        ]
                    }
                }
            ],
            "execution_count": 70
        },
        {
            "cell_type": "markdown",
            "source": [
                "### **HOW DO WEEKS PERFORM THROUGHOUT THE YEAR DEPENDING ON EACH SEASON?**\n",
                "\n",
                "### <span style=\"font-size: 14px;\">As expected to the results from the last query, all winter months were ranked the most quiet ones and 2 months of summer with 1 preceeding month were ranked the busiest. Which suggests the there may be a difference between annual seasons.</span>\n",
                "\n",
                "### <span style=\"font-size: 14px;\">Therefore, below I attempt now to retrieve the averaged distribution of rental activity between the days of the week and segregate these into four seasons to observe how this changes behave throughout the recorded year, and, with this, I hope to start making assumptions on whether there are influences on the usage purposes of customers.</span>"
            ],
            "metadata": {
                "language": "sql",
                "azdata_cell_guid": "421724f9-3388-489e-ada5-4e96ddd9109b"
            },
            "attachments": {}
        },
        {
            "cell_type": "code",
            "source": [
                "SELECT y.DayName, Summer, Autumn, Winter, Spring,\r\n",
                "       AVG(TotalofDay) AS 'Year'\r\n",
                "FROM\r\n",
                "    (SELECT\r\n",
                "        DATEPART(WEEKDAY,date) AS DayNumber, DATENAME(WEEKDAY,date) AS DayName,\r\n",
                "        SUM(Rented_Bike_Count) AS TotalofDay\r\n",
                "     FROM UsageStats GROUP BY date) y\r\n",
                "------------------------------------------ [SUMMER] -----------------------------------------\r\n",
                "     JOIN (SELECT DayName, AVG(TotalofDay) AS 'Summer' /* Average fetched by day not hour */\r\n",
                "           FROM\r\n",
                "               (SELECT /* Subquery to fetch the total count per day instaed of hour */\r\n",
                "                      DATEPART(WEEKDAY,date) AS DayNumber,\r\n",
                "                      DATENAME(WEEKDAY,date) AS DayName,\r\n",
                "                      SUM(Rented_Bike_Count) AS TotalofDay\r\n",
                "                FROM UsageStats WHERE seasons = 'Summer' GROUP BY date\r\n",
                "               ) s1\r\n",
                "           GROUP BY DayName, DayNumber\r\n",
                "          ) s ON y.DayName = s.DayName\r\n",
                "------------------------------------------ [AUTUMN] -----------------------------------------\r\n",
                "     JOIN (SELECT DayName, AVG(TotalofDay) AS 'Autumn'\r\n",
                "           FROM\r\n",
                "                 (SELECT /* Same subquery process repeated to all other seasons */\r\n",
                "                        DATEPART(WEEKDAY,date) AS DayNumber,\r\n",
                "                        DATENAME(WEEKDAY,date) AS DayName,\r\n",
                "                        SUM(Rented_Bike_Count) AS TotalofDay\r\n",
                "                 FROM UsageStats WHERE seasons = 'Autumn' GROUP BY date\r\n",
                "                ) a1\r\n",
                "            GROUP BY DayName, DayNumber\r\n",
                "           ) a ON y.DayName = a.DayName\r\n",
                "------------------------------------------ [WINTER] -----------------------------------------\r\n",
                "     JOIN (SELECT DayName, AVG(TotalofDay) AS 'Winter'\r\n",
                "           FROM\r\n",
                "               (SELECT\r\n",
                "                      DATEPART(WEEKDAY,date) AS DayNumber,\r\n",
                "                      DATENAME(WEEKDAY,date) AS DayName,\r\n",
                "                      SUM(Rented_Bike_Count) AS TotalofDay\r\n",
                "                FROM UsageStats WHERE seasons = 'Winter' GROUP BY date\r\n",
                "               ) w1\r\n",
                "           GROUP BY DayName, DayNumber\r\n",
                "          ) w ON y.DayName = w.DayName\r\n",
                "------------------------------------------ [SPRING] -----------------------------------------\r\n",
                "     JOIN (SELECT DayName, AVG(TotalofDay) AS 'Spring'\r\n",
                "           FROM (SELECT\r\n",
                "                       DATEPART(WEEKDAY,date) AS DayNumber,\r\n",
                "                       DATENAME(WEEKDAY,date) AS DayName,\r\n",
                "                       SUM(Rented_Bike_Count) AS TotalofDay\r\n",
                "                 FROM UsageStats WHERE seasons = 'Spring' GROUP BY date\r\n",
                "                ) sp1\r\n",
                "            GROUP BY DayName, DayNumber\r\n",
                "          ) sp ON y.DayName = sp.DayName\r\n",
                "--------------------------------------- [END OF JOINS] --------------------------------------\r\n",
                "GROUP BY y.DayName, Summer, Autumn, Winter, Spring, DayNumber\r\n",
                "ORDER BY DayNumber"
            ],
            "metadata": {
                "language": "sql",
                "azdata_cell_guid": "4ca4fc68-5aca-4f69-9eef-a048b500d98a",
                "tags": [
                    "hide_input"
                ]
            },
            "outputs": [
                {
                    "output_type": "display_data",
                    "data": {
                        "text/html": "(7 rows affected)"
                    },
                    "metadata": {}
                },
                {
                    "output_type": "display_data",
                    "data": {
                        "text/html": "Total execution time: 00:00:00.041"
                    },
                    "metadata": {}
                },
                {
                    "output_type": "execute_result",
                    "execution_count": 4,
                    "data": {
                        "application/vnd.dataresource+json": {
                            "schema": {
                                "fields": [
                                    {
                                        "name": "DayOfWeek"
                                    },
                                    {
                                        "name": "Summer"
                                    },
                                    {
                                        "name": "Autumn"
                                    },
                                    {
                                        "name": "Winter"
                                    },
                                    {
                                        "name": "Spring"
                                    },
                                    {
                                        "name": "Year"
                                    }
                                ]
                            },
                            "data": [
                                {
                                    "0": "Sunday",
                                    "1": "22326",
                                    "2": "18159",
                                    "3": "4079",
                                    "4": "15450",
                                    "5": "15003"
                                },
                                {
                                    "0": "Monday",
                                    "1": "22187",
                                    "2": "23011",
                                    "3": "5514",
                                    "4": "19421",
                                    "5": "17533"
                                },
                                {
                                    "0": "Tuesday",
                                    "1": "24329",
                                    "2": "16257",
                                    "3": "5908",
                                    "4": "19550",
                                    "5": "16511"
                                },
                                {
                                    "0": "Wednesday",
                                    "1": "26091",
                                    "2": "22434",
                                    "3": "5333",
                                    "4": "17214",
                                    "5": "17768"
                                },
                                {
                                    "0": "Thursday",
                                    "1": "25155",
                                    "2": "20099",
                                    "3": "5785",
                                    "4": "14590",
                                    "5": "16576"
                                },
                                {
                                    "0": "Friday",
                                    "1": "27968",
                                    "2": "17366",
                                    "3": "6285",
                                    "4": "19330",
                                    "5": "17930"
                                },
                                {
                                    "0": "Saturday",
                                    "1": "25424",
                                    "2": "20362",
                                    "3": "5013",
                                    "4": "17313",
                                    "5": "17028"
                                }
                            ]
                        },
                        "text/html": "<table><tr><th>DayOfWeek</th><th>Summer</th><th>Autumn</th><th>Winter</th><th>Spring</th><th>Year</th></tr><tr><td>Sunday</td><td>22326</td><td>18159</td><td>4079</td><td>15450</td><td>15003</td></tr><tr><td>Monday</td><td>22187</td><td>23011</td><td>5514</td><td>19421</td><td>17533</td></tr><tr><td>Tuesday</td><td>24329</td><td>16257</td><td>5908</td><td>19550</td><td>16511</td></tr><tr><td>Wednesday</td><td>26091</td><td>22434</td><td>5333</td><td>17214</td><td>17768</td></tr><tr><td>Thursday</td><td>25155</td><td>20099</td><td>5785</td><td>14590</td><td>16576</td></tr><tr><td>Friday</td><td>27968</td><td>17366</td><td>6285</td><td>19330</td><td>17930</td></tr><tr><td>Saturday</td><td>25424</td><td>20362</td><td>5013</td><td>17313</td><td>17028</td></tr></table>"
                    },
                    "metadata": {}
                }
            ],
            "execution_count": 4
        },
        {
            "cell_type": "markdown",
            "source": [
                "I exported this view to Excel, applying _transpose_ and _conditional formatting_ to make the visualisation of the matrix a bit easier with the number cluster.  \n",
                "\n",
                "![Image](https://i.ibb.co/tpw49ps/Weekly-Analysis.jpg)"
            ],
            "metadata": {
                "language": "sql",
                "azdata_cell_guid": "2e1ce4bf-d8f5-42f0-a2d6-51cc150fb828"
            },
            "attachments": {}
        },
        {
            "cell_type": "markdown",
            "source": [
                "**COMMENT ON RESULTS:** Interestingly, weekdays such as Fridays (the top performer) have been more demaning most of the time across all seasons. Moreover, summer have enjoyed a demand throughout weeks almost 50% superior of all 12 averaged months. Whereas winter, on the other hand, struggled with a drop of almost 70% every day of week when compared with the same period."
            ],
            "metadata": {
                "language": "sql",
                "azdata_cell_guid": "a7889034-5605-4e6d-8c8d-c65fa577d99a"
            },
            "attachments": {}
        },
        {
            "cell_type": "markdown",
            "source": [
                "### **WHAT ABOUT THE DISTRIBUTION THROUGHOUT A WHOLE DAY?**\n",
                "\n",
                "Let's check now how these activity levels behaved throughout a day, assuming that people might prefer using the bikes when there in daylight and when there are places open to visit (business hours) around Seoul."
            ],
            "metadata": {
                "language": "sql",
                "azdata_cell_guid": "5e76500b-ed5d-43bc-80b4-eeddecefac6f"
            },
            "attachments": {}
        },
        {
            "cell_type": "code",
            "source": [
                "------------------ [YEAR HOURLY AVERAGE]-------------------\r\n",
                "SELECT\r\n",
                "    y.hour, Summer, Autumn, Winter, Spring,\r\n",
                "    AVG(Rented_Bike_Count) AS 'Year'\r\n",
                "FROM UsageStats y\r\n",
                "------------------------- [SUMMER]------------------------\r\n",
                "    JOIN (SELECT hour, AVG(Rented_Bike_Count) AS 'Summer'\r\n",
                "          FROM UsageStats\r\n",
                "          WHERE seasons = 'Summer' GROUP BY hour\r\n",
                "         ) s ON y.hour = s.hour\r\n",
                "------------------------- [AUTUMN]------------------------\r\n",
                "    JOIN (SELECT hour, AVG(Rented_Bike_Count) AS 'Autumn'\r\n",
                "          FROM UsageStats\r\n",
                "          WHERE seasons = 'Autumn' GROUP BY hour\r\n",
                "         ) a ON y.hour = a.hour\r\n",
                "------------------------- [WINTER]------------------------\r\n",
                "    JOIN (SELECT hour, AVG(Rented_Bike_Count) AS 'Winter'\r\n",
                "          FROM UsageStats\r\n",
                "          WHERE seasons = 'Winter' GROUP BY hour\r\n",
                "         ) w ON y.hour = w.hour\r\n",
                "------------------------- [SPRING]------------------------\r\n",
                "    JOIN (SELECT hour, AVG(Rented_Bike_Count) AS 'Spring'\r\n",
                "          FROM UsageStats\r\n",
                "          WHERE seasons = 'Spring' GROUP BY hour\r\n",
                "         ) sp ON y.hour = sp.hour\r\n",
                "--------------------- [END OF JOINS]----------------------\r\n",
                "GROUP BY y.hour, Summer, Autumn, Winter, Spring\r\n",
                "ORDER BY y.hour"
            ],
            "metadata": {
                "language": "sql",
                "azdata_cell_guid": "a8cedc39-ccdf-4edb-96d7-c202f266d76a",
                "tags": [
                    "hide_input"
                ]
            },
            "outputs": [
                {
                    "output_type": "display_data",
                    "data": {
                        "text/html": "(24 rows affected)"
                    },
                    "metadata": {}
                },
                {
                    "output_type": "display_data",
                    "data": {
                        "text/html": "Total execution time: 00:00:00.044"
                    },
                    "metadata": {}
                },
                {
                    "output_type": "execute_result",
                    "execution_count": 12,
                    "data": {
                        "application/vnd.dataresource+json": {
                            "schema": {
                                "fields": [
                                    {
                                        "name": "hour"
                                    },
                                    {
                                        "name": "Summer"
                                    },
                                    {
                                        "name": "Autumn"
                                    },
                                    {
                                        "name": "Winter"
                                    },
                                    {
                                        "name": "Spring"
                                    },
                                    {
                                        "name": "Year"
                                    }
                                ]
                            },
                            "data": [
                                {
                                    "0": "0",
                                    "1": "899",
                                    "2": "623",
                                    "3": "165",
                                    "4": "470",
                                    "5": "541"
                                },
                                {
                                    "0": "1",
                                    "1": "698",
                                    "2": "485",
                                    "3": "159",
                                    "4": "356",
                                    "5": "426"
                                },
                                {
                                    "0": "2",
                                    "1": "505",
                                    "2": "331",
                                    "3": "117",
                                    "4": "247",
                                    "5": "301"
                                },
                                {
                                    "0": "3",
                                    "1": "342",
                                    "2": "225",
                                    "3": "77",
                                    "4": "164",
                                    "5": "203"
                                },
                                {
                                    "0": "4",
                                    "1": "223",
                                    "2": "148",
                                    "3": "50",
                                    "4": "105",
                                    "5": "132"
                                },
                                {
                                    "0": "5",
                                    "1": "245",
                                    "2": "143",
                                    "3": "51",
                                    "4": "113",
                                    "5": "139"
                                },
                                {
                                    "0": "6",
                                    "1": "485",
                                    "2": "316",
                                    "3": "92",
                                    "4": "251",
                                    "5": "287"
                                },
                                {
                                    "0": "7",
                                    "1": "902",
                                    "2": "702",
                                    "3": "209",
                                    "4": "601",
                                    "5": "606"
                                },
                                {
                                    "0": "8",
                                    "1": "1418",
                                    "2": "1197",
                                    "3": "422",
                                    "4": "1013",
                                    "5": "1015"
                                },
                                {
                                    "0": "9",
                                    "1": "911",
                                    "2": "755",
                                    "3": "254",
                                    "4": "655",
                                    "5": "645"
                                },
                                {
                                    "0": "10",
                                    "1": "723",
                                    "2": "636",
                                    "3": "186",
                                    "4": "558",
                                    "5": "527"
                                },
                                {
                                    "0": "11",
                                    "1": "786",
                                    "2": "714",
                                    "3": "228",
                                    "4": "666",
                                    "5": "600"
                                },
                                {
                                    "0": "12",
                                    "1": "875",
                                    "2": "831",
                                    "3": "263",
                                    "4": "818",
                                    "5": "699"
                                },
                                {
                                    "0": "13",
                                    "1": "890",
                                    "2": "892",
                                    "3": "275",
                                    "4": "866",
                                    "5": "733"
                                },
                                {
                                    "0": "14",
                                    "1": "894",
                                    "2": "942",
                                    "3": "284",
                                    "4": "905",
                                    "5": "758"
                                },
                                {
                                    "0": "15",
                                    "1": "1009",
                                    "2": "1029",
                                    "3": "298",
                                    "4": "969",
                                    "5": "829"
                                },
                                {
                                    "0": "16",
                                    "1": "1174",
                                    "2": "1151",
                                    "3": "308",
                                    "4": "1077",
                                    "5": "930"
                                },
                                {
                                    "0": "17",
                                    "1": "1526",
                                    "2": "1391",
                                    "3": "342",
                                    "4": "1279",
                                    "5": "1138"
                                },
                                {
                                    "0": "18",
                                    "1": "2135",
                                    "2": "1765",
                                    "3": "438",
                                    "4": "1652",
                                    "5": "1502"
                                },
                                {
                                    "0": "19",
                                    "1": "1889",
                                    "2": "1349",
                                    "3": "304",
                                    "4": "1220",
                                    "5": "1195"
                                },
                                {
                                    "0": "20",
                                    "1": "1801",
                                    "2": "1176",
                                    "3": "243",
                                    "4": "1037",
                                    "5": "1068"
                                },
                                {
                                    "0": "21",
                                    "1": "1754",
                                    "2": "1116",
                                    "3": "240",
                                    "4": "998",
                                    "5": "1031"
                                },
                                {
                                    "0": "22",
                                    "1": "1567",
                                    "2": "1006",
                                    "3": "225",
                                    "4": "877",
                                    "5": "922"
                                },
                                {
                                    "0": "23",
                                    "1": "1153",
                                    "2": "737",
                                    "3": "173",
                                    "4": "609",
                                    "5": "671"
                                }
                            ]
                        },
                        "text/html": "<table><tr><th>hour</th><th>Summer</th><th>Autumn</th><th>Winter</th><th>Spring</th><th>Year</th></tr><tr><td>0</td><td>899</td><td>623</td><td>165</td><td>470</td><td>541</td></tr><tr><td>1</td><td>698</td><td>485</td><td>159</td><td>356</td><td>426</td></tr><tr><td>2</td><td>505</td><td>331</td><td>117</td><td>247</td><td>301</td></tr><tr><td>3</td><td>342</td><td>225</td><td>77</td><td>164</td><td>203</td></tr><tr><td>4</td><td>223</td><td>148</td><td>50</td><td>105</td><td>132</td></tr><tr><td>5</td><td>245</td><td>143</td><td>51</td><td>113</td><td>139</td></tr><tr><td>6</td><td>485</td><td>316</td><td>92</td><td>251</td><td>287</td></tr><tr><td>7</td><td>902</td><td>702</td><td>209</td><td>601</td><td>606</td></tr><tr><td>8</td><td>1418</td><td>1197</td><td>422</td><td>1013</td><td>1015</td></tr><tr><td>9</td><td>911</td><td>755</td><td>254</td><td>655</td><td>645</td></tr><tr><td>10</td><td>723</td><td>636</td><td>186</td><td>558</td><td>527</td></tr><tr><td>11</td><td>786</td><td>714</td><td>228</td><td>666</td><td>600</td></tr><tr><td>12</td><td>875</td><td>831</td><td>263</td><td>818</td><td>699</td></tr><tr><td>13</td><td>890</td><td>892</td><td>275</td><td>866</td><td>733</td></tr><tr><td>14</td><td>894</td><td>942</td><td>284</td><td>905</td><td>758</td></tr><tr><td>15</td><td>1009</td><td>1029</td><td>298</td><td>969</td><td>829</td></tr><tr><td>16</td><td>1174</td><td>1151</td><td>308</td><td>1077</td><td>930</td></tr><tr><td>17</td><td>1526</td><td>1391</td><td>342</td><td>1279</td><td>1138</td></tr><tr><td>18</td><td>2135</td><td>1765</td><td>438</td><td>1652</td><td>1502</td></tr><tr><td>19</td><td>1889</td><td>1349</td><td>304</td><td>1220</td><td>1195</td></tr><tr><td>20</td><td>1801</td><td>1176</td><td>243</td><td>1037</td><td>1068</td></tr><tr><td>21</td><td>1754</td><td>1116</td><td>240</td><td>998</td><td>1031</td></tr><tr><td>22</td><td>1567</td><td>1006</td><td>225</td><td>877</td><td>922</td></tr><tr><td>23</td><td>1153</td><td>737</td><td>173</td><td>609</td><td>671</td></tr></table>"
                    },
                    "metadata": {}
                }
            ],
            "execution_count": 12
        },
        {
            "cell_type": "markdown",
            "source": [
                "![Image](https://i.ibb.co/rmz7WZS/Hourly-Analysis.jpg)"
            ],
            "metadata": {
                "language": "sql",
                "azdata_cell_guid": "f48091df-98ab-451d-b18b-1ec63b225e83"
            },
            "attachments": {}
        },
        {
            "cell_type": "markdown",
            "source": [
                "**COMMENT ON RESULTS:**\n",
                "\n",
                "- Consistent demand above the average appears to start increasing from 4pm, with Winters persisting until 8pm and Summers till 10pm.\n",
                "- The count decreases significantly after 11pm, hitting the bottom between 4am and 5am.\n",
                "- Spikes in the number of rented bikes can be seen at both sunrise (≈7:40am) and sunset (≈5:15pm) [times](https://www.timeanddate.com/sun/south-korea/seoul?month=12&year=2017) in Seoul."
            ],
            "metadata": {
                "language": "sql",
                "azdata_cell_guid": "e851c68c-7569-4847-b804-36ee10b883c1"
            },
            "attachments": {}
        },
        {
            "cell_type": "code",
            "source": [
                "SELECT\r\n",
                "    Seasons, Functioning_Day, Holiday,\r\n",
                "    SUM(Rented_Bike_Count) AS 'Total of Bikes Rented'\r\n",
                "FROM UsageStats \r\n",
                "GROUP BY Seasons, Functioning_Day, Holiday\r\n",
                "ORDER BY 'Total of Bikes Rented' DESC"
            ],
            "metadata": {
                "language": "sql",
                "azdata_cell_guid": "33943537-d5d7-42ba-b9bc-f97720e0c04d",
                "tags": [
                    "hide_input"
                ]
            },
            "outputs": [
                {
                    "output_type": "display_data",
                    "data": {
                        "text/html": "(11 rows affected)"
                    },
                    "metadata": {}
                },
                {
                    "output_type": "display_data",
                    "data": {
                        "text/html": "Total execution time: 00:00:00.026"
                    },
                    "metadata": {}
                },
                {
                    "output_type": "execute_result",
                    "metadata": {},
                    "execution_count": 56,
                    "data": {
                        "application/vnd.dataresource+json": {
                            "schema": {
                                "fields": [
                                    {
                                        "name": "Seasons"
                                    },
                                    {
                                        "name": "Functioning_Day"
                                    },
                                    {
                                        "name": "Holiday"
                                    },
                                    {
                                        "name": "Total of Bikes Rented"
                                    }
                                ]
                            },
                            "data": [
                                {
                                    "0": "Summer",
                                    "1": "Yes",
                                    "2": "No Holiday",
                                    "3": "2234171"
                                },
                                {
                                    "0": "Autumn",
                                    "1": "Yes",
                                    "2": "No Holiday",
                                    "3": "1698984"
                                },
                                {
                                    "0": "Spring",
                                    "1": "Yes",
                                    "2": "No Holiday",
                                    "3": "1566167"
                                },
                                {
                                    "0": "Winter",
                                    "1": "Yes",
                                    "2": "No Holiday",
                                    "3": "457097"
                                },
                                {
                                    "0": "Autumn",
                                    "1": "Yes",
                                    "2": "Holiday",
                                    "3": "91018"
                                },
                                {
                                    "0": "Summer",
                                    "1": "Yes",
                                    "2": "Holiday",
                                    "3": "49063"
                                },
                                {
                                    "0": "Spring",
                                    "1": "Yes",
                                    "2": "Holiday",
                                    "3": "45742"
                                },
                                {
                                    "0": "Winter",
                                    "1": "Yes",
                                    "2": "Holiday",
                                    "3": "30072"
                                },
                                {
                                    "0": "Spring",
                                    "1": "No",
                                    "2": "No Holiday",
                                    "3": "0"
                                },
                                {
                                    "0": "Autumn",
                                    "1": "No",
                                    "2": "No Holiday",
                                    "3": "0"
                                },
                                {
                                    "0": "Autumn",
                                    "1": "No",
                                    "2": "Holiday",
                                    "3": "0"
                                }
                            ]
                        },
                        "text/html": [
                            "<table>",
                            "<tr><th>Seasons</th><th>Functioning_Day</th><th>Holiday</th><th>Total of Bikes Rented</th></tr>",
                            "<tr><td>Summer</td><td>Yes</td><td>No Holiday</td><td>2234171</td></tr>",
                            "<tr><td>Autumn</td><td>Yes</td><td>No Holiday</td><td>1698984</td></tr>",
                            "<tr><td>Spring</td><td>Yes</td><td>No Holiday</td><td>1566167</td></tr>",
                            "<tr><td>Winter</td><td>Yes</td><td>No Holiday</td><td>457097</td></tr>",
                            "<tr><td>Autumn</td><td>Yes</td><td>Holiday</td><td>91018</td></tr>",
                            "<tr><td>Summer</td><td>Yes</td><td>Holiday</td><td>49063</td></tr>",
                            "<tr><td>Spring</td><td>Yes</td><td>Holiday</td><td>45742</td></tr>",
                            "<tr><td>Winter</td><td>Yes</td><td>Holiday</td><td>30072</td></tr>",
                            "<tr><td>Spring</td><td>No</td><td>No Holiday</td><td>0</td></tr>",
                            "<tr><td>Autumn</td><td>No</td><td>No Holiday</td><td>0</td></tr>",
                            "<tr><td>Autumn</td><td>No</td><td>Holiday</td><td>0</td></tr>",
                            "</table>"
                        ]
                    }
                }
            ],
            "execution_count": 56
        },
        {
            "cell_type": "markdown",
            "source": [
                "**\\_\\_\\_\\_\\_\\_\\_\\_\\_\\_\\_\\_\\_\\_\\_\\_\\_\\_\\_\\_\\_\\_\\_\\_\\_\\_\\_\\_\\_\\_\\_\\_\\_\\_\\_\\_\\_\\_\\_\\_\\_\\_\\_\\_\\_\\_\\_\\_\\_\\_\\_\\_\\_\\_\\_\\_\\_\\_\\_\\_\\_\\_\\_\\_\\_\\_\\_\\_\\_\\_\\_\\_\\_\\_\\_\\_\\_\\_\\_\\_\\_\\_\\_\\_\\_\\_\\_\\_\\_\\_\\_\\_\\_\\_\\_\\_\\_\\_\\_\\_\\_\\_\\_\\_\\_\\_\\_\\_\\_\\_\\_\\_\\_\\_\\_\\_\\_\\_\\_\\_\\_\\_\\_\\_\\_\\_\\_\\_\\_\\_\\_\\_\\_\\_\\_\\_\\_\\_\\_\\_\\_\\_\\_\\_\\_\\_\\_\\_\\_\\_\\_\\_\\_\\_\\_\\_\\_\\_\\_\\_\\_\\_\\_\\_**"
            ],
            "metadata": {
                "language": "sql",
                "azdata_cell_guid": "73a3b646-79c0-4693-8017-3b5ac74cf169"
            },
            "attachments": {}
        },
        {
            "cell_type": "markdown",
            "source": [
                "# **\\[ANALYSING CORRELATION OF KEY METRICS\\]**"
            ],
            "metadata": {
                "language": "sql",
                "azdata_cell_guid": "fb8d6561-62e1-4bc9-bf01-0a9f866dfa8f"
            },
            "attachments": {}
        },
        {
            "cell_type": "markdown",
            "source": [
                "**CATEGORISING ENVIRONMENTAL INFLUENCERS**\n",
                "\n",
                "With so many dimensions and spreadout data points, it becomes difficult to evaluate until what level people can feel motivated to or be driven away from renting a bike to cycle around Seoul. So, we may think: Do these cyclers prefer humid air or they actually don't like getting sweaty? Summer feels too hot or they just don't mind it? How much strong winds have to be to make people refrain from hopping on a bike? Let's now clear up any doubts we might have about how weather and climate can influence these behaviours and then we may find some leads for further investigation.\n",
                "\n",
                "But first, because each dimension has its own data range with continuous values and each end representing a different human sensation or real-world outcome, I decided to categorise them all in 3 levels of intensity with a diagram placed below the output of my following query to facilitate the interpretation of the results — these are things like _Intensity 0_ representing most of the times comfortable or calm situations up to _Intensity 2_, representing challenging situations for cyclers such as more extreme weather or climate. Also, the range of metrics decided for each intensity classification are based on external resources found in government websites, scientific papers and blogs, and the link for them can be found on the hyperlinks in the diagram.\n",
                "\n",
                "Then, after grouping up the data into bins, I will retrieve the _<u>average hourly count of rented bikes</u>_ to be linked to each _Intensity_ classification in my query output.."
            ],
            "metadata": {
                "language": "sql",
                "azdata_cell_guid": "b008082f-d49d-447f-911e-201d46bff5c6"
            },
            "attachments": {}
        },
        {
            "cell_type": "code",
            "source": [
                "-- [CREATING CTEs FOR KEY METRICS AND BINNING THEM INTO THE SAME CATEGORY NAMES] --\r\n",
                "WITH t AS (SELECT *, CASE\r\n",
                "                WHEN Temperature_C < -0.001 THEN 'Intensity 2'\r\n",
                "                WHEN Temperature_C BETWEEN 0 AND 20 THEN 'Intensity 1'\r\n",
                "                ELSE 'Intensity 0' END AS Temperature\r\n",
                "           FROM UsageStats),\r\n",
                "     h AS (SELECT *, CASE\r\n",
                "                WHEN Humidity > 70.001 THEN 'Intensity 2'\r\n",
                "                WHEN Humidity BETWEEN 30.001 AND 70 THEN 'Intensity 1'\r\n",
                "                ELSE 'Intensity 0' END AS HumidWeather\r\n",
                "           FROM UsageStats),\r\n",
                "     w AS (SELECT *, CASE\r\n",
                "                WHEN Wind_speed_m_s > 5.001 THEN 'Intensity 2'\r\n",
                "                WHEN Wind_speed_m_s BETWEEN 2.501 AND 5 THEN 'Intensity 1'\r\n",
                "                ELSE 'Intensity 0' END AS WindSpeed\r\n",
                "           FROM UsageStats),\r\n",
                "     r AS (SELECT *, CASE\r\n",
                "                WHEN Rainfall_mm > 10 THEN 'Intensity 2'\r\n",
                "                WHEN Rainfall_mm BETWEEN 2.001 AND 10 THEN 'Intensity 1'\r\n",
                "                ELSE 'Intensity 0' END AS Rainfall\r\n",
                "           FROM UsageStats),\r\n",
                "     s AS (SELECT *, CASE\r\n",
                "                WHEN Snowfall_cm > 5.001 THEN 'Intensity 2'\r\n",
                "                WHEN Snowfall_cm BETWEEN 2.5 AND 5 THEN 'Intensity 1'\r\n",
                "                ELSE 'Intensity 0' END AS Snowfall\r\n",
                "           FROM UsageStats)\r\n",
                "\r\n",
                "------ [FETCHING THE CATEGORIES AND ADDING THE DERIVED TABLES UNDERNEATH AS EXTRA COLUMNS] -------\r\n",
                "SELECT \r\n",
                "    Temperature AS 'Intensity Level', AVG(Rented_Bike_Count) 'Temperature',\r\n",
                "    h1.Avg4Humid AS 'Humidity', w1.Avg4Wind AS 'Wind_Speed',\r\n",
                "    r1.Avg4Rain AS 'Rainfall',  s1.Avg4Snow AS 'Snowfall'\r\n",
                "FROM t\r\n",
                "\r\n",
                "----------- [JOINING THE COMMON TABLE EXPRESSIONS AND FETCHING AVERAGE HOURLY COUNT OF RENTALS FOR EACH DIMENSION] -------------\r\n",
                "    JOIN (SELECT HumidWeather, AVG(Rented_Bike_Count) Avg4Humid FROM h GROUP BY HumidWeather) h1 ON t.Temperature = h1.HumidWeather\r\n",
                "    JOIN (SELECT WindSpeed, AVG(Rented_Bike_Count) Avg4Wind FROM w GROUP BY WindSpeed) w1        ON t.Temperature = w1.WindSpeed\r\n",
                "    JOIN (SELECT Rainfall, AVG(Rented_Bike_Count) Avg4Rain FROM r GROUP BY Rainfall) r1          ON t.Temperature = r1.Rainfall\r\n",
                "    JOIN (SELECT Snowfall, AVG(Rented_Bike_Count) Avg4Snow FROM s GROUP BY Snowfall) s1          ON t.Temperature = s1.Snowfall\r\n",
                "\r\n",
                "---[ENDING QUERY]---\r\n",
                "GROUP BY Temperature, h1.Avg4Humid, w1.Avg4Wind, r1.Avg4Rain, s1.Avg4Snow"
            ],
            "metadata": {
                "language": "sql",
                "azdata_cell_guid": "6fe023ea-6016-4063-b60a-e8132128095e",
                "tags": [
                    "hide_input"
                ]
            },
            "outputs": [
                {
                    "output_type": "display_data",
                    "data": {
                        "text/html": "(3 rows affected)"
                    },
                    "metadata": {}
                },
                {
                    "output_type": "display_data",
                    "data": {
                        "text/html": "Total execution time: 00:00:00.070"
                    },
                    "metadata": {}
                },
                {
                    "output_type": "execute_result",
                    "metadata": {},
                    "execution_count": 41,
                    "data": {
                        "application/vnd.dataresource+json": {
                            "schema": {
                                "fields": [
                                    {
                                        "name": "Intensity Level"
                                    },
                                    {
                                        "name": "Temperature"
                                    },
                                    {
                                        "name": "Humidity"
                                    },
                                    {
                                        "name": "Wind_Speed"
                                    },
                                    {
                                        "name": "Rainfall"
                                    },
                                    {
                                        "name": "Snowfall"
                                    }
                                ]
                            },
                            "data": [
                                {
                                    "0": "Intensity 0",
                                    "1": "1117",
                                    "2": "708",
                                    "3": "682",
                                    "4": "715",
                                    "5": "710"
                                },
                                {
                                    "0": "Intensity 1",
                                    "1": "598",
                                    "2": "805",
                                    "3": "794",
                                    "4": "86",
                                    "5": "159"
                                },
                                {
                                    "0": "Intensity 2",
                                    "1": "197",
                                    "2": "495",
                                    "3": "591",
                                    "4": "85",
                                    "5": "111"
                                }
                            ]
                        },
                        "text/html": [
                            "<table>",
                            "<tr><th>Intensity Level</th><th>Temperature</th><th>Humidity</th><th>Wind_Speed</th><th>Rainfall</th><th>Snowfall</th></tr>",
                            "<tr><td>Intensity 0</td><td>1117</td><td>708</td><td>682</td><td>715</td><td>710</td></tr>",
                            "<tr><td>Intensity 1</td><td>598</td><td>805</td><td>794</td><td>86</td><td>159</td></tr>",
                            "<tr><td>Intensity 2</td><td>197</td><td>495</td><td>591</td><td>85</td><td>111</td></tr>",
                            "</table>"
                        ]
                    }
                }
            ],
            "execution_count": 41
        },
        {
            "cell_type": "markdown",
            "source": [
                "**OUTPUT LEGEND:**\n",
                "\n",
                "<u>**Level**</u>           |  [<u>**Temperature**</u>](https://thinkmetric.uk/basics/temperature)      |  [**<u>Humidity</u>**](https://yourairexperts.com/blog/how-dry-air-affects-home/#:~:text=The%2520ideal%2520relative%2520humidity%2520level,of%2520moisture%2520as%2520warm%2520air.)    |  [**<u>Wind Speed</u>**](https://www.weather.gov/pqr/wind)                           |  [**<u>Rainfall</u>**](https://water.usgs.gov/edu/activity-howmuchrain-metric.html#:~:text=Slight%20rain%3A%20Less%20than%200.5,than%208%20mm%20per%20hour.)                        |  [**<u>Snowfall</u>**](https://www.sciencedirect.com/science/article/pii/S1470160X20311882#:~:text=A%2520day%2520is%2520remarked%2520as,if%2520higher%2520than%252010%2520mm.)                  |\n",
                "\n",
                "<span style=\"background-color: rgba(127, 127, 127, 0.1);\">Intensity 0&nbsp; &nbsp;|&nbsp; Warm to Hot&nbsp; &nbsp; &nbsp; &nbsp;|&nbsp; Humid Air&nbsp; &nbsp; |&nbsp; Calmness to Light Air&nbsp; &nbsp; &nbsp; &nbsp; &nbsp; &nbsp; &nbsp;|&nbsp; &nbsp;Slight Shower&nbsp; &nbsp; &nbsp; &nbsp; &nbsp; &nbsp; &nbsp; |&nbsp;&nbsp;Light Snow&nbsp; &nbsp; &nbsp; &nbsp; &nbsp; &nbsp; &nbsp; &nbsp;|</span>\n",
                "\n",
                "<span style=\"background-color: rgba(127, 127, 127, 0.1);\">Intensity 1&nbsp; &nbsp;|&nbsp; Cool to Chilly&nbsp; &nbsp; &nbsp; |&nbsp; Normal&nbsp; &nbsp; &nbsp; &nbsp; &nbsp;|&nbsp; Light to Gentle Breeze&nbsp; &nbsp; &nbsp; &nbsp; &nbsp; &nbsp;|&nbsp; &nbsp;Moderate Shower&nbsp; &nbsp; &nbsp; &nbsp; |&nbsp;&nbsp;Medium Snow&nbsp; &nbsp; &nbsp; &nbsp; &nbsp;|</span>\n",
                "\n",
                "<span style=\"background-color: rgba(127, 127, 127, 0.1);\">Intensity 2&nbsp; &nbsp;|&nbsp; Freezing Cold&nbsp; &nbsp; &nbsp;|&nbsp; Dry Air&nbsp; &nbsp; &nbsp; &nbsp; &nbsp; |&nbsp; Moderate to Strong Breeze&nbsp; &nbsp; |&nbsp; Heavy Shower&nbsp; &nbsp; &nbsp; &nbsp; &nbsp; &nbsp; &nbsp; |&nbsp;&nbsp;Heavy Snow&nbsp; &nbsp; &nbsp; &nbsp; &nbsp; &nbsp; &nbsp;|</span>"
            ],
            "metadata": {
                "language": "sql",
                "azdata_cell_guid": "cee4b2e3-8b1a-4437-9636-b32d44dffc60"
            },
            "attachments": {}
        },
        {
            "cell_type": "markdown",
            "source": [
                "**COMMENT ON RESULTS:** \n",
                "\n",
                "- It is important to note that the dataset doesn't contain any recorded events with wind speed over 7 m/s. Which could be explained by Seoul having its windiest month\n",
                "- Biggest influencers:"
            ],
            "metadata": {
                "language": "sql",
                "azdata_cell_guid": "77f42225-e7a1-4304-94eb-076cca7205a9"
            },
            "attachments": {}
        },
        {
            "cell_type": "markdown",
            "source": [
                "**\\_\\_\\_\\_\\_\\_\\_\\_\\_\\_\\_\\_\\_\\_\\_\\_\\_\\_\\_\\_\\_\\_\\_\\_\\_\\_\\_\\_\\_\\_\\_\\_\\_\\_\\_\\_\\_\\_\\_\\_\\_\\_\\_\\_\\_\\_\\_\\_\\_\\_\\_\\_\\_\\_\\_\\_\\_\\_\\_\\_\\_\\_\\_\\_\\_\\_\\_\\_\\_\\_\\_\\_\\_\\_\\_\\_\\_\\_\\_\\_\\_\\_\\_\\_\\_\\_\\_\\_\\_\\_\\_\\_\\_\\_\\_\\_\\_\\_\\_\\_\\_\\_\\_\\_\\_\\_\\_\\_\\_\\_\\_\\_\\_\\_\\_\\_\\_\\_\\_\\_\\_\\_\\_\\_\\_\\_\\_\\_\\_\\_\\_\\_\\_\\_\\_\\_\\_\\_\\_\\_\\_\\_\\_\\_\\_\\_\\_\\_\\_\\_\\_\\_\\_\\_\\_\\_\\_\\_\\_\\_\\_\\_\\_\\_**"
            ],
            "metadata": {
                "language": "sql",
                "azdata_cell_guid": "212e931c-75f0-48c9-b00f-55cc3eb37832"
            },
            "attachments": {}
        },
        {
            "cell_type": "markdown",
            "source": [
                "# **\\[CONCLUSIONS\\]**\n",
                "\n",
                "- The patterns observed in the time series analysis suggest that bike sharing in Seoul's winter may be favoured more by commuters than holidaymakers or other casual travellers.\n",
                "- In a nutshell, weekdays have performed better than weekends in all seasons with Summer and Autumn being the most demanded by cyclists."
            ],
            "metadata": {
                "language": "sql",
                "azdata_cell_guid": "68b8f6bc-5135-4582-b83f-8b5073111ca0"
            },
            "attachments": {}
        },
        {
            "cell_type": "code",
            "source": [
                "SELECT\r\n",
                "    AVG(Rented_Bike_Count)\r\n",
                "FROM UsageStats\r\n",
                ""
            ],
            "metadata": {
                "language": "sql",
                "azdata_cell_guid": "ea2407bb-5167-4453-8e25-2c7f8b5d6ee8"
            },
            "outputs": [
                {
                    "output_type": "display_data",
                    "data": {
                        "text/html": "(1 row affected)"
                    },
                    "metadata": {}
                },
                {
                    "output_type": "display_data",
                    "data": {
                        "text/html": "Total execution time: 00:00:00.014"
                    },
                    "metadata": {}
                },
                {
                    "output_type": "execute_result",
                    "execution_count": 56,
                    "data": {
                        "application/vnd.dataresource+json": {
                            "schema": {
                                "fields": [
                                    {
                                        "name": "(No column name)"
                                    }
                                ]
                            },
                            "data": [
                                {
                                    "0": "704"
                                }
                            ]
                        },
                        "text/html": "<table><tr><th>(No column name)</th></tr><tr><td>704</td></tr></table>"
                    },
                    "metadata": {}
                }
            ],
            "execution_count": 56
        }
    ]
}